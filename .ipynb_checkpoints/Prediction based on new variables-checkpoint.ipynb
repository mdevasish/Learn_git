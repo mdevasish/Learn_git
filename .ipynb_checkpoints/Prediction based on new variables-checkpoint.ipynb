{
 "cells": [
  {
   "cell_type": "code",
   "execution_count": 1,
   "metadata": {},
   "outputs": [],
   "source": [
    "import pandas as pd\n",
    "from sklearn.metrics import accuracy_score\n",
    "from sklearn.model_selection import train_test_split,GridSearchCV,StratifiedKFold\n",
    "from xgboost import XGBClassifier\n",
    "from sklearn.ensemble import RandomForestClassifier,AdaBoostClassifier,ExtraTreesClassifier\n",
    "from catboost import CatBoostClassifier\n",
    "from lightgbm import LGBMClassifier\n",
    "import numpy as np\n",
    "import seaborn as sns\n",
    "import matplotlib.pyplot as plt\n",
    "import missingno as msno\n",
    "from sklearn.preprocessing import LabelEncoder"
   ]
  },
  {
   "cell_type": "code",
   "execution_count": 2,
   "metadata": {},
   "outputs": [],
   "source": [
    "train = pd.read_csv('./Data/train.csv')\n",
    "test = pd.read_csv('./Data/test.csv')\n",
    "submission = pd.read_csv('./Data/sample_submission.csv')"
   ]
  },
  {
   "cell_type": "code",
   "execution_count": 3,
   "metadata": {},
   "outputs": [
    {
     "data": {
      "text/html": [
       "<div>\n",
       "<style scoped>\n",
       "    .dataframe tbody tr th:only-of-type {\n",
       "        vertical-align: middle;\n",
       "    }\n",
       "\n",
       "    .dataframe tbody tr th {\n",
       "        vertical-align: top;\n",
       "    }\n",
       "\n",
       "    .dataframe thead th {\n",
       "        text-align: right;\n",
       "    }\n",
       "</style>\n",
       "<table border=\"1\" class=\"dataframe\">\n",
       "  <thead>\n",
       "    <tr style=\"text-align: right;\">\n",
       "      <th></th>\n",
       "      <th>Trip_ID</th>\n",
       "      <th>Trip_Distance</th>\n",
       "      <th>Type_of_Cab</th>\n",
       "      <th>Customer_Since_Months</th>\n",
       "      <th>Life_Style_Index</th>\n",
       "      <th>Confidence_Life_Style_Index</th>\n",
       "      <th>Destination_Type</th>\n",
       "      <th>Customer_Rating</th>\n",
       "      <th>Cancellation_Last_1Month</th>\n",
       "      <th>Var1</th>\n",
       "      <th>Var2</th>\n",
       "      <th>Var3</th>\n",
       "      <th>Gender</th>\n",
       "      <th>Surge_Pricing_Type</th>\n",
       "    </tr>\n",
       "  </thead>\n",
       "  <tbody>\n",
       "    <tr>\n",
       "      <th>0</th>\n",
       "      <td>T0005689460</td>\n",
       "      <td>6.77</td>\n",
       "      <td>B</td>\n",
       "      <td>1.0</td>\n",
       "      <td>2.42769</td>\n",
       "      <td>A</td>\n",
       "      <td>A</td>\n",
       "      <td>3.90500</td>\n",
       "      <td>0</td>\n",
       "      <td>40.0</td>\n",
       "      <td>46</td>\n",
       "      <td>60</td>\n",
       "      <td>Female</td>\n",
       "      <td>2</td>\n",
       "    </tr>\n",
       "    <tr>\n",
       "      <th>1</th>\n",
       "      <td>T0005689461</td>\n",
       "      <td>29.47</td>\n",
       "      <td>B</td>\n",
       "      <td>10.0</td>\n",
       "      <td>2.78245</td>\n",
       "      <td>B</td>\n",
       "      <td>A</td>\n",
       "      <td>3.45000</td>\n",
       "      <td>0</td>\n",
       "      <td>38.0</td>\n",
       "      <td>56</td>\n",
       "      <td>78</td>\n",
       "      <td>Male</td>\n",
       "      <td>2</td>\n",
       "    </tr>\n",
       "    <tr>\n",
       "      <th>2</th>\n",
       "      <td>T0005689464</td>\n",
       "      <td>41.58</td>\n",
       "      <td>NaN</td>\n",
       "      <td>10.0</td>\n",
       "      <td>NaN</td>\n",
       "      <td>NaN</td>\n",
       "      <td>E</td>\n",
       "      <td>3.50125</td>\n",
       "      <td>2</td>\n",
       "      <td>NaN</td>\n",
       "      <td>56</td>\n",
       "      <td>77</td>\n",
       "      <td>Male</td>\n",
       "      <td>2</td>\n",
       "    </tr>\n",
       "    <tr>\n",
       "      <th>3</th>\n",
       "      <td>T0005689465</td>\n",
       "      <td>61.56</td>\n",
       "      <td>C</td>\n",
       "      <td>10.0</td>\n",
       "      <td>NaN</td>\n",
       "      <td>NaN</td>\n",
       "      <td>A</td>\n",
       "      <td>3.45375</td>\n",
       "      <td>0</td>\n",
       "      <td>NaN</td>\n",
       "      <td>52</td>\n",
       "      <td>74</td>\n",
       "      <td>Male</td>\n",
       "      <td>3</td>\n",
       "    </tr>\n",
       "    <tr>\n",
       "      <th>4</th>\n",
       "      <td>T0005689467</td>\n",
       "      <td>54.95</td>\n",
       "      <td>C</td>\n",
       "      <td>10.0</td>\n",
       "      <td>3.03453</td>\n",
       "      <td>B</td>\n",
       "      <td>A</td>\n",
       "      <td>3.40250</td>\n",
       "      <td>4</td>\n",
       "      <td>51.0</td>\n",
       "      <td>49</td>\n",
       "      <td>102</td>\n",
       "      <td>Male</td>\n",
       "      <td>2</td>\n",
       "    </tr>\n",
       "    <tr>\n",
       "      <th>...</th>\n",
       "      <td>...</td>\n",
       "      <td>...</td>\n",
       "      <td>...</td>\n",
       "      <td>...</td>\n",
       "      <td>...</td>\n",
       "      <td>...</td>\n",
       "      <td>...</td>\n",
       "      <td>...</td>\n",
       "      <td>...</td>\n",
       "      <td>...</td>\n",
       "      <td>...</td>\n",
       "      <td>...</td>\n",
       "      <td>...</td>\n",
       "      <td>...</td>\n",
       "    </tr>\n",
       "    <tr>\n",
       "      <th>131657</th>\n",
       "      <td>T0005908509</td>\n",
       "      <td>11.72</td>\n",
       "      <td>D</td>\n",
       "      <td>1.0</td>\n",
       "      <td>2.74229</td>\n",
       "      <td>A</td>\n",
       "      <td>A</td>\n",
       "      <td>3.28500</td>\n",
       "      <td>0</td>\n",
       "      <td>61.0</td>\n",
       "      <td>47</td>\n",
       "      <td>76</td>\n",
       "      <td>Male</td>\n",
       "      <td>3</td>\n",
       "    </tr>\n",
       "    <tr>\n",
       "      <th>131658</th>\n",
       "      <td>T0005908510</td>\n",
       "      <td>74.81</td>\n",
       "      <td>C</td>\n",
       "      <td>7.0</td>\n",
       "      <td>2.81059</td>\n",
       "      <td>C</td>\n",
       "      <td>A</td>\n",
       "      <td>0.44500</td>\n",
       "      <td>0</td>\n",
       "      <td>NaN</td>\n",
       "      <td>63</td>\n",
       "      <td>88</td>\n",
       "      <td>Male</td>\n",
       "      <td>2</td>\n",
       "    </tr>\n",
       "    <tr>\n",
       "      <th>131659</th>\n",
       "      <td>T0005908512</td>\n",
       "      <td>40.17</td>\n",
       "      <td>C</td>\n",
       "      <td>10.0</td>\n",
       "      <td>2.99565</td>\n",
       "      <td>B</td>\n",
       "      <td>A</td>\n",
       "      <td>3.33625</td>\n",
       "      <td>0</td>\n",
       "      <td>NaN</td>\n",
       "      <td>48</td>\n",
       "      <td>75</td>\n",
       "      <td>Female</td>\n",
       "      <td>2</td>\n",
       "    </tr>\n",
       "    <tr>\n",
       "      <th>131660</th>\n",
       "      <td>T0005908513</td>\n",
       "      <td>46.88</td>\n",
       "      <td>B</td>\n",
       "      <td>4.0</td>\n",
       "      <td>3.04744</td>\n",
       "      <td>A</td>\n",
       "      <td>B</td>\n",
       "      <td>4.15750</td>\n",
       "      <td>1</td>\n",
       "      <td>47.0</td>\n",
       "      <td>54</td>\n",
       "      <td>79</td>\n",
       "      <td>Male</td>\n",
       "      <td>2</td>\n",
       "    </tr>\n",
       "    <tr>\n",
       "      <th>131661</th>\n",
       "      <td>T0005908514</td>\n",
       "      <td>31.96</td>\n",
       "      <td>A</td>\n",
       "      <td>7.0</td>\n",
       "      <td>2.93773</td>\n",
       "      <td>A</td>\n",
       "      <td>E</td>\n",
       "      <td>2.63875</td>\n",
       "      <td>1</td>\n",
       "      <td>102.0</td>\n",
       "      <td>57</td>\n",
       "      <td>85</td>\n",
       "      <td>Male</td>\n",
       "      <td>1</td>\n",
       "    </tr>\n",
       "  </tbody>\n",
       "</table>\n",
       "<p>131662 rows × 14 columns</p>\n",
       "</div>"
      ],
      "text/plain": [
       "            Trip_ID  Trip_Distance Type_of_Cab  Customer_Since_Months  \\\n",
       "0       T0005689460           6.77           B                    1.0   \n",
       "1       T0005689461          29.47           B                   10.0   \n",
       "2       T0005689464          41.58         NaN                   10.0   \n",
       "3       T0005689465          61.56           C                   10.0   \n",
       "4       T0005689467          54.95           C                   10.0   \n",
       "...             ...            ...         ...                    ...   \n",
       "131657  T0005908509          11.72           D                    1.0   \n",
       "131658  T0005908510          74.81           C                    7.0   \n",
       "131659  T0005908512          40.17           C                   10.0   \n",
       "131660  T0005908513          46.88           B                    4.0   \n",
       "131661  T0005908514          31.96           A                    7.0   \n",
       "\n",
       "        Life_Style_Index Confidence_Life_Style_Index Destination_Type  \\\n",
       "0                2.42769                           A                A   \n",
       "1                2.78245                           B                A   \n",
       "2                    NaN                         NaN                E   \n",
       "3                    NaN                         NaN                A   \n",
       "4                3.03453                           B                A   \n",
       "...                  ...                         ...              ...   \n",
       "131657           2.74229                           A                A   \n",
       "131658           2.81059                           C                A   \n",
       "131659           2.99565                           B                A   \n",
       "131660           3.04744                           A                B   \n",
       "131661           2.93773                           A                E   \n",
       "\n",
       "        Customer_Rating  Cancellation_Last_1Month   Var1  Var2  Var3  Gender  \\\n",
       "0               3.90500                         0   40.0    46    60  Female   \n",
       "1               3.45000                         0   38.0    56    78    Male   \n",
       "2               3.50125                         2    NaN    56    77    Male   \n",
       "3               3.45375                         0    NaN    52    74    Male   \n",
       "4               3.40250                         4   51.0    49   102    Male   \n",
       "...                 ...                       ...    ...   ...   ...     ...   \n",
       "131657          3.28500                         0   61.0    47    76    Male   \n",
       "131658          0.44500                         0    NaN    63    88    Male   \n",
       "131659          3.33625                         0    NaN    48    75  Female   \n",
       "131660          4.15750                         1   47.0    54    79    Male   \n",
       "131661          2.63875                         1  102.0    57    85    Male   \n",
       "\n",
       "        Surge_Pricing_Type  \n",
       "0                        2  \n",
       "1                        2  \n",
       "2                        2  \n",
       "3                        3  \n",
       "4                        2  \n",
       "...                    ...  \n",
       "131657                   3  \n",
       "131658                   2  \n",
       "131659                   2  \n",
       "131660                   2  \n",
       "131661                   1  \n",
       "\n",
       "[131662 rows x 14 columns]"
      ]
     },
     "execution_count": 3,
     "metadata": {},
     "output_type": "execute_result"
    }
   ],
   "source": [
    "train"
   ]
  },
  {
   "cell_type": "code",
   "execution_count": 4,
   "metadata": {
    "scrolled": true
   },
   "outputs": [
    {
     "name": "stdout",
     "output_type": "stream",
     "text": [
      "<class 'pandas.core.frame.DataFrame'>\n",
      "RangeIndex: 131662 entries, 0 to 131661\n",
      "Data columns (total 14 columns):\n",
      " #   Column                       Non-Null Count   Dtype  \n",
      "---  ------                       --------------   -----  \n",
      " 0   Trip_ID                      131662 non-null  object \n",
      " 1   Trip_Distance                131662 non-null  float64\n",
      " 2   Type_of_Cab                  111452 non-null  object \n",
      " 3   Customer_Since_Months        125742 non-null  float64\n",
      " 4   Life_Style_Index             111469 non-null  float64\n",
      " 5   Confidence_Life_Style_Index  111469 non-null  object \n",
      " 6   Destination_Type             131662 non-null  object \n",
      " 7   Customer_Rating              131662 non-null  float64\n",
      " 8   Cancellation_Last_1Month     131662 non-null  int64  \n",
      " 9   Var1                         60632 non-null   float64\n",
      " 10  Var2                         131662 non-null  int64  \n",
      " 11  Var3                         131662 non-null  int64  \n",
      " 12  Gender                       131662 non-null  object \n",
      " 13  Surge_Pricing_Type           131662 non-null  int64  \n",
      "dtypes: float64(5), int64(4), object(5)\n",
      "memory usage: 14.1+ MB\n"
     ]
    }
   ],
   "source": [
    "train.info()"
   ]
  },
  {
   "cell_type": "code",
   "execution_count": 5,
   "metadata": {},
   "outputs": [
    {
     "data": {
      "text/plain": [
       "Trip_ID                         0.000000\n",
       "Trip_Distance                   0.000000\n",
       "Type_of_Cab                    15.349911\n",
       "Customer_Since_Months           4.496362\n",
       "Life_Style_Index               15.336999\n",
       "Confidence_Life_Style_Index    15.336999\n",
       "Destination_Type                0.000000\n",
       "Customer_Rating                 0.000000\n",
       "Cancellation_Last_1Month        0.000000\n",
       "Var1                           53.948748\n",
       "Var2                            0.000000\n",
       "Var3                            0.000000\n",
       "Gender                          0.000000\n",
       "Surge_Pricing_Type              0.000000\n",
       "dtype: float64"
      ]
     },
     "execution_count": 5,
     "metadata": {},
     "output_type": "execute_result"
    }
   ],
   "source": [
    "train.isna().sum()/len(train) * 100"
   ]
  },
  {
   "cell_type": "code",
   "execution_count": 6,
   "metadata": {
    "scrolled": true
   },
   "outputs": [
    {
     "data": {
      "text/plain": [
       "<matplotlib.axes._subplots.AxesSubplot at 0x1b918ec0ec8>"
      ]
     },
     "execution_count": 6,
     "metadata": {},
     "output_type": "execute_result"
    },
    {
     "data": {
      "image/png": "[encoded data removed]",
      "text/plain": [
       "<Figure size 432x288 with 1 Axes>"
      ]
     },
     "metadata": {
      "needs_background": "light"
     },
     "output_type": "display_data"
    }
   ],
   "source": [
    "sns.countplot(x = 'Type_of_Cab',data = train)"
   ]
  },
  {
   "cell_type": "code",
   "execution_count": 7,
   "metadata": {
    "scrolled": true
   },
   "outputs": [
    {
     "data": {
      "text/plain": [
       "<matplotlib.axes._subplots.AxesSubplot at 0x1b919fc0248>"
      ]
     },
     "execution_count": 7,
     "metadata": {},
     "output_type": "execute_result"
    },
    {
     "data": {
      "image/png": "[encoded data removed]",
      "text/plain": [
       "<Figure size 1800x720 with 2 Axes>"
      ]
     },
     "metadata": {
      "needs_background": "light"
     },
     "output_type": "display_data"
    }
   ],
   "source": [
    "msno.matrix(train.sort_values(by = 'Life_Style_Index')) \n",
    "# Denotes that the columns life style index and the confidence are missing together"
   ]
  },
  {
   "cell_type": "code",
   "execution_count": 8,
   "metadata": {},
   "outputs": [],
   "source": [
    "train['Gender'] = train['Gender'].replace('Female',0).replace('Male',1)\n",
    "test['Gender'] = test['Gender'].replace('Female',0).replace('Male',1)\n",
    "train['Gender'] = train['Gender'].astype('category')\n",
    "test['Gender'] = test['Gender'].astype('category')"
   ]
  },
  {
   "cell_type": "code",
   "execution_count": 9,
   "metadata": {},
   "outputs": [
    {
     "data": {
      "text/plain": [
       "<matplotlib.axes._subplots.AxesSubplot at 0x1b923e97a08>"
      ]
     },
     "execution_count": 9,
     "metadata": {},
     "output_type": "execute_result"
    },
    {
     "data": {
      "image/png": "[encoded data removed]",
      "text/plain": [
       "<Figure size 432x288 with 1 Axes>"
      ]
     },
     "metadata": {
      "needs_background": "light"
     },
     "output_type": "display_data"
    }
   ],
   "source": [
    "sns.countplot('Gender',data = train) "
   ]
  },
  {
   "cell_type": "code",
   "execution_count": 10,
   "metadata": {
    "scrolled": false
   },
   "outputs": [
    {
     "data": {
      "text/plain": [
       "<matplotlib.axes._subplots.AxesSubplot at 0x1b923972d48>"
      ]
     },
     "execution_count": 10,
     "metadata": {},
     "output_type": "execute_result"
    },
    {
     "data": {
      "image/png": "[encoded data removed]",
      "text/plain": [
       "<Figure size 432x288 with 1 Axes>"
      ]
     },
     "metadata": {
      "needs_background": "light"
     },
     "output_type": "display_data"
    }
   ],
   "source": [
    "sns.countplot('Destination_Type',data = train) # Frequency encoding is required"
   ]
  },
  {
   "cell_type": "code",
   "execution_count": 11,
   "metadata": {},
   "outputs": [],
   "source": [
    "train['Type_of_Cab'].replace(np.NaN,'Null',inplace = True)\n",
    "test['Type_of_Cab'].replace(np.NaN,'Null',inplace = True)\n",
    "train['Type_of_Cab'] = train['Type_of_Cab'].astype('category')\n",
    "test['Type_of_Cab'] = test['Type_of_Cab'].astype('category')"
   ]
  },
  {
   "cell_type": "code",
   "execution_count": 12,
   "metadata": {
    "scrolled": true
   },
   "outputs": [
    {
     "data": {
      "text/plain": [
       "Type_of_Cab\n",
       "A       525545.0\n",
       "B       923771.0\n",
       "C       871787.0\n",
       "D       611114.0\n",
       "E       364310.0\n",
       "Null    596211.0\n",
       "Name: Var1, dtype: float64"
      ]
     },
     "execution_count": 12,
     "metadata": {},
     "output_type": "execute_result"
    }
   ],
   "source": [
    "train.groupby('Type_of_Cab')['Var1'].sum()"
   ]
  },
  {
   "cell_type": "code",
   "execution_count": 13,
   "metadata": {},
   "outputs": [],
   "source": [
    "x = np.log(train.groupby('Destination_Type')['Trip_ID'].count()).to_dict()\n",
    "train['Destination_Type'] = train['Destination_Type'].map(x)\n",
    "test['Destination_Type'] = test['Destination_Type'].map(x)"
   ]
  },
  {
   "cell_type": "code",
   "execution_count": 14,
   "metadata": {},
   "outputs": [],
   "source": [
    "le = LabelEncoder()\n",
    "train['Type_of_Cab'] = le.fit_transform(train['Type_of_Cab'])\n",
    "test['Type_of_Cab'] = le.transform(test['Type_of_Cab'])"
   ]
  },
  {
   "cell_type": "code",
   "execution_count": 15,
   "metadata": {},
   "outputs": [],
   "source": [
    "train.drop('Var1',inplace = True,axis = 1)\n",
    "test.drop('Var1',inplace = True,axis = 1)"
   ]
  },
  {
   "cell_type": "code",
   "execution_count": 16,
   "metadata": {
    "scrolled": true
   },
   "outputs": [
    {
     "data": {
      "text/plain": [
       "Type_of_Cab\n",
       "0    4.85378\n",
       "1    4.59115\n",
       "2    4.07072\n",
       "3    4.65904\n",
       "4    4.87511\n",
       "5    4.30083\n",
       "Name: Life_Style_Index, dtype: float64"
      ]
     },
     "execution_count": 16,
     "metadata": {},
     "output_type": "execute_result"
    }
   ],
   "source": [
    "#train['exp'] = np.exp(train['Life_Style_Index'])\n",
    "train.groupby('Type_of_Cab')['Life_Style_Index'].max()"
   ]
  },
  {
   "cell_type": "code",
   "execution_count": 17,
   "metadata": {
    "scrolled": true
   },
   "outputs": [
    {
     "data": {
      "text/plain": [
       "<matplotlib.axes._subplots.AxesSubplot at 0x1b91a594608>"
      ]
     },
     "execution_count": 17,
     "metadata": {},
     "output_type": "execute_result"
    },
    {
     "data": {
      "image/png": "[encoded data removed]",
      "text/plain": [
       "<Figure size 432x288 with 1 Axes>"
      ]
     },
     "metadata": {
      "needs_background": "light"
     },
     "output_type": "display_data"
    }
   ],
   "source": [
    "sns.countplot(x = 'Customer_Since_Months',data = train)\n",
    "#train.info()"
   ]
  },
  {
   "cell_type": "code",
   "execution_count": 18,
   "metadata": {},
   "outputs": [],
   "source": [
    "train['Customer_Since_Months'] = train['Customer_Since_Months'].fillna(6)\n",
    "test['Customer_Since_Months'] = test['Customer_Since_Months'].fillna(6)"
   ]
  },
  {
   "cell_type": "code",
   "execution_count": 19,
   "metadata": {
    "scrolled": true
   },
   "outputs": [],
   "source": [
    "x,y = train['Life_Style_Index'].median(),train['Life_Style_Index'].mean()\n",
    "train['Life_Style_Index'] = train['Life_Style_Index'].fillna(x)\n",
    "test['Life_Style_Index'] = test['Life_Style_Index'].fillna(x)"
   ]
  },
  {
   "cell_type": "code",
   "execution_count": 20,
   "metadata": {
    "scrolled": false
   },
   "outputs": [
    {
     "data": {
      "text/plain": [
       "Confidence_Life_Style_Index\n",
       "A       35147\n",
       "B       40355\n",
       "C       35967\n",
       "Null    20193\n",
       "Name: Trip_ID, dtype: int64"
      ]
     },
     "execution_count": 20,
     "metadata": {},
     "output_type": "execute_result"
    }
   ],
   "source": [
    "train['Confidence_Life_Style_Index'] = train['Confidence_Life_Style_Index'].fillna('Null')\n",
    "test['Confidence_Life_Style_Index'] = test['Confidence_Life_Style_Index'].fillna('Null')\n",
    "train.groupby('Confidence_Life_Style_Index')['Trip_ID'].count()"
   ]
  },
  {
   "cell_type": "code",
   "execution_count": 21,
   "metadata": {
    "scrolled": false
   },
   "outputs": [],
   "source": [
    "a = LabelEncoder()\n",
    "train['Confidence_Life_Style_Index'] = a.fit_transform(train['Confidence_Life_Style_Index'])\n",
    "test['Confidence_Life_Style_Index'] = a.transform(test['Confidence_Life_Style_Index'])"
   ]
  },
  {
   "cell_type": "code",
   "execution_count": 22,
   "metadata": {
    "scrolled": true
   },
   "outputs": [
    {
     "data": {
      "text/plain": [
       "(array([[6.77, 1, 1.0, ..., 46, 60, 0],\n",
       "        [29.47, 1, 10.0, ..., 56, 78, 1],\n",
       "        [41.58, 5, 10.0, ..., 56, 77, 1],\n",
       "        ...,\n",
       "        [40.17, 2, 10.0, ..., 48, 75, 0],\n",
       "        [46.88, 1, 4.0, ..., 54, 79, 1],\n",
       "        [31.96, 0, 7.0, ..., 57, 85, 1]], dtype=object),\n",
       " array([2, 2, 2, ..., 2, 2, 1], dtype=int64))"
      ]
     },
     "execution_count": 22,
     "metadata": {},
     "output_type": "execute_result"
    }
   ],
   "source": [
    "X = train.iloc[:,1:12].values\n",
    "y = train.iloc[:,-1].values\n",
    "X,y"
   ]
  },
  {
   "cell_type": "code",
   "execution_count": 23,
   "metadata": {},
   "outputs": [],
   "source": [
    "X_train,X_test,y_train,y_test = train_test_split(X,y,test_size = 0.3,random_state = 42)"
   ]
  },
  {
   "cell_type": "code",
   "execution_count": 24,
   "metadata": {},
   "outputs": [
    {
     "data": {
      "text/plain": [
       "1.0"
      ]
     },
     "execution_count": 24,
     "metadata": {},
     "output_type": "execute_result"
    }
   ],
   "source": [
    "rf = RandomForestClassifier()\n",
    "rf.fit(X_train,y_train)\n",
    "rf.score(X_train,y_train)"
   ]
  },
  {
   "cell_type": "code",
   "execution_count": 25,
   "metadata": {},
   "outputs": [
    {
     "data": {
      "text/plain": [
       "0.6918402997544242"
      ]
     },
     "execution_count": 25,
     "metadata": {},
     "output_type": "execute_result"
    }
   ],
   "source": [
    "y_pred = rf.predict(X_test)\n",
    "accuracy_score(y_test,y_pred)"
   ]
  },
  {
   "cell_type": "code",
   "execution_count": 26,
   "metadata": {
    "scrolled": true
   },
   "outputs": [
    {
     "data": {
      "text/plain": [
       "(0.6948884305143025,\n",
       " {'max_features': 7, 'min_samples_leaf': 50, 'n_estimators': 100})"
      ]
     },
     "execution_count": 26,
     "metadata": {},
     "output_type": "execute_result"
    }
   ],
   "source": [
    "parameters = { 'max_features':np.arange(5,10),'n_estimators':[100],'min_samples_leaf': [10,50,100,200,500]}\n",
    "random_grid = GridSearchCV(rf, parameters, cv = 5,n_jobs = -1)\n",
    "random_grid.fit(X_train,y_train)\n",
    "random_grid.best_score_,random_grid.best_params_"
   ]
  },
  {
   "cell_type": "code",
   "execution_count": 27,
   "metadata": {},
   "outputs": [
    {
     "data": {
      "text/plain": [
       "0.6946504974809489"
      ]
     },
     "execution_count": 27,
     "metadata": {},
     "output_type": "execute_result"
    }
   ],
   "source": [
    "y_pred = random_grid.best_estimator_.predict(X_test)\n",
    "accuracy_score(y_test,y_pred)"
   ]
  },
  {
   "cell_type": "code",
   "execution_count": 28,
   "metadata": {},
   "outputs": [
    {
     "name": "stdout",
     "output_type": "stream",
     "text": [
      "Best score: 0.6839838946567751\n",
      "Best Params: {'max_depth': 6, 'min_samples_leaf': 10, 'n_estimators': 200}\n"
     ]
    }
   ],
   "source": [
    "# Iteration 1 rf:\n",
    "parameters = { 'max_depth':[4,6],'n_estimators':[100,200],'min_samples_leaf': [10,50,100,200]}\n",
    "random_grid = GridSearchCV(rf, parameters, cv = 5,n_jobs = -1)\n",
    "random_grid.fit(X_train,y_train)\n",
    "print('Best score:',random_grid.best_score_)\n",
    "print('Best Params:',random_grid.best_params_)"
   ]
  },
  {
   "cell_type": "code",
   "execution_count": 31,
   "metadata": {},
   "outputs": [
    {
     "data": {
      "text/plain": [
       "0.6860426846249272"
      ]
     },
     "execution_count": 31,
     "metadata": {},
     "output_type": "execute_result"
    }
   ],
   "source": [
    "y_pred = random_grid.best_estimator_.predict(X_test)\n",
    "accuracy_score(y_test,y_pred) #0.6861945872047394"
   ]
  },
  {
   "cell_type": "code",
   "execution_count": 30,
   "metadata": {},
   "outputs": [
    {
     "name": "stdout",
     "output_type": "stream",
     "text": [
      "Best score: 0.6842117174455385\n",
      "Best Params: {'max_depth': 6, 'min_samples_leaf': 10, 'n_estimators': 200}\n"
     ]
    }
   ],
   "source": [
    "# Iteration 2\n",
    "parameters = {'max_depth':[4,6],\n",
    "              'n_estimators':[100,200],\n",
    "              'min_samples_leaf': [10,50,100,200]}\n",
    "random_grid = GridSearchCV(rf, parameters, cv = StratifiedKFold(n_splits = 5, shuffle = True),n_jobs = -1)\n",
    "random_grid.fit(X_train,y_train)\n",
    "print('Best score:',random_grid.best_score_)\n",
    "print('Best Params:',random_grid.best_params_)"
   ]
  },
  {
   "cell_type": "code",
   "execution_count": 29,
   "metadata": {},
   "outputs": [
    {
     "data": {
      "text/plain": [
       "0.6856376110787615"
      ]
     },
     "execution_count": 29,
     "metadata": {},
     "output_type": "execute_result"
    }
   ],
   "source": [
    "y_pred = random_grid.best_estimator_.predict(X_test)\n",
    "accuracy_score(y_test,y_pred) #0.6861945872047394"
   ]
  },
  {
   "cell_type": "code",
   "execution_count": 32,
   "metadata": {},
   "outputs": [
    {
     "data": {
      "text/plain": [
       "<BarContainer object of 11 artists>"
      ]
     },
     "execution_count": 32,
     "metadata": {},
     "output_type": "execute_result"
    },
    {
     "data": {
      "image/png": "[encoded data removed]",
      "text/plain": [
       "<Figure size 432x288 with 1 Axes>"
      ]
     },
     "metadata": {
      "needs_background": "light"
     },
     "output_type": "display_data"
    }
   ],
   "source": [
    "fimp = pd.DataFrame(zip(train.drop(['Surge_Pricing_Type','Trip_ID'],axis = 1).columns,rf.feature_importances_))\n",
    "fimp.columns = ['features','Score']\n",
    "\n",
    "sfimp =fimp.sort_values(by = 'Score')\n",
    "\n",
    "plt.barh(sfimp['features'],sfimp['Score'])"
   ]
  },
  {
   "cell_type": "code",
   "execution_count": 34,
   "metadata": {},
   "outputs": [],
   "source": [
    "test_X = test.iloc[:,1:12].values\n",
    "test_y = random_grid.best_estimator_.predict(test_X)\n",
    "\n",
    "sub_rf = pd.DataFrame()\n",
    "sub_rf['Trip_ID'] = submission['Trip_ID']\n",
    "sub_rf['Surge_Pricing_Type'] = test_y\n",
    "#sub_rf.to_csv('Random_Forest.csv',ignore_index = True)"
   ]
  },
  {
   "cell_type": "code",
   "execution_count": 35,
   "metadata": {},
   "outputs": [
    {
     "name": "stdout",
     "output_type": "stream",
     "text": [
      "Accuracy on train: 0.6876837776548073\n",
      "Accuracy on test: 0.6898655662168662\n"
     ]
    }
   ],
   "source": [
    "clf = AdaBoostClassifier(random_state = 41)\n",
    "clf.fit(X_train,y_train)\n",
    "\n",
    "print('Accuracy on train:',clf.score(X_train,y_train))\n",
    "print('Accuracy on test:',clf.score(X_test,y_test))"
   ]
  },
  {
   "cell_type": "code",
   "execution_count": 36,
   "metadata": {},
   "outputs": [
    {
     "data": {
      "text/plain": [
       "({'learning_rate': 0.75, 'n_estimators': 200},\n",
       " 0.689658574154822,\n",
       " AdaBoostClassifier(algorithm='SAMME.R', base_estimator=None, learning_rate=0.75,\n",
       "                    n_estimators=200, random_state=41))"
      ]
     },
     "execution_count": 36,
     "metadata": {},
     "output_type": "execute_result"
    }
   ],
   "source": [
    "parameters = [{'learning_rate' : [0.2,0.4,0.6,0.75,1],\n",
    "               'n_estimators' : [150,200,225,250]}]\n",
    "grid_search = GridSearchCV(estimator = clf,\n",
    "                           param_grid = parameters,\n",
    "                           scoring = 'accuracy',\n",
    "                           n_jobs = -1,\n",
    "                           cv = StratifiedKFold(n_splits = 5, shuffle = True) \n",
    ")\n",
    "grid = grid_search.fit(X_train,y_train)\n",
    "grid.best_params_, grid.best_score_,grid.best_estimator_"
   ]
  },
  {
   "cell_type": "code",
   "execution_count": 37,
   "metadata": {},
   "outputs": [
    {
     "data": {
      "text/plain": [
       "0.692042836527507"
      ]
     },
     "execution_count": 37,
     "metadata": {},
     "output_type": "execute_result"
    }
   ],
   "source": [
    "y_pred = grid.best_estimator_.predict(X_test)\n",
    "accuracy_score(y_test,y_pred)"
   ]
  },
  {
   "cell_type": "code",
   "execution_count": 38,
   "metadata": {},
   "outputs": [],
   "source": [
    "test_X = test.iloc[:,1:12].values\n",
    "test_y = grid.best_estimator_.predict(test_X)\n",
    "\n",
    "sub_ada = pd.DataFrame()\n",
    "sub_ada['Trip_ID'] = submission['Trip_ID']\n",
    "sub_ada['Surge_Pricing_Type'] = test_y\n",
    "#sub_ada.to_csv('Adaboost_grid1.csv',index = False)"
   ]
  },
  {
   "cell_type": "code",
   "execution_count": 39,
   "metadata": {
    "scrolled": true
   },
   "outputs": [
    {
     "data": {
      "text/plain": [
       "<BarContainer object of 11 artists>"
      ]
     },
     "execution_count": 39,
     "metadata": {},
     "output_type": "execute_result"
    },
    {
     "data": {
      "image/png": "[encoded data removed]",
      "text/plain": [
       "<Figure size 432x288 with 1 Axes>"
      ]
     },
     "metadata": {
      "needs_background": "light"
     },
     "output_type": "display_data"
    }
   ],
   "source": [
    "fimp = pd.DataFrame(zip(train.drop(['Surge_Pricing_Type','Trip_ID'],axis = 1).columns,grid.best_estimator_.feature_importances_))\n",
    "fimp.columns = ['features','Score']\n",
    "\n",
    "sfimp =fimp.sort_values(by = 'Score')\n",
    "\n",
    "plt.barh(sfimp['features'],sfimp['Score'])"
   ]
  },
  {
   "cell_type": "code",
   "execution_count": 40,
   "metadata": {},
   "outputs": [
    {
     "name": "stdout",
     "output_type": "stream",
     "text": [
      "Accuracy on train: 0.6876837776548073\n",
      "Accuracy on test: 0.6898655662168662\n"
     ]
    }
   ],
   "source": [
    "xgclf = XGBClassifier(random_state = 41)\n",
    "xgclf.fit(X_train,y_train)\n",
    "\n",
    "print('Accuracy on train:',clf.score(X_train,y_train))\n",
    "print('Accuracy on test:',clf.score(X_test,y_test))"
   ]
  },
  {
   "cell_type": "code",
   "execution_count": 41,
   "metadata": {},
   "outputs": [
    {
     "data": {
      "text/plain": [
       "({'learning_rate': 0.3,\n",
       "  'max_depth': 4,\n",
       "  'min_child_weight': 4,\n",
       "  'n_estimators': 75},\n",
       " 0.6985666911359157,\n",
       " XGBClassifier(base_score=0.5, booster=None, colsample_bylevel=1,\n",
       "               colsample_bynode=1, colsample_bytree=1, gamma=0, gpu_id=-1,\n",
       "               importance_type='gain', interaction_constraints=None,\n",
       "               learning_rate=0.3, max_delta_step=0, max_depth=4,\n",
       "               min_child_weight=4, missing=nan, monotone_constraints=None,\n",
       "               n_estimators=75, n_jobs=0, num_parallel_tree=1,\n",
       "               objective='multi:softprob', random_state=41, reg_alpha=0,\n",
       "               reg_lambda=1, scale_pos_weight=None, subsample=1,\n",
       "               tree_method=None, validate_parameters=False, verbosity=None))"
      ]
     },
     "execution_count": 41,
     "metadata": {},
     "output_type": "execute_result"
    }
   ],
   "source": [
    "parameters = [{'learning_rate' : [0.2,0.3,0.4],\n",
    "               'n_estimators' : [75,100],\n",
    "               'max_depth' : [3,4,5,6],\n",
    "               'min_child_weight':[1,3,4]}]\n",
    "grid_search = GridSearchCV(estimator = xgclf,\n",
    "                           param_grid = parameters,\n",
    "                           scoring = 'accuracy',\n",
    "                           n_jobs = -1,\n",
    "                           cv = StratifiedKFold(n_splits = 5, shuffle = True) \n",
    ")\n",
    "grid = grid_search.fit(X_train,y_train)\n",
    "grid.best_params_, grid.best_score_,grid.best_estimator_"
   ]
  },
  {
   "cell_type": "code",
   "execution_count": 42,
   "metadata": {},
   "outputs": [
    {
     "data": {
      "text/plain": [
       "0.6999164535811033"
      ]
     },
     "execution_count": 42,
     "metadata": {},
     "output_type": "execute_result"
    }
   ],
   "source": [
    "y_pred = grid.best_estimator_.predict(X_test)\n",
    "accuracy_score(y_test,y_pred)"
   ]
  },
  {
   "cell_type": "code",
   "execution_count": 43,
   "metadata": {},
   "outputs": [],
   "source": [
    "test_X = test.iloc[:,1:12].values\n",
    "test_y = grid.best_estimator_.predict(test_X)\n",
    "\n",
    "sub_ada = pd.DataFrame()\n",
    "sub_ada['Trip_ID'] = submission['Trip_ID']\n",
    "sub_ada['Surge_Pricing_Type'] = test_y\n",
    "#sub_ada.to_csv('xg_grid2.csv',index = False)"
   ]
  },
  {
   "cell_type": "code",
   "execution_count": 44,
   "metadata": {
    "scrolled": true
   },
   "outputs": [
    {
     "data": {
      "text/plain": [
       "<BarContainer object of 11 artists>"
      ]
     },
     "execution_count": 44,
     "metadata": {},
     "output_type": "execute_result"
    },
    {
     "data": {
      "image/png": "[encoded data removed]",
      "text/plain": [
       "<Figure size 432x288 with 1 Axes>"
      ]
     },
     "metadata": {
      "needs_background": "light"
     },
     "output_type": "display_data"
    }
   ],
   "source": [
    "fimp = pd.DataFrame(zip(train.drop(['Surge_Pricing_Type','Trip_ID'],axis = 1).columns,grid.best_estimator_.feature_importances_))\n",
    "fimp.columns = ['features','Score']\n",
    "\n",
    "sfimp =fimp.sort_values(by = 'Score')\n",
    "\n",
    "plt.barh(sfimp['features'],sfimp['Score'])"
   ]
  },
  {
   "cell_type": "code",
   "execution_count": 45,
   "metadata": {
    "scrolled": true
   },
   "outputs": [
    {
     "name": "stdout",
     "output_type": "stream",
     "text": [
      "Learning rate set to 0.099659\n",
      "0:\tlearn: 1.0368203\ttotal: 100ms\tremaining: 1m 39s\n",
      "1:\tlearn: 0.9879711\ttotal: 119ms\tremaining: 59.3s\n",
      "2:\tlearn: 0.9486731\ttotal: 138ms\tremaining: 46s\n",
      "3:\tlearn: 0.9175601\ttotal: 158ms\tremaining: 39.3s\n",
      "4:\tlearn: 0.8913426\ttotal: 179ms\tremaining: 35.7s\n",
      "5:\tlearn: 0.8696875\ttotal: 203ms\tremaining: 33.7s\n",
      "6:\tlearn: 0.8516316\ttotal: 225ms\tremaining: 31.9s\n",
      "7:\tlearn: 0.8372625\ttotal: 247ms\tremaining: 30.6s\n",
      "8:\tlearn: 0.8250351\ttotal: 269ms\tremaining: 29.7s\n",
      "9:\tlearn: 0.8136888\ttotal: 292ms\tremaining: 28.9s\n",
      "10:\tlearn: 0.8051470\ttotal: 316ms\tremaining: 28.4s\n",
      "11:\tlearn: 0.7970601\ttotal: 339ms\tremaining: 27.9s\n",
      "12:\tlearn: 0.7897054\ttotal: 363ms\tremaining: 27.6s\n",
      "13:\tlearn: 0.7830320\ttotal: 390ms\tremaining: 27.5s\n",
      "14:\tlearn: 0.7777654\ttotal: 417ms\tremaining: 27.4s\n",
      "15:\tlearn: 0.7726073\ttotal: 441ms\tremaining: 27.1s\n",
      "16:\tlearn: 0.7683534\ttotal: 467ms\tremaining: 27s\n",
      "17:\tlearn: 0.7644760\ttotal: 492ms\tremaining: 26.8s\n",
      "18:\tlearn: 0.7609374\ttotal: 518ms\tremaining: 26.7s\n",
      "19:\tlearn: 0.7576709\ttotal: 543ms\tremaining: 26.6s\n",
      "20:\tlearn: 0.7547550\ttotal: 573ms\tremaining: 26.7s\n",
      "21:\tlearn: 0.7522753\ttotal: 601ms\tremaining: 26.7s\n",
      "22:\tlearn: 0.7497771\ttotal: 626ms\tremaining: 26.6s\n",
      "23:\tlearn: 0.7477728\ttotal: 652ms\tremaining: 26.5s\n",
      "24:\tlearn: 0.7460479\ttotal: 680ms\tremaining: 26.5s\n",
      "25:\tlearn: 0.7438886\ttotal: 705ms\tremaining: 26.4s\n",
      "26:\tlearn: 0.7416382\ttotal: 733ms\tremaining: 26.4s\n",
      "27:\tlearn: 0.7399818\ttotal: 762ms\tremaining: 26.5s\n",
      "28:\tlearn: 0.7383331\ttotal: 791ms\tremaining: 26.5s\n",
      "29:\tlearn: 0.7367771\ttotal: 830ms\tremaining: 26.8s\n",
      "30:\tlearn: 0.7353597\ttotal: 866ms\tremaining: 27.1s\n",
      "31:\tlearn: 0.7341266\ttotal: 900ms\tremaining: 27.2s\n",
      "32:\tlearn: 0.7329695\ttotal: 934ms\tremaining: 27.4s\n",
      "33:\tlearn: 0.7317432\ttotal: 967ms\tremaining: 27.5s\n",
      "34:\tlearn: 0.7303424\ttotal: 996ms\tremaining: 27.5s\n",
      "35:\tlearn: 0.7291795\ttotal: 1.03s\tremaining: 27.6s\n",
      "36:\tlearn: 0.7280665\ttotal: 1.06s\tremaining: 27.7s\n",
      "37:\tlearn: 0.7272230\ttotal: 1.09s\tremaining: 27.7s\n",
      "38:\tlearn: 0.7263265\ttotal: 1.12s\tremaining: 27.7s\n",
      "39:\tlearn: 0.7254954\ttotal: 1.15s\tremaining: 27.7s\n",
      "40:\tlearn: 0.7245641\ttotal: 1.19s\tremaining: 27.7s\n",
      "41:\tlearn: 0.7237561\ttotal: 1.21s\tremaining: 27.7s\n",
      "42:\tlearn: 0.7231645\ttotal: 1.24s\tremaining: 27.6s\n",
      "43:\tlearn: 0.7225611\ttotal: 1.26s\tremaining: 27.5s\n",
      "44:\tlearn: 0.7217076\ttotal: 1.29s\tremaining: 27.5s\n",
      "45:\tlearn: 0.7211225\ttotal: 1.32s\tremaining: 27.4s\n",
      "46:\tlearn: 0.7205045\ttotal: 1.35s\tremaining: 27.3s\n",
      "47:\tlearn: 0.7198478\ttotal: 1.37s\tremaining: 27.3s\n",
      "48:\tlearn: 0.7192048\ttotal: 1.4s\tremaining: 27.2s\n",
      "49:\tlearn: 0.7187752\ttotal: 1.43s\tremaining: 27.1s\n",
      "50:\tlearn: 0.7182971\ttotal: 1.45s\tremaining: 27s\n",
      "51:\tlearn: 0.7177893\ttotal: 1.48s\tremaining: 27s\n",
      "52:\tlearn: 0.7174153\ttotal: 1.5s\tremaining: 26.9s\n",
      "53:\tlearn: 0.7170424\ttotal: 1.54s\tremaining: 27s\n",
      "54:\tlearn: 0.7166646\ttotal: 1.57s\tremaining: 26.9s\n",
      "55:\tlearn: 0.7161641\ttotal: 1.6s\tremaining: 26.9s\n",
      "56:\tlearn: 0.7158382\ttotal: 1.62s\tremaining: 26.9s\n",
      "57:\tlearn: 0.7154225\ttotal: 1.65s\tremaining: 26.9s\n",
      "58:\tlearn: 0.7151384\ttotal: 1.68s\tremaining: 26.8s\n",
      "59:\tlearn: 0.7147393\ttotal: 1.71s\tremaining: 26.7s\n",
      "60:\tlearn: 0.7145111\ttotal: 1.73s\tremaining: 26.7s\n",
      "61:\tlearn: 0.7141464\ttotal: 1.76s\tremaining: 26.6s\n",
      "62:\tlearn: 0.7137594\ttotal: 1.78s\tremaining: 26.6s\n",
      "63:\tlearn: 0.7135139\ttotal: 1.81s\tremaining: 26.5s\n",
      "64:\tlearn: 0.7131225\ttotal: 1.84s\tremaining: 26.4s\n",
      "65:\tlearn: 0.7127969\ttotal: 1.87s\tremaining: 26.4s\n",
      "66:\tlearn: 0.7123452\ttotal: 1.89s\tremaining: 26.4s\n",
      "67:\tlearn: 0.7120396\ttotal: 1.92s\tremaining: 26.3s\n",
      "68:\tlearn: 0.7116405\ttotal: 1.95s\tremaining: 26.3s\n",
      "69:\tlearn: 0.7114251\ttotal: 1.98s\tremaining: 26.3s\n",
      "70:\tlearn: 0.7111882\ttotal: 2.01s\tremaining: 26.3s\n",
      "71:\tlearn: 0.7108276\ttotal: 2.04s\tremaining: 26.3s\n",
      "72:\tlearn: 0.7106363\ttotal: 2.06s\tremaining: 26.2s\n",
      "73:\tlearn: 0.7104900\ttotal: 2.09s\tremaining: 26.1s\n",
      "74:\tlearn: 0.7102219\ttotal: 2.12s\tremaining: 26.1s\n",
      "75:\tlearn: 0.7100344\ttotal: 2.14s\tremaining: 26s\n",
      "76:\tlearn: 0.7097675\ttotal: 2.17s\tremaining: 26s\n",
      "77:\tlearn: 0.7095153\ttotal: 2.19s\tremaining: 26s\n",
      "78:\tlearn: 0.7092494\ttotal: 2.22s\tremaining: 25.9s\n",
      "79:\tlearn: 0.7090635\ttotal: 2.25s\tremaining: 25.8s\n",
      "80:\tlearn: 0.7088763\ttotal: 2.27s\tremaining: 25.8s\n",
      "81:\tlearn: 0.7085830\ttotal: 2.3s\tremaining: 25.7s\n",
      "82:\tlearn: 0.7082981\ttotal: 2.32s\tremaining: 25.7s\n",
      "83:\tlearn: 0.7080951\ttotal: 2.35s\tremaining: 25.6s\n",
      "84:\tlearn: 0.7078535\ttotal: 2.38s\tremaining: 25.6s\n",
      "85:\tlearn: 0.7074470\ttotal: 2.4s\tremaining: 25.5s\n",
      "86:\tlearn: 0.7072732\ttotal: 2.43s\tremaining: 25.5s\n",
      "87:\tlearn: 0.7069412\ttotal: 2.46s\tremaining: 25.4s\n",
      "88:\tlearn: 0.7066533\ttotal: 2.48s\tremaining: 25.4s\n",
      "89:\tlearn: 0.7065288\ttotal: 2.51s\tremaining: 25.4s\n",
      "90:\tlearn: 0.7063636\ttotal: 2.54s\tremaining: 25.4s\n",
      "91:\tlearn: 0.7062386\ttotal: 2.56s\tremaining: 25.3s\n",
      "92:\tlearn: 0.7060515\ttotal: 2.59s\tremaining: 25.3s\n",
      "93:\tlearn: 0.7058471\ttotal: 2.62s\tremaining: 25.2s\n",
      "94:\tlearn: 0.7057281\ttotal: 2.64s\tremaining: 25.2s\n",
      "95:\tlearn: 0.7055552\ttotal: 2.67s\tremaining: 25.1s\n",
      "96:\tlearn: 0.7053975\ttotal: 2.69s\tremaining: 25.1s\n",
      "97:\tlearn: 0.7052320\ttotal: 2.72s\tremaining: 25s\n",
      "98:\tlearn: 0.7051161\ttotal: 2.74s\tremaining: 25s\n",
      "99:\tlearn: 0.7049158\ttotal: 2.77s\tremaining: 24.9s\n",
      "100:\tlearn: 0.7047903\ttotal: 2.79s\tremaining: 24.9s\n",
      "101:\tlearn: 0.7045410\ttotal: 2.82s\tremaining: 24.9s\n",
      "102:\tlearn: 0.7044502\ttotal: 2.85s\tremaining: 24.8s\n",
      "103:\tlearn: 0.7043413\ttotal: 2.88s\tremaining: 24.8s\n",
      "104:\tlearn: 0.7042074\ttotal: 2.91s\tremaining: 24.8s\n",
      "105:\tlearn: 0.7040105\ttotal: 2.93s\tremaining: 24.7s\n",
      "106:\tlearn: 0.7039547\ttotal: 2.96s\tremaining: 24.7s\n",
      "107:\tlearn: 0.7037867\ttotal: 2.98s\tremaining: 24.7s\n",
      "108:\tlearn: 0.7036908\ttotal: 3.01s\tremaining: 24.6s\n",
      "109:\tlearn: 0.7035269\ttotal: 3.04s\tremaining: 24.6s\n",
      "110:\tlearn: 0.7033908\ttotal: 3.06s\tremaining: 24.5s\n",
      "111:\tlearn: 0.7032475\ttotal: 3.09s\tremaining: 24.5s\n",
      "112:\tlearn: 0.7030933\ttotal: 3.12s\tremaining: 24.5s\n",
      "113:\tlearn: 0.7029408\ttotal: 3.14s\tremaining: 24.4s\n",
      "114:\tlearn: 0.7027970\ttotal: 3.17s\tremaining: 24.4s\n",
      "115:\tlearn: 0.7025612\ttotal: 3.19s\tremaining: 24.3s\n",
      "116:\tlearn: 0.7024273\ttotal: 3.22s\tremaining: 24.3s\n",
      "117:\tlearn: 0.7022035\ttotal: 3.25s\tremaining: 24.3s\n",
      "118:\tlearn: 0.7021268\ttotal: 3.29s\tremaining: 24.3s\n",
      "119:\tlearn: 0.7019751\ttotal: 3.31s\tremaining: 24.3s\n",
      "120:\tlearn: 0.7018000\ttotal: 3.34s\tremaining: 24.3s\n",
      "121:\tlearn: 0.7015949\ttotal: 3.36s\tremaining: 24.2s\n",
      "122:\tlearn: 0.7014293\ttotal: 3.39s\tremaining: 24.2s\n",
      "123:\tlearn: 0.7012690\ttotal: 3.42s\tremaining: 24.1s\n",
      "124:\tlearn: 0.7010446\ttotal: 3.44s\tremaining: 24.1s\n",
      "125:\tlearn: 0.7008791\ttotal: 3.47s\tremaining: 24.1s\n",
      "126:\tlearn: 0.7007238\ttotal: 3.5s\tremaining: 24.1s\n",
      "127:\tlearn: 0.7005711\ttotal: 3.52s\tremaining: 24s\n",
      "128:\tlearn: 0.7004812\ttotal: 3.55s\tremaining: 24s\n",
      "129:\tlearn: 0.7003245\ttotal: 3.57s\tremaining: 23.9s\n",
      "130:\tlearn: 0.7002542\ttotal: 3.6s\tremaining: 23.9s\n",
      "131:\tlearn: 0.7001236\ttotal: 3.63s\tremaining: 23.9s\n",
      "132:\tlearn: 0.6999671\ttotal: 3.66s\tremaining: 23.8s\n",
      "133:\tlearn: 0.6997895\ttotal: 3.68s\tremaining: 23.8s\n",
      "134:\tlearn: 0.6995205\ttotal: 3.71s\tremaining: 23.8s\n",
      "135:\tlearn: 0.6993863\ttotal: 3.73s\tremaining: 23.7s\n",
      "136:\tlearn: 0.6993176\ttotal: 3.76s\tremaining: 23.7s\n",
      "137:\tlearn: 0.6991640\ttotal: 3.78s\tremaining: 23.6s\n",
      "138:\tlearn: 0.6990535\ttotal: 3.81s\tremaining: 23.6s\n",
      "139:\tlearn: 0.6988658\ttotal: 3.84s\tremaining: 23.6s\n",
      "140:\tlearn: 0.6987041\ttotal: 3.87s\tremaining: 23.5s\n",
      "141:\tlearn: 0.6986092\ttotal: 3.89s\tremaining: 23.5s\n",
      "142:\tlearn: 0.6985015\ttotal: 3.91s\tremaining: 23.5s\n",
      "143:\tlearn: 0.6983966\ttotal: 3.94s\tremaining: 23.4s\n",
      "144:\tlearn: 0.6983098\ttotal: 3.96s\tremaining: 23.4s\n",
      "145:\tlearn: 0.6982163\ttotal: 3.99s\tremaining: 23.3s\n",
      "146:\tlearn: 0.6980761\ttotal: 4.02s\tremaining: 23.3s\n",
      "147:\tlearn: 0.6979234\ttotal: 4.04s\tremaining: 23.3s\n",
      "148:\tlearn: 0.6977860\ttotal: 4.07s\tremaining: 23.2s\n",
      "149:\tlearn: 0.6976640\ttotal: 4.1s\tremaining: 23.2s\n",
      "150:\tlearn: 0.6975296\ttotal: 4.12s\tremaining: 23.2s\n",
      "151:\tlearn: 0.6974621\ttotal: 4.15s\tremaining: 23.1s\n",
      "152:\tlearn: 0.6973664\ttotal: 4.17s\tremaining: 23.1s\n",
      "153:\tlearn: 0.6973001\ttotal: 4.2s\tremaining: 23.1s\n",
      "154:\tlearn: 0.6971378\ttotal: 4.22s\tremaining: 23s\n",
      "155:\tlearn: 0.6970134\ttotal: 4.25s\tremaining: 23s\n",
      "156:\tlearn: 0.6968527\ttotal: 4.28s\tremaining: 23s\n",
      "157:\tlearn: 0.6967857\ttotal: 4.3s\tremaining: 22.9s\n",
      "158:\tlearn: 0.6966438\ttotal: 4.33s\tremaining: 22.9s\n",
      "159:\tlearn: 0.6965391\ttotal: 4.35s\tremaining: 22.9s\n"
     ]
    },
    {
     "name": "stdout",
     "output_type": "stream",
     "text": [
      "160:\tlearn: 0.6964082\ttotal: 4.38s\tremaining: 22.8s\n",
      "161:\tlearn: 0.6963517\ttotal: 4.41s\tremaining: 22.8s\n",
      "162:\tlearn: 0.6962544\ttotal: 4.43s\tremaining: 22.8s\n",
      "163:\tlearn: 0.6961696\ttotal: 4.46s\tremaining: 22.7s\n",
      "164:\tlearn: 0.6960859\ttotal: 4.48s\tremaining: 22.7s\n",
      "165:\tlearn: 0.6959821\ttotal: 4.51s\tremaining: 22.7s\n",
      "166:\tlearn: 0.6959003\ttotal: 4.53s\tremaining: 22.6s\n",
      "167:\tlearn: 0.6957686\ttotal: 4.56s\tremaining: 22.6s\n",
      "168:\tlearn: 0.6956206\ttotal: 4.59s\tremaining: 22.6s\n",
      "169:\tlearn: 0.6955409\ttotal: 4.61s\tremaining: 22.5s\n",
      "170:\tlearn: 0.6954552\ttotal: 4.64s\tremaining: 22.5s\n",
      "171:\tlearn: 0.6953312\ttotal: 4.66s\tremaining: 22.5s\n",
      "172:\tlearn: 0.6952322\ttotal: 4.69s\tremaining: 22.4s\n",
      "173:\tlearn: 0.6951127\ttotal: 4.71s\tremaining: 22.4s\n",
      "174:\tlearn: 0.6950268\ttotal: 4.74s\tremaining: 22.3s\n",
      "175:\tlearn: 0.6949713\ttotal: 4.77s\tremaining: 22.3s\n",
      "176:\tlearn: 0.6949052\ttotal: 4.79s\tremaining: 22.3s\n",
      "177:\tlearn: 0.6948112\ttotal: 4.81s\tremaining: 22.2s\n",
      "178:\tlearn: 0.6947063\ttotal: 4.84s\tremaining: 22.2s\n",
      "179:\tlearn: 0.6945869\ttotal: 4.86s\tremaining: 22.2s\n",
      "180:\tlearn: 0.6944589\ttotal: 4.89s\tremaining: 22.1s\n",
      "181:\tlearn: 0.6943917\ttotal: 4.91s\tremaining: 22.1s\n",
      "182:\tlearn: 0.6942652\ttotal: 4.94s\tremaining: 22s\n",
      "183:\tlearn: 0.6941776\ttotal: 4.97s\tremaining: 22s\n",
      "184:\tlearn: 0.6940931\ttotal: 5s\tremaining: 22s\n",
      "185:\tlearn: 0.6939945\ttotal: 5.02s\tremaining: 22s\n",
      "186:\tlearn: 0.6939348\ttotal: 5.05s\tremaining: 21.9s\n",
      "187:\tlearn: 0.6938435\ttotal: 5.07s\tremaining: 21.9s\n",
      "188:\tlearn: 0.6937126\ttotal: 5.1s\tremaining: 21.9s\n",
      "189:\tlearn: 0.6935891\ttotal: 5.13s\tremaining: 21.9s\n",
      "190:\tlearn: 0.6934092\ttotal: 5.16s\tremaining: 21.9s\n",
      "191:\tlearn: 0.6933098\ttotal: 5.19s\tremaining: 21.8s\n",
      "192:\tlearn: 0.6932146\ttotal: 5.21s\tremaining: 21.8s\n",
      "193:\tlearn: 0.6931359\ttotal: 5.24s\tremaining: 21.8s\n",
      "194:\tlearn: 0.6930536\ttotal: 5.26s\tremaining: 21.7s\n",
      "195:\tlearn: 0.6929024\ttotal: 5.29s\tremaining: 21.7s\n",
      "196:\tlearn: 0.6928166\ttotal: 5.31s\tremaining: 21.6s\n",
      "197:\tlearn: 0.6926947\ttotal: 5.34s\tremaining: 21.6s\n",
      "198:\tlearn: 0.6925824\ttotal: 5.37s\tremaining: 21.6s\n",
      "199:\tlearn: 0.6925120\ttotal: 5.39s\tremaining: 21.6s\n",
      "200:\tlearn: 0.6924200\ttotal: 5.42s\tremaining: 21.5s\n",
      "201:\tlearn: 0.6923552\ttotal: 5.44s\tremaining: 21.5s\n",
      "202:\tlearn: 0.6922810\ttotal: 5.47s\tremaining: 21.5s\n",
      "203:\tlearn: 0.6922034\ttotal: 5.49s\tremaining: 21.4s\n",
      "204:\tlearn: 0.6920936\ttotal: 5.52s\tremaining: 21.4s\n",
      "205:\tlearn: 0.6920444\ttotal: 5.55s\tremaining: 21.4s\n",
      "206:\tlearn: 0.6919515\ttotal: 5.58s\tremaining: 21.4s\n",
      "207:\tlearn: 0.6918837\ttotal: 5.6s\tremaining: 21.3s\n",
      "208:\tlearn: 0.6917950\ttotal: 5.62s\tremaining: 21.3s\n",
      "209:\tlearn: 0.6917069\ttotal: 5.65s\tremaining: 21.3s\n",
      "210:\tlearn: 0.6916116\ttotal: 5.68s\tremaining: 21.2s\n",
      "211:\tlearn: 0.6915232\ttotal: 5.7s\tremaining: 21.2s\n",
      "212:\tlearn: 0.6913857\ttotal: 5.73s\tremaining: 21.2s\n",
      "213:\tlearn: 0.6913045\ttotal: 5.75s\tremaining: 21.1s\n",
      "214:\tlearn: 0.6912051\ttotal: 5.78s\tremaining: 21.1s\n",
      "215:\tlearn: 0.6911139\ttotal: 5.8s\tremaining: 21.1s\n",
      "216:\tlearn: 0.6909996\ttotal: 5.83s\tremaining: 21s\n",
      "217:\tlearn: 0.6908394\ttotal: 5.85s\tremaining: 21s\n",
      "218:\tlearn: 0.6907373\ttotal: 5.88s\tremaining: 21s\n",
      "219:\tlearn: 0.6906309\ttotal: 5.91s\tremaining: 21s\n",
      "220:\tlearn: 0.6906032\ttotal: 5.94s\tremaining: 21s\n",
      "221:\tlearn: 0.6905318\ttotal: 5.98s\tremaining: 20.9s\n",
      "222:\tlearn: 0.6904798\ttotal: 6s\tremaining: 20.9s\n",
      "223:\tlearn: 0.6904101\ttotal: 6.03s\tremaining: 20.9s\n",
      "224:\tlearn: 0.6903489\ttotal: 6.06s\tremaining: 20.9s\n",
      "225:\tlearn: 0.6902671\ttotal: 6.1s\tremaining: 20.9s\n",
      "226:\tlearn: 0.6901569\ttotal: 6.13s\tremaining: 20.9s\n",
      "227:\tlearn: 0.6900300\ttotal: 6.16s\tremaining: 20.9s\n",
      "228:\tlearn: 0.6899512\ttotal: 6.19s\tremaining: 20.8s\n",
      "229:\tlearn: 0.6898522\ttotal: 6.22s\tremaining: 20.8s\n",
      "230:\tlearn: 0.6897730\ttotal: 6.25s\tremaining: 20.8s\n",
      "231:\tlearn: 0.6897152\ttotal: 6.28s\tremaining: 20.8s\n",
      "232:\tlearn: 0.6896507\ttotal: 6.31s\tremaining: 20.8s\n",
      "233:\tlearn: 0.6895767\ttotal: 6.34s\tremaining: 20.7s\n",
      "234:\tlearn: 0.6894797\ttotal: 6.37s\tremaining: 20.7s\n",
      "235:\tlearn: 0.6893277\ttotal: 6.4s\tremaining: 20.7s\n",
      "236:\tlearn: 0.6892468\ttotal: 6.42s\tremaining: 20.7s\n",
      "237:\tlearn: 0.6892189\ttotal: 6.46s\tremaining: 20.7s\n",
      "238:\tlearn: 0.6891379\ttotal: 6.48s\tremaining: 20.6s\n",
      "239:\tlearn: 0.6890805\ttotal: 6.51s\tremaining: 20.6s\n",
      "240:\tlearn: 0.6890009\ttotal: 6.53s\tremaining: 20.6s\n",
      "241:\tlearn: 0.6889505\ttotal: 6.56s\tremaining: 20.6s\n",
      "242:\tlearn: 0.6889032\ttotal: 6.59s\tremaining: 20.5s\n",
      "243:\tlearn: 0.6888270\ttotal: 6.63s\tremaining: 20.5s\n",
      "244:\tlearn: 0.6887712\ttotal: 6.66s\tremaining: 20.5s\n",
      "245:\tlearn: 0.6886675\ttotal: 6.68s\tremaining: 20.5s\n",
      "246:\tlearn: 0.6885983\ttotal: 6.71s\tremaining: 20.5s\n",
      "247:\tlearn: 0.6885215\ttotal: 6.74s\tremaining: 20.4s\n",
      "248:\tlearn: 0.6884222\ttotal: 6.77s\tremaining: 20.4s\n",
      "249:\tlearn: 0.6883113\ttotal: 6.8s\tremaining: 20.4s\n",
      "250:\tlearn: 0.6882497\ttotal: 6.83s\tremaining: 20.4s\n",
      "251:\tlearn: 0.6881673\ttotal: 6.86s\tremaining: 20.4s\n",
      "252:\tlearn: 0.6881148\ttotal: 6.89s\tremaining: 20.3s\n",
      "253:\tlearn: 0.6880391\ttotal: 6.92s\tremaining: 20.3s\n",
      "254:\tlearn: 0.6879681\ttotal: 6.94s\tremaining: 20.3s\n",
      "255:\tlearn: 0.6878715\ttotal: 6.97s\tremaining: 20.3s\n",
      "256:\tlearn: 0.6878121\ttotal: 7s\tremaining: 20.3s\n",
      "257:\tlearn: 0.6877448\ttotal: 7.04s\tremaining: 20.2s\n",
      "258:\tlearn: 0.6876644\ttotal: 7.07s\tremaining: 20.2s\n",
      "259:\tlearn: 0.6875911\ttotal: 7.1s\tremaining: 20.2s\n",
      "260:\tlearn: 0.6875622\ttotal: 7.12s\tremaining: 20.2s\n",
      "261:\tlearn: 0.6874929\ttotal: 7.15s\tremaining: 20.1s\n",
      "262:\tlearn: 0.6874284\ttotal: 7.19s\tremaining: 20.1s\n",
      "263:\tlearn: 0.6873478\ttotal: 7.22s\tremaining: 20.1s\n",
      "264:\tlearn: 0.6872812\ttotal: 7.25s\tremaining: 20.1s\n",
      "265:\tlearn: 0.6872303\ttotal: 7.27s\tremaining: 20.1s\n",
      "266:\tlearn: 0.6871033\ttotal: 7.3s\tremaining: 20s\n",
      "267:\tlearn: 0.6870396\ttotal: 7.33s\tremaining: 20s\n",
      "268:\tlearn: 0.6869974\ttotal: 7.36s\tremaining: 20s\n",
      "269:\tlearn: 0.6869158\ttotal: 7.39s\tremaining: 20s\n",
      "270:\tlearn: 0.6868199\ttotal: 7.42s\tremaining: 20s\n",
      "271:\tlearn: 0.6867466\ttotal: 7.45s\tremaining: 19.9s\n",
      "272:\tlearn: 0.6867077\ttotal: 7.48s\tremaining: 19.9s\n",
      "273:\tlearn: 0.6866351\ttotal: 7.5s\tremaining: 19.9s\n",
      "274:\tlearn: 0.6865693\ttotal: 7.53s\tremaining: 19.9s\n",
      "275:\tlearn: 0.6864624\ttotal: 7.57s\tremaining: 19.8s\n",
      "276:\tlearn: 0.6863494\ttotal: 7.59s\tremaining: 19.8s\n",
      "277:\tlearn: 0.6862683\ttotal: 7.63s\tremaining: 19.8s\n",
      "278:\tlearn: 0.6862205\ttotal: 7.65s\tremaining: 19.8s\n",
      "279:\tlearn: 0.6861811\ttotal: 7.68s\tremaining: 19.7s\n",
      "280:\tlearn: 0.6861089\ttotal: 7.71s\tremaining: 19.7s\n",
      "281:\tlearn: 0.6860185\ttotal: 7.74s\tremaining: 19.7s\n",
      "282:\tlearn: 0.6859709\ttotal: 7.76s\tremaining: 19.7s\n",
      "283:\tlearn: 0.6859092\ttotal: 7.79s\tremaining: 19.6s\n",
      "284:\tlearn: 0.6858549\ttotal: 7.82s\tremaining: 19.6s\n",
      "285:\tlearn: 0.6857716\ttotal: 7.85s\tremaining: 19.6s\n",
      "286:\tlearn: 0.6857257\ttotal: 7.87s\tremaining: 19.6s\n",
      "287:\tlearn: 0.6856107\ttotal: 7.91s\tremaining: 19.5s\n",
      "288:\tlearn: 0.6855275\ttotal: 7.94s\tremaining: 19.5s\n",
      "289:\tlearn: 0.6854489\ttotal: 7.97s\tremaining: 19.5s\n",
      "290:\tlearn: 0.6854070\ttotal: 7.99s\tremaining: 19.5s\n",
      "291:\tlearn: 0.6853632\ttotal: 8.02s\tremaining: 19.4s\n",
      "292:\tlearn: 0.6853082\ttotal: 8.04s\tremaining: 19.4s\n",
      "293:\tlearn: 0.6852105\ttotal: 8.07s\tremaining: 19.4s\n",
      "294:\tlearn: 0.6851251\ttotal: 8.1s\tremaining: 19.4s\n",
      "295:\tlearn: 0.6850490\ttotal: 8.13s\tremaining: 19.3s\n",
      "296:\tlearn: 0.6849501\ttotal: 8.15s\tremaining: 19.3s\n",
      "297:\tlearn: 0.6848524\ttotal: 8.19s\tremaining: 19.3s\n",
      "298:\tlearn: 0.6847719\ttotal: 8.21s\tremaining: 19.3s\n",
      "299:\tlearn: 0.6846710\ttotal: 8.25s\tremaining: 19.2s\n",
      "300:\tlearn: 0.6845726\ttotal: 8.28s\tremaining: 19.2s\n",
      "301:\tlearn: 0.6844828\ttotal: 8.31s\tremaining: 19.2s\n",
      "302:\tlearn: 0.6844012\ttotal: 8.34s\tremaining: 19.2s\n",
      "303:\tlearn: 0.6843234\ttotal: 8.36s\tremaining: 19.1s\n",
      "304:\tlearn: 0.6842314\ttotal: 8.39s\tremaining: 19.1s\n",
      "305:\tlearn: 0.6841841\ttotal: 8.42s\tremaining: 19.1s\n",
      "306:\tlearn: 0.6840971\ttotal: 8.45s\tremaining: 19.1s\n",
      "307:\tlearn: 0.6840446\ttotal: 8.47s\tremaining: 19s\n",
      "308:\tlearn: 0.6839706\ttotal: 8.51s\tremaining: 19s\n",
      "309:\tlearn: 0.6839012\ttotal: 8.54s\tremaining: 19s\n",
      "310:\tlearn: 0.6838511\ttotal: 8.56s\tremaining: 19s\n",
      "311:\tlearn: 0.6837908\ttotal: 8.59s\tremaining: 18.9s\n",
      "312:\tlearn: 0.6837325\ttotal: 8.62s\tremaining: 18.9s\n",
      "313:\tlearn: 0.6836880\ttotal: 8.65s\tremaining: 18.9s\n",
      "314:\tlearn: 0.6836422\ttotal: 8.68s\tremaining: 18.9s\n",
      "315:\tlearn: 0.6835321\ttotal: 8.7s\tremaining: 18.8s\n",
      "316:\tlearn: 0.6834517\ttotal: 8.73s\tremaining: 18.8s\n",
      "317:\tlearn: 0.6833640\ttotal: 8.75s\tremaining: 18.8s\n",
      "318:\tlearn: 0.6832907\ttotal: 8.78s\tremaining: 18.7s\n"
     ]
    },
    {
     "name": "stdout",
     "output_type": "stream",
     "text": [
      "319:\tlearn: 0.6832088\ttotal: 8.81s\tremaining: 18.7s\n",
      "320:\tlearn: 0.6831450\ttotal: 8.84s\tremaining: 18.7s\n",
      "321:\tlearn: 0.6830699\ttotal: 8.87s\tremaining: 18.7s\n",
      "322:\tlearn: 0.6829826\ttotal: 8.9s\tremaining: 18.6s\n",
      "323:\tlearn: 0.6829555\ttotal: 8.93s\tremaining: 18.6s\n",
      "324:\tlearn: 0.6829105\ttotal: 8.96s\tremaining: 18.6s\n",
      "325:\tlearn: 0.6828685\ttotal: 8.98s\tremaining: 18.6s\n",
      "326:\tlearn: 0.6827901\ttotal: 9.01s\tremaining: 18.6s\n",
      "327:\tlearn: 0.6826846\ttotal: 9.04s\tremaining: 18.5s\n",
      "328:\tlearn: 0.6826043\ttotal: 9.07s\tremaining: 18.5s\n",
      "329:\tlearn: 0.6825168\ttotal: 9.09s\tremaining: 18.5s\n",
      "330:\tlearn: 0.6824797\ttotal: 9.12s\tremaining: 18.4s\n",
      "331:\tlearn: 0.6824451\ttotal: 9.15s\tremaining: 18.4s\n",
      "332:\tlearn: 0.6824106\ttotal: 9.18s\tremaining: 18.4s\n",
      "333:\tlearn: 0.6823286\ttotal: 9.21s\tremaining: 18.4s\n",
      "334:\tlearn: 0.6822415\ttotal: 9.24s\tremaining: 18.3s\n",
      "335:\tlearn: 0.6821843\ttotal: 9.27s\tremaining: 18.3s\n",
      "336:\tlearn: 0.6821081\ttotal: 9.3s\tremaining: 18.3s\n",
      "337:\tlearn: 0.6820383\ttotal: 9.33s\tremaining: 18.3s\n",
      "338:\tlearn: 0.6819778\ttotal: 9.36s\tremaining: 18.3s\n",
      "339:\tlearn: 0.6818994\ttotal: 9.39s\tremaining: 18.2s\n",
      "340:\tlearn: 0.6818253\ttotal: 9.41s\tremaining: 18.2s\n",
      "341:\tlearn: 0.6817313\ttotal: 9.44s\tremaining: 18.2s\n",
      "342:\tlearn: 0.6816969\ttotal: 9.47s\tremaining: 18.1s\n",
      "343:\tlearn: 0.6816087\ttotal: 9.5s\tremaining: 18.1s\n",
      "344:\tlearn: 0.6815664\ttotal: 9.53s\tremaining: 18.1s\n",
      "345:\tlearn: 0.6814988\ttotal: 9.55s\tremaining: 18.1s\n",
      "346:\tlearn: 0.6814089\ttotal: 9.57s\tremaining: 18s\n",
      "347:\tlearn: 0.6813575\ttotal: 9.6s\tremaining: 18s\n",
      "348:\tlearn: 0.6812942\ttotal: 9.63s\tremaining: 18s\n",
      "349:\tlearn: 0.6811713\ttotal: 9.65s\tremaining: 17.9s\n",
      "350:\tlearn: 0.6811220\ttotal: 9.68s\tremaining: 17.9s\n",
      "351:\tlearn: 0.6810142\ttotal: 9.7s\tremaining: 17.9s\n",
      "352:\tlearn: 0.6809423\ttotal: 9.72s\tremaining: 17.8s\n",
      "353:\tlearn: 0.6809043\ttotal: 9.75s\tremaining: 17.8s\n",
      "354:\tlearn: 0.6808126\ttotal: 9.78s\tremaining: 17.8s\n",
      "355:\tlearn: 0.6807357\ttotal: 9.8s\tremaining: 17.7s\n",
      "356:\tlearn: 0.6806482\ttotal: 9.82s\tremaining: 17.7s\n",
      "357:\tlearn: 0.6805762\ttotal: 9.85s\tremaining: 17.7s\n",
      "358:\tlearn: 0.6804566\ttotal: 9.88s\tremaining: 17.6s\n",
      "359:\tlearn: 0.6803681\ttotal: 9.9s\tremaining: 17.6s\n",
      "360:\tlearn: 0.6803146\ttotal: 9.93s\tremaining: 17.6s\n",
      "361:\tlearn: 0.6802544\ttotal: 9.96s\tremaining: 17.5s\n",
      "362:\tlearn: 0.6801729\ttotal: 9.98s\tremaining: 17.5s\n",
      "363:\tlearn: 0.6800649\ttotal: 10s\tremaining: 17.5s\n",
      "364:\tlearn: 0.6800279\ttotal: 10s\tremaining: 17.5s\n",
      "365:\tlearn: 0.6799510\ttotal: 10.1s\tremaining: 17.4s\n",
      "366:\tlearn: 0.6798810\ttotal: 10.1s\tremaining: 17.4s\n",
      "367:\tlearn: 0.6798083\ttotal: 10.1s\tremaining: 17.4s\n",
      "368:\tlearn: 0.6797305\ttotal: 10.1s\tremaining: 17.3s\n",
      "369:\tlearn: 0.6796619\ttotal: 10.2s\tremaining: 17.3s\n",
      "370:\tlearn: 0.6796153\ttotal: 10.2s\tremaining: 17.3s\n",
      "371:\tlearn: 0.6795638\ttotal: 10.2s\tremaining: 17.2s\n",
      "372:\tlearn: 0.6794648\ttotal: 10.2s\tremaining: 17.2s\n",
      "373:\tlearn: 0.6793696\ttotal: 10.3s\tremaining: 17.2s\n",
      "374:\tlearn: 0.6793225\ttotal: 10.3s\tremaining: 17.1s\n",
      "375:\tlearn: 0.6792854\ttotal: 10.3s\tremaining: 17.1s\n",
      "376:\tlearn: 0.6792307\ttotal: 10.3s\tremaining: 17.1s\n",
      "377:\tlearn: 0.6791556\ttotal: 10.4s\tremaining: 17s\n",
      "378:\tlearn: 0.6790994\ttotal: 10.4s\tremaining: 17s\n",
      "379:\tlearn: 0.6790432\ttotal: 10.4s\tremaining: 17s\n",
      "380:\tlearn: 0.6789469\ttotal: 10.4s\tremaining: 17s\n",
      "381:\tlearn: 0.6788606\ttotal: 10.5s\tremaining: 16.9s\n",
      "382:\tlearn: 0.6788077\ttotal: 10.5s\tremaining: 16.9s\n",
      "383:\tlearn: 0.6787459\ttotal: 10.5s\tremaining: 16.9s\n",
      "384:\tlearn: 0.6786433\ttotal: 10.6s\tremaining: 16.9s\n",
      "385:\tlearn: 0.6785815\ttotal: 10.6s\tremaining: 16.8s\n",
      "386:\tlearn: 0.6785106\ttotal: 10.6s\tremaining: 16.8s\n",
      "387:\tlearn: 0.6784552\ttotal: 10.6s\tremaining: 16.8s\n",
      "388:\tlearn: 0.6783879\ttotal: 10.7s\tremaining: 16.7s\n",
      "389:\tlearn: 0.6783119\ttotal: 10.7s\tremaining: 16.7s\n",
      "390:\tlearn: 0.6782544\ttotal: 10.7s\tremaining: 16.7s\n",
      "391:\tlearn: 0.6781947\ttotal: 10.7s\tremaining: 16.7s\n",
      "392:\tlearn: 0.6781542\ttotal: 10.8s\tremaining: 16.6s\n",
      "393:\tlearn: 0.6780807\ttotal: 10.8s\tremaining: 16.6s\n",
      "394:\tlearn: 0.6780045\ttotal: 10.8s\tremaining: 16.6s\n",
      "395:\tlearn: 0.6779495\ttotal: 10.8s\tremaining: 16.5s\n",
      "396:\tlearn: 0.6778921\ttotal: 10.9s\tremaining: 16.5s\n",
      "397:\tlearn: 0.6778292\ttotal: 10.9s\tremaining: 16.5s\n",
      "398:\tlearn: 0.6777572\ttotal: 10.9s\tremaining: 16.4s\n",
      "399:\tlearn: 0.6776817\ttotal: 10.9s\tremaining: 16.4s\n",
      "400:\tlearn: 0.6775986\ttotal: 11s\tremaining: 16.4s\n",
      "401:\tlearn: 0.6775091\ttotal: 11s\tremaining: 16.4s\n",
      "402:\tlearn: 0.6774689\ttotal: 11s\tremaining: 16.4s\n",
      "403:\tlearn: 0.6774237\ttotal: 11.1s\tremaining: 16.3s\n",
      "404:\tlearn: 0.6773778\ttotal: 11.1s\tremaining: 16.3s\n",
      "405:\tlearn: 0.6773015\ttotal: 11.1s\tremaining: 16.3s\n",
      "406:\tlearn: 0.6772634\ttotal: 11.1s\tremaining: 16.2s\n",
      "407:\tlearn: 0.6771963\ttotal: 11.2s\tremaining: 16.2s\n",
      "408:\tlearn: 0.6771254\ttotal: 11.2s\tremaining: 16.2s\n",
      "409:\tlearn: 0.6770511\ttotal: 11.2s\tremaining: 16.2s\n",
      "410:\tlearn: 0.6769967\ttotal: 11.3s\tremaining: 16.1s\n",
      "411:\tlearn: 0.6769076\ttotal: 11.3s\tremaining: 16.1s\n",
      "412:\tlearn: 0.6768145\ttotal: 11.3s\tremaining: 16.1s\n",
      "413:\tlearn: 0.6767781\ttotal: 11.3s\tremaining: 16s\n",
      "414:\tlearn: 0.6767221\ttotal: 11.4s\tremaining: 16s\n",
      "415:\tlearn: 0.6766554\ttotal: 11.4s\tremaining: 16s\n",
      "416:\tlearn: 0.6765815\ttotal: 11.4s\tremaining: 15.9s\n",
      "417:\tlearn: 0.6764930\ttotal: 11.4s\tremaining: 15.9s\n",
      "418:\tlearn: 0.6764387\ttotal: 11.5s\tremaining: 15.9s\n",
      "419:\tlearn: 0.6763763\ttotal: 11.5s\tremaining: 15.9s\n",
      "420:\tlearn: 0.6763438\ttotal: 11.5s\tremaining: 15.8s\n",
      "421:\tlearn: 0.6762909\ttotal: 11.5s\tremaining: 15.8s\n",
      "422:\tlearn: 0.6762483\ttotal: 11.6s\tremaining: 15.8s\n",
      "423:\tlearn: 0.6761903\ttotal: 11.6s\tremaining: 15.8s\n",
      "424:\tlearn: 0.6761499\ttotal: 11.6s\tremaining: 15.7s\n",
      "425:\tlearn: 0.6761218\ttotal: 11.6s\tremaining: 15.7s\n",
      "426:\tlearn: 0.6760409\ttotal: 11.7s\tremaining: 15.7s\n",
      "427:\tlearn: 0.6759706\ttotal: 11.7s\tremaining: 15.6s\n",
      "428:\tlearn: 0.6759000\ttotal: 11.7s\tremaining: 15.6s\n",
      "429:\tlearn: 0.6758461\ttotal: 11.7s\tremaining: 15.6s\n",
      "430:\tlearn: 0.6757642\ttotal: 11.8s\tremaining: 15.5s\n",
      "431:\tlearn: 0.6757153\ttotal: 11.8s\tremaining: 15.5s\n",
      "432:\tlearn: 0.6756605\ttotal: 11.8s\tremaining: 15.5s\n",
      "433:\tlearn: 0.6756186\ttotal: 11.9s\tremaining: 15.5s\n",
      "434:\tlearn: 0.6755747\ttotal: 11.9s\tremaining: 15.4s\n",
      "435:\tlearn: 0.6755450\ttotal: 11.9s\tremaining: 15.4s\n",
      "436:\tlearn: 0.6754742\ttotal: 11.9s\tremaining: 15.4s\n",
      "437:\tlearn: 0.6754267\ttotal: 12s\tremaining: 15.3s\n",
      "438:\tlearn: 0.6753514\ttotal: 12s\tremaining: 15.3s\n",
      "439:\tlearn: 0.6752749\ttotal: 12s\tremaining: 15.3s\n",
      "440:\tlearn: 0.6752267\ttotal: 12s\tremaining: 15.2s\n",
      "441:\tlearn: 0.6751739\ttotal: 12.1s\tremaining: 15.2s\n",
      "442:\tlearn: 0.6751124\ttotal: 12.1s\tremaining: 15.2s\n",
      "443:\tlearn: 0.6750335\ttotal: 12.1s\tremaining: 15.2s\n",
      "444:\tlearn: 0.6749714\ttotal: 12.1s\tremaining: 15.1s\n",
      "445:\tlearn: 0.6748775\ttotal: 12.2s\tremaining: 15.1s\n",
      "446:\tlearn: 0.6748078\ttotal: 12.2s\tremaining: 15.1s\n",
      "447:\tlearn: 0.6747273\ttotal: 12.2s\tremaining: 15s\n",
      "448:\tlearn: 0.6746645\ttotal: 12.2s\tremaining: 15s\n",
      "449:\tlearn: 0.6746265\ttotal: 12.3s\tremaining: 15s\n",
      "450:\tlearn: 0.6745601\ttotal: 12.3s\tremaining: 15s\n",
      "451:\tlearn: 0.6744928\ttotal: 12.3s\tremaining: 14.9s\n",
      "452:\tlearn: 0.6744378\ttotal: 12.3s\tremaining: 14.9s\n",
      "453:\tlearn: 0.6743688\ttotal: 12.4s\tremaining: 14.9s\n",
      "454:\tlearn: 0.6743311\ttotal: 12.4s\tremaining: 14.8s\n",
      "455:\tlearn: 0.6742876\ttotal: 12.4s\tremaining: 14.8s\n",
      "456:\tlearn: 0.6742451\ttotal: 12.4s\tremaining: 14.8s\n",
      "457:\tlearn: 0.6741650\ttotal: 12.5s\tremaining: 14.7s\n",
      "458:\tlearn: 0.6741289\ttotal: 12.5s\tremaining: 14.7s\n",
      "459:\tlearn: 0.6740998\ttotal: 12.5s\tremaining: 14.7s\n",
      "460:\tlearn: 0.6740551\ttotal: 12.5s\tremaining: 14.7s\n",
      "461:\tlearn: 0.6740205\ttotal: 12.6s\tremaining: 14.6s\n",
      "462:\tlearn: 0.6739307\ttotal: 12.6s\tremaining: 14.6s\n",
      "463:\tlearn: 0.6738862\ttotal: 12.6s\tremaining: 14.6s\n",
      "464:\tlearn: 0.6738229\ttotal: 12.6s\tremaining: 14.6s\n",
      "465:\tlearn: 0.6737983\ttotal: 12.7s\tremaining: 14.5s\n",
      "466:\tlearn: 0.6737400\ttotal: 12.7s\tremaining: 14.5s\n",
      "467:\tlearn: 0.6736580\ttotal: 12.7s\tremaining: 14.5s\n",
      "468:\tlearn: 0.6736298\ttotal: 12.8s\tremaining: 14.4s\n",
      "469:\tlearn: 0.6735656\ttotal: 12.8s\tremaining: 14.4s\n",
      "470:\tlearn: 0.6734989\ttotal: 12.8s\tremaining: 14.4s\n",
      "471:\tlearn: 0.6733829\ttotal: 12.8s\tremaining: 14.4s\n",
      "472:\tlearn: 0.6733532\ttotal: 12.9s\tremaining: 14.3s\n",
      "473:\tlearn: 0.6732749\ttotal: 12.9s\tremaining: 14.3s\n",
      "474:\tlearn: 0.6732316\ttotal: 12.9s\tremaining: 14.3s\n",
      "475:\tlearn: 0.6731720\ttotal: 12.9s\tremaining: 14.2s\n",
      "476:\tlearn: 0.6731340\ttotal: 13s\tremaining: 14.2s\n",
      "477:\tlearn: 0.6730725\ttotal: 13s\tremaining: 14.2s\n",
      "478:\tlearn: 0.6729647\ttotal: 13s\tremaining: 14.1s\n",
      "479:\tlearn: 0.6728891\ttotal: 13s\tremaining: 14.1s\n",
      "480:\tlearn: 0.6728468\ttotal: 13.1s\tremaining: 14.1s\n"
     ]
    },
    {
     "name": "stdout",
     "output_type": "stream",
     "text": [
      "481:\tlearn: 0.6727466\ttotal: 13.1s\tremaining: 14.1s\n",
      "482:\tlearn: 0.6726466\ttotal: 13.1s\tremaining: 14s\n",
      "483:\tlearn: 0.6725518\ttotal: 13.1s\tremaining: 14s\n",
      "484:\tlearn: 0.6724916\ttotal: 13.2s\tremaining: 14s\n",
      "485:\tlearn: 0.6724285\ttotal: 13.2s\tremaining: 14s\n",
      "486:\tlearn: 0.6724159\ttotal: 13.2s\tremaining: 13.9s\n",
      "487:\tlearn: 0.6723545\ttotal: 13.2s\tremaining: 13.9s\n",
      "488:\tlearn: 0.6723072\ttotal: 13.3s\tremaining: 13.9s\n",
      "489:\tlearn: 0.6722335\ttotal: 13.3s\tremaining: 13.8s\n",
      "490:\tlearn: 0.6721497\ttotal: 13.3s\tremaining: 13.8s\n",
      "491:\tlearn: 0.6721059\ttotal: 13.4s\tremaining: 13.8s\n",
      "492:\tlearn: 0.6720388\ttotal: 13.4s\tremaining: 13.8s\n",
      "493:\tlearn: 0.6719941\ttotal: 13.4s\tremaining: 13.7s\n",
      "494:\tlearn: 0.6719570\ttotal: 13.4s\tremaining: 13.7s\n",
      "495:\tlearn: 0.6718752\ttotal: 13.5s\tremaining: 13.7s\n",
      "496:\tlearn: 0.6717951\ttotal: 13.5s\tremaining: 13.7s\n",
      "497:\tlearn: 0.6717493\ttotal: 13.5s\tremaining: 13.6s\n",
      "498:\tlearn: 0.6716862\ttotal: 13.5s\tremaining: 13.6s\n",
      "499:\tlearn: 0.6716367\ttotal: 13.6s\tremaining: 13.6s\n",
      "500:\tlearn: 0.6715883\ttotal: 13.6s\tremaining: 13.5s\n",
      "501:\tlearn: 0.6715118\ttotal: 13.6s\tremaining: 13.5s\n",
      "502:\tlearn: 0.6714416\ttotal: 13.7s\tremaining: 13.5s\n",
      "503:\tlearn: 0.6713715\ttotal: 13.7s\tremaining: 13.5s\n",
      "504:\tlearn: 0.6712979\ttotal: 13.7s\tremaining: 13.4s\n",
      "505:\tlearn: 0.6712272\ttotal: 13.7s\tremaining: 13.4s\n",
      "506:\tlearn: 0.6711615\ttotal: 13.8s\tremaining: 13.4s\n",
      "507:\tlearn: 0.6711068\ttotal: 13.8s\tremaining: 13.3s\n",
      "508:\tlearn: 0.6710580\ttotal: 13.8s\tremaining: 13.3s\n",
      "509:\tlearn: 0.6710078\ttotal: 13.8s\tremaining: 13.3s\n",
      "510:\tlearn: 0.6709363\ttotal: 13.9s\tremaining: 13.3s\n",
      "511:\tlearn: 0.6708920\ttotal: 13.9s\tremaining: 13.2s\n",
      "512:\tlearn: 0.6708293\ttotal: 13.9s\tremaining: 13.2s\n",
      "513:\tlearn: 0.6707736\ttotal: 14s\tremaining: 13.2s\n",
      "514:\tlearn: 0.6707341\ttotal: 14s\tremaining: 13.2s\n",
      "515:\tlearn: 0.6706850\ttotal: 14s\tremaining: 13.1s\n",
      "516:\tlearn: 0.6706040\ttotal: 14s\tremaining: 13.1s\n",
      "517:\tlearn: 0.6705318\ttotal: 14.1s\tremaining: 13.1s\n",
      "518:\tlearn: 0.6704643\ttotal: 14.1s\tremaining: 13.1s\n",
      "519:\tlearn: 0.6704015\ttotal: 14.1s\tremaining: 13s\n",
      "520:\tlearn: 0.6703540\ttotal: 14.1s\tremaining: 13s\n",
      "521:\tlearn: 0.6702698\ttotal: 14.2s\tremaining: 13s\n",
      "522:\tlearn: 0.6701999\ttotal: 14.2s\tremaining: 12.9s\n",
      "523:\tlearn: 0.6701641\ttotal: 14.2s\tremaining: 12.9s\n",
      "524:\tlearn: 0.6700877\ttotal: 14.2s\tremaining: 12.9s\n",
      "525:\tlearn: 0.6700666\ttotal: 14.3s\tremaining: 12.9s\n",
      "526:\tlearn: 0.6700076\ttotal: 14.3s\tremaining: 12.8s\n",
      "527:\tlearn: 0.6699560\ttotal: 14.3s\tremaining: 12.8s\n",
      "528:\tlearn: 0.6698982\ttotal: 14.3s\tremaining: 12.8s\n",
      "529:\tlearn: 0.6697981\ttotal: 14.4s\tremaining: 12.7s\n",
      "530:\tlearn: 0.6697476\ttotal: 14.4s\tremaining: 12.7s\n",
      "531:\tlearn: 0.6697090\ttotal: 14.4s\tremaining: 12.7s\n",
      "532:\tlearn: 0.6696692\ttotal: 14.4s\tremaining: 12.7s\n",
      "533:\tlearn: 0.6696012\ttotal: 14.5s\tremaining: 12.6s\n",
      "534:\tlearn: 0.6695594\ttotal: 14.5s\tremaining: 12.6s\n",
      "535:\tlearn: 0.6694665\ttotal: 14.5s\tremaining: 12.6s\n",
      "536:\tlearn: 0.6693831\ttotal: 14.6s\tremaining: 12.5s\n",
      "537:\tlearn: 0.6693513\ttotal: 14.6s\tremaining: 12.5s\n",
      "538:\tlearn: 0.6692887\ttotal: 14.6s\tremaining: 12.5s\n",
      "539:\tlearn: 0.6692097\ttotal: 14.6s\tremaining: 12.5s\n",
      "540:\tlearn: 0.6691285\ttotal: 14.7s\tremaining: 12.4s\n",
      "541:\tlearn: 0.6690566\ttotal: 14.7s\tremaining: 12.4s\n",
      "542:\tlearn: 0.6690057\ttotal: 14.7s\tremaining: 12.4s\n",
      "543:\tlearn: 0.6689419\ttotal: 14.8s\tremaining: 12.4s\n",
      "544:\tlearn: 0.6688426\ttotal: 14.8s\tremaining: 12.3s\n",
      "545:\tlearn: 0.6687759\ttotal: 14.8s\tremaining: 12.3s\n",
      "546:\tlearn: 0.6687239\ttotal: 14.8s\tremaining: 12.3s\n",
      "547:\tlearn: 0.6686904\ttotal: 14.9s\tremaining: 12.3s\n",
      "548:\tlearn: 0.6686536\ttotal: 14.9s\tremaining: 12.2s\n",
      "549:\tlearn: 0.6685776\ttotal: 14.9s\tremaining: 12.2s\n",
      "550:\tlearn: 0.6685238\ttotal: 14.9s\tremaining: 12.2s\n",
      "551:\tlearn: 0.6684530\ttotal: 14.9s\tremaining: 12.1s\n",
      "552:\tlearn: 0.6684154\ttotal: 15s\tremaining: 12.1s\n",
      "553:\tlearn: 0.6683546\ttotal: 15s\tremaining: 12.1s\n",
      "554:\tlearn: 0.6682852\ttotal: 15s\tremaining: 12s\n",
      "555:\tlearn: 0.6681931\ttotal: 15.1s\tremaining: 12s\n",
      "556:\tlearn: 0.6681419\ttotal: 15.1s\tremaining: 12s\n",
      "557:\tlearn: 0.6680712\ttotal: 15.1s\tremaining: 12s\n",
      "558:\tlearn: 0.6680096\ttotal: 15.1s\tremaining: 11.9s\n",
      "559:\tlearn: 0.6679267\ttotal: 15.2s\tremaining: 11.9s\n",
      "560:\tlearn: 0.6678680\ttotal: 15.2s\tremaining: 11.9s\n",
      "561:\tlearn: 0.6677735\ttotal: 15.2s\tremaining: 11.9s\n",
      "562:\tlearn: 0.6677408\ttotal: 15.2s\tremaining: 11.8s\n",
      "563:\tlearn: 0.6676668\ttotal: 15.3s\tremaining: 11.8s\n",
      "564:\tlearn: 0.6675943\ttotal: 15.3s\tremaining: 11.8s\n",
      "565:\tlearn: 0.6675576\ttotal: 15.3s\tremaining: 11.7s\n",
      "566:\tlearn: 0.6674979\ttotal: 15.3s\tremaining: 11.7s\n",
      "567:\tlearn: 0.6674500\ttotal: 15.4s\tremaining: 11.7s\n",
      "568:\tlearn: 0.6674097\ttotal: 15.4s\tremaining: 11.7s\n",
      "569:\tlearn: 0.6673586\ttotal: 15.4s\tremaining: 11.6s\n",
      "570:\tlearn: 0.6672640\ttotal: 15.4s\tremaining: 11.6s\n",
      "571:\tlearn: 0.6671589\ttotal: 15.5s\tremaining: 11.6s\n",
      "572:\tlearn: 0.6670989\ttotal: 15.5s\tremaining: 11.5s\n",
      "573:\tlearn: 0.6670320\ttotal: 15.5s\tremaining: 11.5s\n",
      "574:\tlearn: 0.6669667\ttotal: 15.5s\tremaining: 11.5s\n",
      "575:\tlearn: 0.6668987\ttotal: 15.6s\tremaining: 11.5s\n",
      "576:\tlearn: 0.6668498\ttotal: 15.6s\tremaining: 11.4s\n",
      "577:\tlearn: 0.6667906\ttotal: 15.6s\tremaining: 11.4s\n",
      "578:\tlearn: 0.6667206\ttotal: 15.7s\tremaining: 11.4s\n",
      "579:\tlearn: 0.6666583\ttotal: 15.7s\tremaining: 11.4s\n",
      "580:\tlearn: 0.6665632\ttotal: 15.7s\tremaining: 11.3s\n",
      "581:\tlearn: 0.6664723\ttotal: 15.7s\tremaining: 11.3s\n",
      "582:\tlearn: 0.6664464\ttotal: 15.8s\tremaining: 11.3s\n",
      "583:\tlearn: 0.6663861\ttotal: 15.8s\tremaining: 11.2s\n",
      "584:\tlearn: 0.6663073\ttotal: 15.8s\tremaining: 11.2s\n",
      "585:\tlearn: 0.6662496\ttotal: 15.8s\tremaining: 11.2s\n",
      "586:\tlearn: 0.6661922\ttotal: 15.9s\tremaining: 11.2s\n",
      "587:\tlearn: 0.6661487\ttotal: 15.9s\tremaining: 11.1s\n",
      "588:\tlearn: 0.6661035\ttotal: 15.9s\tremaining: 11.1s\n",
      "589:\tlearn: 0.6660371\ttotal: 15.9s\tremaining: 11.1s\n",
      "590:\tlearn: 0.6659812\ttotal: 16s\tremaining: 11.1s\n",
      "591:\tlearn: 0.6659056\ttotal: 16s\tremaining: 11s\n",
      "592:\tlearn: 0.6658695\ttotal: 16s\tremaining: 11s\n",
      "593:\tlearn: 0.6658296\ttotal: 16.1s\tremaining: 11s\n",
      "594:\tlearn: 0.6657673\ttotal: 16.1s\tremaining: 11s\n",
      "595:\tlearn: 0.6656931\ttotal: 16.1s\tremaining: 10.9s\n",
      "596:\tlearn: 0.6656366\ttotal: 16.2s\tremaining: 10.9s\n",
      "597:\tlearn: 0.6655579\ttotal: 16.2s\tremaining: 10.9s\n",
      "598:\tlearn: 0.6655096\ttotal: 16.2s\tremaining: 10.9s\n",
      "599:\tlearn: 0.6654533\ttotal: 16.2s\tremaining: 10.8s\n",
      "600:\tlearn: 0.6654223\ttotal: 16.3s\tremaining: 10.8s\n",
      "601:\tlearn: 0.6653506\ttotal: 16.3s\tremaining: 10.8s\n",
      "602:\tlearn: 0.6653045\ttotal: 16.3s\tremaining: 10.7s\n",
      "603:\tlearn: 0.6652361\ttotal: 16.4s\tremaining: 10.7s\n",
      "604:\tlearn: 0.6651736\ttotal: 16.4s\tremaining: 10.7s\n",
      "605:\tlearn: 0.6651000\ttotal: 16.4s\tremaining: 10.7s\n",
      "606:\tlearn: 0.6650391\ttotal: 16.5s\tremaining: 10.7s\n",
      "607:\tlearn: 0.6649528\ttotal: 16.5s\tremaining: 10.6s\n",
      "608:\tlearn: 0.6649105\ttotal: 16.5s\tremaining: 10.6s\n",
      "609:\tlearn: 0.6648640\ttotal: 16.6s\tremaining: 10.6s\n",
      "610:\tlearn: 0.6648014\ttotal: 16.6s\tremaining: 10.6s\n",
      "611:\tlearn: 0.6647299\ttotal: 16.6s\tremaining: 10.5s\n",
      "612:\tlearn: 0.6646748\ttotal: 16.6s\tremaining: 10.5s\n",
      "613:\tlearn: 0.6645814\ttotal: 16.7s\tremaining: 10.5s\n",
      "614:\tlearn: 0.6645326\ttotal: 16.7s\tremaining: 10.4s\n",
      "615:\tlearn: 0.6644836\ttotal: 16.7s\tremaining: 10.4s\n",
      "616:\tlearn: 0.6643799\ttotal: 16.7s\tremaining: 10.4s\n",
      "617:\tlearn: 0.6643381\ttotal: 16.8s\tremaining: 10.4s\n",
      "618:\tlearn: 0.6642841\ttotal: 16.8s\tremaining: 10.3s\n",
      "619:\tlearn: 0.6642479\ttotal: 16.8s\tremaining: 10.3s\n",
      "620:\tlearn: 0.6642010\ttotal: 16.8s\tremaining: 10.3s\n",
      "621:\tlearn: 0.6641533\ttotal: 16.9s\tremaining: 10.3s\n",
      "622:\tlearn: 0.6640667\ttotal: 16.9s\tremaining: 10.2s\n",
      "623:\tlearn: 0.6640201\ttotal: 16.9s\tremaining: 10.2s\n",
      "624:\tlearn: 0.6639625\ttotal: 16.9s\tremaining: 10.2s\n",
      "625:\tlearn: 0.6639113\ttotal: 17s\tremaining: 10.1s\n",
      "626:\tlearn: 0.6638468\ttotal: 17s\tremaining: 10.1s\n",
      "627:\tlearn: 0.6637851\ttotal: 17s\tremaining: 10.1s\n",
      "628:\tlearn: 0.6636903\ttotal: 17.1s\tremaining: 10.1s\n",
      "629:\tlearn: 0.6636477\ttotal: 17.1s\tremaining: 10s\n",
      "630:\tlearn: 0.6636056\ttotal: 17.1s\tremaining: 10s\n",
      "631:\tlearn: 0.6635407\ttotal: 17.1s\tremaining: 9.97s\n",
      "632:\tlearn: 0.6634696\ttotal: 17.2s\tremaining: 9.95s\n",
      "633:\tlearn: 0.6633931\ttotal: 17.2s\tremaining: 9.92s\n",
      "634:\tlearn: 0.6633552\ttotal: 17.2s\tremaining: 9.89s\n",
      "635:\tlearn: 0.6633076\ttotal: 17.2s\tremaining: 9.86s\n",
      "636:\tlearn: 0.6632346\ttotal: 17.3s\tremaining: 9.84s\n",
      "637:\tlearn: 0.6631752\ttotal: 17.3s\tremaining: 9.81s\n",
      "638:\tlearn: 0.6630986\ttotal: 17.3s\tremaining: 9.78s\n",
      "639:\tlearn: 0.6630393\ttotal: 17.3s\tremaining: 9.75s\n",
      "640:\tlearn: 0.6629997\ttotal: 17.4s\tremaining: 9.73s\n",
      "641:\tlearn: 0.6629288\ttotal: 17.4s\tremaining: 9.7s\n",
      "642:\tlearn: 0.6628667\ttotal: 17.4s\tremaining: 9.67s\n",
      "643:\tlearn: 0.6628099\ttotal: 17.4s\tremaining: 9.64s\n"
     ]
    },
    {
     "name": "stdout",
     "output_type": "stream",
     "text": [
      "644:\tlearn: 0.6627528\ttotal: 17.5s\tremaining: 9.62s\n",
      "645:\tlearn: 0.6626736\ttotal: 17.5s\tremaining: 9.59s\n",
      "646:\tlearn: 0.6626254\ttotal: 17.5s\tremaining: 9.56s\n",
      "647:\tlearn: 0.6625650\ttotal: 17.6s\tremaining: 9.54s\n",
      "648:\tlearn: 0.6625090\ttotal: 17.6s\tremaining: 9.51s\n",
      "649:\tlearn: 0.6624480\ttotal: 17.6s\tremaining: 9.48s\n",
      "650:\tlearn: 0.6624031\ttotal: 17.6s\tremaining: 9.45s\n",
      "651:\tlearn: 0.6623387\ttotal: 17.7s\tremaining: 9.43s\n",
      "652:\tlearn: 0.6623032\ttotal: 17.7s\tremaining: 9.4s\n",
      "653:\tlearn: 0.6622443\ttotal: 17.7s\tremaining: 9.37s\n",
      "654:\tlearn: 0.6621825\ttotal: 17.7s\tremaining: 9.34s\n",
      "655:\tlearn: 0.6620894\ttotal: 17.8s\tremaining: 9.32s\n",
      "656:\tlearn: 0.6620121\ttotal: 17.8s\tremaining: 9.29s\n",
      "657:\tlearn: 0.6619490\ttotal: 17.8s\tremaining: 9.26s\n",
      "658:\tlearn: 0.6618748\ttotal: 17.8s\tremaining: 9.24s\n",
      "659:\tlearn: 0.6618041\ttotal: 17.9s\tremaining: 9.21s\n",
      "660:\tlearn: 0.6617417\ttotal: 17.9s\tremaining: 9.18s\n",
      "661:\tlearn: 0.6616858\ttotal: 17.9s\tremaining: 9.15s\n",
      "662:\tlearn: 0.6616048\ttotal: 18s\tremaining: 9.12s\n",
      "663:\tlearn: 0.6615401\ttotal: 18s\tremaining: 9.1s\n",
      "664:\tlearn: 0.6614906\ttotal: 18s\tremaining: 9.07s\n",
      "665:\tlearn: 0.6614316\ttotal: 18s\tremaining: 9.04s\n",
      "666:\tlearn: 0.6613834\ttotal: 18.1s\tremaining: 9.02s\n",
      "667:\tlearn: 0.6613279\ttotal: 18.1s\tremaining: 8.99s\n",
      "668:\tlearn: 0.6612540\ttotal: 18.1s\tremaining: 8.96s\n",
      "669:\tlearn: 0.6612046\ttotal: 18.1s\tremaining: 8.93s\n",
      "670:\tlearn: 0.6611469\ttotal: 18.2s\tremaining: 8.9s\n",
      "671:\tlearn: 0.6611191\ttotal: 18.2s\tremaining: 8.88s\n",
      "672:\tlearn: 0.6610663\ttotal: 18.2s\tremaining: 8.85s\n",
      "673:\tlearn: 0.6610088\ttotal: 18.2s\tremaining: 8.82s\n",
      "674:\tlearn: 0.6609393\ttotal: 18.3s\tremaining: 8.79s\n",
      "675:\tlearn: 0.6608984\ttotal: 18.3s\tremaining: 8.77s\n",
      "676:\tlearn: 0.6608576\ttotal: 18.3s\tremaining: 8.74s\n",
      "677:\tlearn: 0.6607763\ttotal: 18.3s\tremaining: 8.71s\n",
      "678:\tlearn: 0.6607218\ttotal: 18.4s\tremaining: 8.69s\n",
      "679:\tlearn: 0.6606555\ttotal: 18.4s\tremaining: 8.66s\n",
      "680:\tlearn: 0.6605889\ttotal: 18.4s\tremaining: 8.63s\n",
      "681:\tlearn: 0.6605148\ttotal: 18.5s\tremaining: 8.61s\n",
      "682:\tlearn: 0.6604673\ttotal: 18.5s\tremaining: 8.58s\n",
      "683:\tlearn: 0.6603768\ttotal: 18.5s\tremaining: 8.55s\n",
      "684:\tlearn: 0.6603101\ttotal: 18.5s\tremaining: 8.52s\n",
      "685:\tlearn: 0.6602537\ttotal: 18.6s\tremaining: 8.5s\n",
      "686:\tlearn: 0.6602160\ttotal: 18.6s\tremaining: 8.47s\n",
      "687:\tlearn: 0.6601652\ttotal: 18.6s\tremaining: 8.45s\n",
      "688:\tlearn: 0.6601412\ttotal: 18.6s\tremaining: 8.42s\n",
      "689:\tlearn: 0.6600821\ttotal: 18.7s\tremaining: 8.39s\n",
      "690:\tlearn: 0.6600500\ttotal: 18.7s\tremaining: 8.36s\n",
      "691:\tlearn: 0.6600120\ttotal: 18.7s\tremaining: 8.34s\n",
      "692:\tlearn: 0.6599637\ttotal: 18.8s\tremaining: 8.31s\n",
      "693:\tlearn: 0.6599359\ttotal: 18.8s\tremaining: 8.28s\n",
      "694:\tlearn: 0.6598957\ttotal: 18.8s\tremaining: 8.26s\n",
      "695:\tlearn: 0.6598509\ttotal: 18.8s\tremaining: 8.23s\n",
      "696:\tlearn: 0.6598047\ttotal: 18.9s\tremaining: 8.2s\n",
      "697:\tlearn: 0.6597601\ttotal: 18.9s\tremaining: 8.17s\n",
      "698:\tlearn: 0.6597228\ttotal: 18.9s\tremaining: 8.15s\n",
      "699:\tlearn: 0.6596948\ttotal: 18.9s\tremaining: 8.12s\n",
      "700:\tlearn: 0.6596449\ttotal: 19s\tremaining: 8.09s\n",
      "701:\tlearn: 0.6596097\ttotal: 19s\tremaining: 8.06s\n",
      "702:\tlearn: 0.6595734\ttotal: 19s\tremaining: 8.04s\n",
      "703:\tlearn: 0.6595025\ttotal: 19s\tremaining: 8.01s\n",
      "704:\tlearn: 0.6594241\ttotal: 19.1s\tremaining: 7.98s\n",
      "705:\tlearn: 0.6593575\ttotal: 19.1s\tremaining: 7.95s\n",
      "706:\tlearn: 0.6592923\ttotal: 19.1s\tremaining: 7.92s\n",
      "707:\tlearn: 0.6592405\ttotal: 19.1s\tremaining: 7.9s\n",
      "708:\tlearn: 0.6591626\ttotal: 19.2s\tremaining: 7.87s\n",
      "709:\tlearn: 0.6591157\ttotal: 19.2s\tremaining: 7.84s\n",
      "710:\tlearn: 0.6590517\ttotal: 19.2s\tremaining: 7.81s\n",
      "711:\tlearn: 0.6589776\ttotal: 19.2s\tremaining: 7.79s\n",
      "712:\tlearn: 0.6589219\ttotal: 19.3s\tremaining: 7.76s\n",
      "713:\tlearn: 0.6588621\ttotal: 19.3s\tremaining: 7.73s\n",
      "714:\tlearn: 0.6588332\ttotal: 19.3s\tremaining: 7.7s\n",
      "715:\tlearn: 0.6587670\ttotal: 19.4s\tremaining: 7.67s\n",
      "716:\tlearn: 0.6587213\ttotal: 19.4s\tremaining: 7.65s\n",
      "717:\tlearn: 0.6586670\ttotal: 19.4s\tremaining: 7.62s\n",
      "718:\tlearn: 0.6586200\ttotal: 19.4s\tremaining: 7.59s\n",
      "719:\tlearn: 0.6585853\ttotal: 19.5s\tremaining: 7.57s\n",
      "720:\tlearn: 0.6585212\ttotal: 19.5s\tremaining: 7.54s\n",
      "721:\tlearn: 0.6584712\ttotal: 19.5s\tremaining: 7.51s\n",
      "722:\tlearn: 0.6583916\ttotal: 19.5s\tremaining: 7.48s\n",
      "723:\tlearn: 0.6583642\ttotal: 19.6s\tremaining: 7.46s\n",
      "724:\tlearn: 0.6582949\ttotal: 19.6s\tremaining: 7.43s\n",
      "725:\tlearn: 0.6582370\ttotal: 19.6s\tremaining: 7.4s\n",
      "726:\tlearn: 0.6582077\ttotal: 19.6s\tremaining: 7.37s\n",
      "727:\tlearn: 0.6581586\ttotal: 19.7s\tremaining: 7.35s\n",
      "728:\tlearn: 0.6581019\ttotal: 19.7s\tremaining: 7.32s\n",
      "729:\tlearn: 0.6580647\ttotal: 19.7s\tremaining: 7.29s\n",
      "730:\tlearn: 0.6580116\ttotal: 19.7s\tremaining: 7.26s\n",
      "731:\tlearn: 0.6579435\ttotal: 19.8s\tremaining: 7.24s\n",
      "732:\tlearn: 0.6578941\ttotal: 19.8s\tremaining: 7.21s\n",
      "733:\tlearn: 0.6578468\ttotal: 19.8s\tremaining: 7.18s\n",
      "734:\tlearn: 0.6577826\ttotal: 19.9s\tremaining: 7.16s\n",
      "735:\tlearn: 0.6577239\ttotal: 19.9s\tremaining: 7.13s\n",
      "736:\tlearn: 0.6576932\ttotal: 19.9s\tremaining: 7.1s\n",
      "737:\tlearn: 0.6576425\ttotal: 19.9s\tremaining: 7.08s\n",
      "738:\tlearn: 0.6575841\ttotal: 20s\tremaining: 7.05s\n",
      "739:\tlearn: 0.6575194\ttotal: 20s\tremaining: 7.02s\n",
      "740:\tlearn: 0.6574572\ttotal: 20s\tremaining: 6.99s\n",
      "741:\tlearn: 0.6573735\ttotal: 20s\tremaining: 6.97s\n",
      "742:\tlearn: 0.6573223\ttotal: 20.1s\tremaining: 6.94s\n",
      "743:\tlearn: 0.6572638\ttotal: 20.1s\tremaining: 6.91s\n",
      "744:\tlearn: 0.6572046\ttotal: 20.1s\tremaining: 6.88s\n",
      "745:\tlearn: 0.6571542\ttotal: 20.1s\tremaining: 6.86s\n",
      "746:\tlearn: 0.6571143\ttotal: 20.2s\tremaining: 6.83s\n",
      "747:\tlearn: 0.6570484\ttotal: 20.2s\tremaining: 6.8s\n",
      "748:\tlearn: 0.6569992\ttotal: 20.2s\tremaining: 6.78s\n",
      "749:\tlearn: 0.6569407\ttotal: 20.2s\tremaining: 6.75s\n",
      "750:\tlearn: 0.6568701\ttotal: 20.3s\tremaining: 6.72s\n",
      "751:\tlearn: 0.6568461\ttotal: 20.3s\tremaining: 6.69s\n",
      "752:\tlearn: 0.6568149\ttotal: 20.3s\tremaining: 6.67s\n",
      "753:\tlearn: 0.6567693\ttotal: 20.3s\tremaining: 6.64s\n",
      "754:\tlearn: 0.6567110\ttotal: 20.4s\tremaining: 6.61s\n",
      "755:\tlearn: 0.6566561\ttotal: 20.4s\tremaining: 6.58s\n",
      "756:\tlearn: 0.6566171\ttotal: 20.4s\tremaining: 6.55s\n",
      "757:\tlearn: 0.6565750\ttotal: 20.4s\tremaining: 6.53s\n",
      "758:\tlearn: 0.6564903\ttotal: 20.5s\tremaining: 6.5s\n",
      "759:\tlearn: 0.6564325\ttotal: 20.5s\tremaining: 6.47s\n",
      "760:\tlearn: 0.6563641\ttotal: 20.5s\tremaining: 6.45s\n",
      "761:\tlearn: 0.6562762\ttotal: 20.6s\tremaining: 6.42s\n",
      "762:\tlearn: 0.6562213\ttotal: 20.6s\tremaining: 6.39s\n",
      "763:\tlearn: 0.6561747\ttotal: 20.6s\tremaining: 6.36s\n",
      "764:\tlearn: 0.6561294\ttotal: 20.6s\tremaining: 6.34s\n",
      "765:\tlearn: 0.6560924\ttotal: 20.6s\tremaining: 6.31s\n",
      "766:\tlearn: 0.6560445\ttotal: 20.7s\tremaining: 6.28s\n",
      "767:\tlearn: 0.6559727\ttotal: 20.7s\tremaining: 6.25s\n",
      "768:\tlearn: 0.6559378\ttotal: 20.7s\tremaining: 6.23s\n",
      "769:\tlearn: 0.6559026\ttotal: 20.8s\tremaining: 6.2s\n",
      "770:\tlearn: 0.6558424\ttotal: 20.8s\tremaining: 6.17s\n",
      "771:\tlearn: 0.6558092\ttotal: 20.8s\tremaining: 6.14s\n",
      "772:\tlearn: 0.6557699\ttotal: 20.8s\tremaining: 6.12s\n",
      "773:\tlearn: 0.6557158\ttotal: 20.9s\tremaining: 6.09s\n",
      "774:\tlearn: 0.6556791\ttotal: 20.9s\tremaining: 6.07s\n",
      "775:\tlearn: 0.6556633\ttotal: 20.9s\tremaining: 6.04s\n",
      "776:\tlearn: 0.6555972\ttotal: 20.9s\tremaining: 6.01s\n",
      "777:\tlearn: 0.6555621\ttotal: 21s\tremaining: 5.98s\n",
      "778:\tlearn: 0.6555277\ttotal: 21s\tremaining: 5.96s\n",
      "779:\tlearn: 0.6554945\ttotal: 21s\tremaining: 5.93s\n",
      "780:\tlearn: 0.6554614\ttotal: 21s\tremaining: 5.9s\n",
      "781:\tlearn: 0.6553840\ttotal: 21.1s\tremaining: 5.88s\n",
      "782:\tlearn: 0.6553461\ttotal: 21.1s\tremaining: 5.85s\n",
      "783:\tlearn: 0.6552636\ttotal: 21.1s\tremaining: 5.83s\n",
      "784:\tlearn: 0.6552158\ttotal: 21.2s\tremaining: 5.8s\n",
      "785:\tlearn: 0.6551656\ttotal: 21.2s\tremaining: 5.77s\n",
      "786:\tlearn: 0.6550698\ttotal: 21.2s\tremaining: 5.75s\n",
      "787:\tlearn: 0.6550162\ttotal: 21.3s\tremaining: 5.72s\n",
      "788:\tlearn: 0.6549599\ttotal: 21.3s\tremaining: 5.69s\n",
      "789:\tlearn: 0.6549057\ttotal: 21.3s\tremaining: 5.66s\n",
      "790:\tlearn: 0.6548682\ttotal: 21.3s\tremaining: 5.64s\n",
      "791:\tlearn: 0.6548293\ttotal: 21.4s\tremaining: 5.61s\n",
      "792:\tlearn: 0.6547640\ttotal: 21.4s\tremaining: 5.58s\n",
      "793:\tlearn: 0.6546884\ttotal: 21.4s\tremaining: 5.55s\n",
      "794:\tlearn: 0.6545975\ttotal: 21.4s\tremaining: 5.53s\n",
      "795:\tlearn: 0.6545545\ttotal: 21.5s\tremaining: 5.5s\n",
      "796:\tlearn: 0.6544957\ttotal: 21.5s\tremaining: 5.47s\n",
      "797:\tlearn: 0.6544551\ttotal: 21.5s\tremaining: 5.45s\n",
      "798:\tlearn: 0.6544017\ttotal: 21.5s\tremaining: 5.42s\n",
      "799:\tlearn: 0.6543494\ttotal: 21.6s\tremaining: 5.39s\n",
      "800:\tlearn: 0.6542908\ttotal: 21.6s\tremaining: 5.36s\n",
      "801:\tlearn: 0.6541920\ttotal: 21.6s\tremaining: 5.34s\n",
      "802:\tlearn: 0.6541530\ttotal: 21.6s\tremaining: 5.31s\n",
      "803:\tlearn: 0.6540855\ttotal: 21.7s\tremaining: 5.28s\n"
     ]
    },
    {
     "name": "stdout",
     "output_type": "stream",
     "text": [
      "804:\tlearn: 0.6540281\ttotal: 21.7s\tremaining: 5.25s\n",
      "805:\tlearn: 0.6539639\ttotal: 21.7s\tremaining: 5.23s\n",
      "806:\tlearn: 0.6539003\ttotal: 21.8s\tremaining: 5.2s\n",
      "807:\tlearn: 0.6538436\ttotal: 21.8s\tremaining: 5.18s\n",
      "808:\tlearn: 0.6537558\ttotal: 21.8s\tremaining: 5.15s\n",
      "809:\tlearn: 0.6536845\ttotal: 21.8s\tremaining: 5.13s\n",
      "810:\tlearn: 0.6536324\ttotal: 21.9s\tremaining: 5.1s\n",
      "811:\tlearn: 0.6535638\ttotal: 21.9s\tremaining: 5.07s\n",
      "812:\tlearn: 0.6535192\ttotal: 21.9s\tremaining: 5.05s\n",
      "813:\tlearn: 0.6534427\ttotal: 22s\tremaining: 5.02s\n",
      "814:\tlearn: 0.6533959\ttotal: 22s\tremaining: 4.99s\n",
      "815:\tlearn: 0.6533562\ttotal: 22s\tremaining: 4.97s\n",
      "816:\tlearn: 0.6532970\ttotal: 22.1s\tremaining: 4.94s\n",
      "817:\tlearn: 0.6532579\ttotal: 22.1s\tremaining: 4.91s\n",
      "818:\tlearn: 0.6532123\ttotal: 22.1s\tremaining: 4.89s\n",
      "819:\tlearn: 0.6531711\ttotal: 22.1s\tremaining: 4.86s\n",
      "820:\tlearn: 0.6531247\ttotal: 22.2s\tremaining: 4.83s\n",
      "821:\tlearn: 0.6530941\ttotal: 22.2s\tremaining: 4.81s\n",
      "822:\tlearn: 0.6530726\ttotal: 22.2s\tremaining: 4.78s\n",
      "823:\tlearn: 0.6529853\ttotal: 22.2s\tremaining: 4.75s\n",
      "824:\tlearn: 0.6529388\ttotal: 22.3s\tremaining: 4.72s\n",
      "825:\tlearn: 0.6528895\ttotal: 22.3s\tremaining: 4.7s\n",
      "826:\tlearn: 0.6528371\ttotal: 22.3s\tremaining: 4.67s\n",
      "827:\tlearn: 0.6527996\ttotal: 22.4s\tremaining: 4.65s\n",
      "828:\tlearn: 0.6527700\ttotal: 22.4s\tremaining: 4.62s\n",
      "829:\tlearn: 0.6527146\ttotal: 22.4s\tremaining: 4.59s\n",
      "830:\tlearn: 0.6526672\ttotal: 22.5s\tremaining: 4.57s\n",
      "831:\tlearn: 0.6526140\ttotal: 22.5s\tremaining: 4.54s\n",
      "832:\tlearn: 0.6525585\ttotal: 22.5s\tremaining: 4.51s\n",
      "833:\tlearn: 0.6524793\ttotal: 22.5s\tremaining: 4.49s\n",
      "834:\tlearn: 0.6524028\ttotal: 22.6s\tremaining: 4.46s\n",
      "835:\tlearn: 0.6523176\ttotal: 22.6s\tremaining: 4.43s\n",
      "836:\tlearn: 0.6522803\ttotal: 22.6s\tremaining: 4.41s\n",
      "837:\tlearn: 0.6522309\ttotal: 22.7s\tremaining: 4.38s\n",
      "838:\tlearn: 0.6521714\ttotal: 22.7s\tremaining: 4.35s\n",
      "839:\tlearn: 0.6521335\ttotal: 22.7s\tremaining: 4.33s\n",
      "840:\tlearn: 0.6520765\ttotal: 22.7s\tremaining: 4.3s\n",
      "841:\tlearn: 0.6520328\ttotal: 22.8s\tremaining: 4.27s\n",
      "842:\tlearn: 0.6519579\ttotal: 22.8s\tremaining: 4.25s\n",
      "843:\tlearn: 0.6519102\ttotal: 22.8s\tremaining: 4.22s\n",
      "844:\tlearn: 0.6518313\ttotal: 22.9s\tremaining: 4.2s\n",
      "845:\tlearn: 0.6517511\ttotal: 22.9s\tremaining: 4.17s\n",
      "846:\tlearn: 0.6516993\ttotal: 22.9s\tremaining: 4.14s\n",
      "847:\tlearn: 0.6516398\ttotal: 23s\tremaining: 4.11s\n",
      "848:\tlearn: 0.6515924\ttotal: 23s\tremaining: 4.09s\n",
      "849:\tlearn: 0.6515379\ttotal: 23s\tremaining: 4.06s\n",
      "850:\tlearn: 0.6515058\ttotal: 23.1s\tremaining: 4.04s\n",
      "851:\tlearn: 0.6514328\ttotal: 23.1s\tremaining: 4.01s\n",
      "852:\tlearn: 0.6513739\ttotal: 23.1s\tremaining: 3.98s\n",
      "853:\tlearn: 0.6513286\ttotal: 23.1s\tremaining: 3.96s\n",
      "854:\tlearn: 0.6512625\ttotal: 23.2s\tremaining: 3.93s\n",
      "855:\tlearn: 0.6512025\ttotal: 23.2s\tremaining: 3.9s\n",
      "856:\tlearn: 0.6511508\ttotal: 23.2s\tremaining: 3.88s\n",
      "857:\tlearn: 0.6511094\ttotal: 23.3s\tremaining: 3.85s\n",
      "858:\tlearn: 0.6510705\ttotal: 23.3s\tremaining: 3.82s\n",
      "859:\tlearn: 0.6510267\ttotal: 23.3s\tremaining: 3.79s\n",
      "860:\tlearn: 0.6509929\ttotal: 23.3s\tremaining: 3.77s\n",
      "861:\tlearn: 0.6509250\ttotal: 23.4s\tremaining: 3.74s\n",
      "862:\tlearn: 0.6508715\ttotal: 23.4s\tremaining: 3.71s\n",
      "863:\tlearn: 0.6508300\ttotal: 23.4s\tremaining: 3.69s\n",
      "864:\tlearn: 0.6507751\ttotal: 23.5s\tremaining: 3.66s\n",
      "865:\tlearn: 0.6507215\ttotal: 23.5s\tremaining: 3.63s\n",
      "866:\tlearn: 0.6506566\ttotal: 23.5s\tremaining: 3.61s\n",
      "867:\tlearn: 0.6506210\ttotal: 23.5s\tremaining: 3.58s\n",
      "868:\tlearn: 0.6505889\ttotal: 23.6s\tremaining: 3.55s\n",
      "869:\tlearn: 0.6505496\ttotal: 23.6s\tremaining: 3.53s\n",
      "870:\tlearn: 0.6505271\ttotal: 23.6s\tremaining: 3.5s\n",
      "871:\tlearn: 0.6504860\ttotal: 23.7s\tremaining: 3.47s\n",
      "872:\tlearn: 0.6504262\ttotal: 23.7s\tremaining: 3.44s\n",
      "873:\tlearn: 0.6503734\ttotal: 23.7s\tremaining: 3.42s\n",
      "874:\tlearn: 0.6503333\ttotal: 23.8s\tremaining: 3.39s\n",
      "875:\tlearn: 0.6502847\ttotal: 23.8s\tremaining: 3.37s\n",
      "876:\tlearn: 0.6502200\ttotal: 23.8s\tremaining: 3.34s\n",
      "877:\tlearn: 0.6501620\ttotal: 23.8s\tremaining: 3.31s\n",
      "878:\tlearn: 0.6501001\ttotal: 23.9s\tremaining: 3.29s\n",
      "879:\tlearn: 0.6500537\ttotal: 23.9s\tremaining: 3.26s\n",
      "880:\tlearn: 0.6500107\ttotal: 23.9s\tremaining: 3.23s\n",
      "881:\tlearn: 0.6499510\ttotal: 24s\tremaining: 3.21s\n",
      "882:\tlearn: 0.6499050\ttotal: 24s\tremaining: 3.18s\n",
      "883:\tlearn: 0.6498459\ttotal: 24s\tremaining: 3.15s\n",
      "884:\tlearn: 0.6497916\ttotal: 24s\tremaining: 3.12s\n",
      "885:\tlearn: 0.6497666\ttotal: 24.1s\tremaining: 3.1s\n",
      "886:\tlearn: 0.6497029\ttotal: 24.1s\tremaining: 3.07s\n",
      "887:\tlearn: 0.6496520\ttotal: 24.1s\tremaining: 3.04s\n",
      "888:\tlearn: 0.6496259\ttotal: 24.2s\tremaining: 3.02s\n",
      "889:\tlearn: 0.6495743\ttotal: 24.2s\tremaining: 2.99s\n",
      "890:\tlearn: 0.6495166\ttotal: 24.2s\tremaining: 2.96s\n",
      "891:\tlearn: 0.6494749\ttotal: 24.3s\tremaining: 2.94s\n",
      "892:\tlearn: 0.6494267\ttotal: 24.3s\tremaining: 2.91s\n",
      "893:\tlearn: 0.6493700\ttotal: 24.3s\tremaining: 2.88s\n",
      "894:\tlearn: 0.6493235\ttotal: 24.3s\tremaining: 2.86s\n",
      "895:\tlearn: 0.6492923\ttotal: 24.4s\tremaining: 2.83s\n",
      "896:\tlearn: 0.6492628\ttotal: 24.4s\tremaining: 2.8s\n",
      "897:\tlearn: 0.6492072\ttotal: 24.4s\tremaining: 2.77s\n",
      "898:\tlearn: 0.6491662\ttotal: 24.5s\tremaining: 2.75s\n",
      "899:\tlearn: 0.6490838\ttotal: 24.5s\tremaining: 2.72s\n",
      "900:\tlearn: 0.6490441\ttotal: 24.5s\tremaining: 2.69s\n",
      "901:\tlearn: 0.6489821\ttotal: 24.5s\tremaining: 2.67s\n",
      "902:\tlearn: 0.6489374\ttotal: 24.6s\tremaining: 2.64s\n",
      "903:\tlearn: 0.6488577\ttotal: 24.6s\tremaining: 2.61s\n",
      "904:\tlearn: 0.6488174\ttotal: 24.6s\tremaining: 2.59s\n",
      "905:\tlearn: 0.6487527\ttotal: 24.7s\tremaining: 2.56s\n",
      "906:\tlearn: 0.6487052\ttotal: 24.7s\tremaining: 2.53s\n",
      "907:\tlearn: 0.6486559\ttotal: 24.7s\tremaining: 2.5s\n",
      "908:\tlearn: 0.6485946\ttotal: 24.8s\tremaining: 2.48s\n",
      "909:\tlearn: 0.6485186\ttotal: 24.8s\tremaining: 2.45s\n",
      "910:\tlearn: 0.6484671\ttotal: 24.8s\tremaining: 2.42s\n",
      "911:\tlearn: 0.6484146\ttotal: 24.8s\tremaining: 2.4s\n",
      "912:\tlearn: 0.6483758\ttotal: 24.9s\tremaining: 2.37s\n",
      "913:\tlearn: 0.6483154\ttotal: 24.9s\tremaining: 2.34s\n",
      "914:\tlearn: 0.6482581\ttotal: 24.9s\tremaining: 2.31s\n",
      "915:\tlearn: 0.6482063\ttotal: 24.9s\tremaining: 2.29s\n",
      "916:\tlearn: 0.6481483\ttotal: 25s\tremaining: 2.26s\n",
      "917:\tlearn: 0.6480807\ttotal: 25s\tremaining: 2.23s\n",
      "918:\tlearn: 0.6480360\ttotal: 25s\tremaining: 2.21s\n",
      "919:\tlearn: 0.6479871\ttotal: 25.1s\tremaining: 2.18s\n",
      "920:\tlearn: 0.6479441\ttotal: 25.1s\tremaining: 2.15s\n",
      "921:\tlearn: 0.6478891\ttotal: 25.1s\tremaining: 2.12s\n",
      "922:\tlearn: 0.6478135\ttotal: 25.1s\tremaining: 2.1s\n",
      "923:\tlearn: 0.6477457\ttotal: 25.2s\tremaining: 2.07s\n",
      "924:\tlearn: 0.6476836\ttotal: 25.2s\tremaining: 2.04s\n",
      "925:\tlearn: 0.6476280\ttotal: 25.2s\tremaining: 2.02s\n",
      "926:\tlearn: 0.6475792\ttotal: 25.2s\tremaining: 1.99s\n",
      "927:\tlearn: 0.6475259\ttotal: 25.3s\tremaining: 1.96s\n",
      "928:\tlearn: 0.6474616\ttotal: 25.3s\tremaining: 1.93s\n",
      "929:\tlearn: 0.6474034\ttotal: 25.3s\tremaining: 1.91s\n",
      "930:\tlearn: 0.6473451\ttotal: 25.3s\tremaining: 1.88s\n",
      "931:\tlearn: 0.6472972\ttotal: 25.4s\tremaining: 1.85s\n",
      "932:\tlearn: 0.6472457\ttotal: 25.4s\tremaining: 1.82s\n",
      "933:\tlearn: 0.6472358\ttotal: 25.4s\tremaining: 1.8s\n",
      "934:\tlearn: 0.6471979\ttotal: 25.5s\tremaining: 1.77s\n",
      "935:\tlearn: 0.6471442\ttotal: 25.5s\tremaining: 1.74s\n",
      "936:\tlearn: 0.6471153\ttotal: 25.5s\tremaining: 1.72s\n",
      "937:\tlearn: 0.6470864\ttotal: 25.5s\tremaining: 1.69s\n",
      "938:\tlearn: 0.6469952\ttotal: 25.6s\tremaining: 1.66s\n",
      "939:\tlearn: 0.6469462\ttotal: 25.6s\tremaining: 1.63s\n",
      "940:\tlearn: 0.6468787\ttotal: 25.6s\tremaining: 1.6s\n",
      "941:\tlearn: 0.6468220\ttotal: 25.6s\tremaining: 1.58s\n",
      "942:\tlearn: 0.6467781\ttotal: 25.7s\tremaining: 1.55s\n",
      "943:\tlearn: 0.6467298\ttotal: 25.7s\tremaining: 1.52s\n",
      "944:\tlearn: 0.6466724\ttotal: 25.7s\tremaining: 1.5s\n",
      "945:\tlearn: 0.6466212\ttotal: 25.7s\tremaining: 1.47s\n",
      "946:\tlearn: 0.6465948\ttotal: 25.8s\tremaining: 1.44s\n",
      "947:\tlearn: 0.6465503\ttotal: 25.8s\tremaining: 1.41s\n",
      "948:\tlearn: 0.6464966\ttotal: 25.8s\tremaining: 1.39s\n",
      "949:\tlearn: 0.6464408\ttotal: 25.8s\tremaining: 1.36s\n",
      "950:\tlearn: 0.6463634\ttotal: 25.9s\tremaining: 1.33s\n",
      "951:\tlearn: 0.6462822\ttotal: 25.9s\tremaining: 1.3s\n",
      "952:\tlearn: 0.6462413\ttotal: 25.9s\tremaining: 1.28s\n",
      "953:\tlearn: 0.6461606\ttotal: 26s\tremaining: 1.25s\n",
      "954:\tlearn: 0.6461279\ttotal: 26s\tremaining: 1.23s\n",
      "955:\tlearn: 0.6460921\ttotal: 26s\tremaining: 1.2s\n",
      "956:\tlearn: 0.6460124\ttotal: 26.1s\tremaining: 1.17s\n",
      "957:\tlearn: 0.6459592\ttotal: 26.2s\tremaining: 1.15s\n",
      "958:\tlearn: 0.6459110\ttotal: 26.3s\tremaining: 1.12s\n",
      "959:\tlearn: 0.6458683\ttotal: 26.3s\tremaining: 1.09s\n",
      "960:\tlearn: 0.6458086\ttotal: 26.3s\tremaining: 1.07s\n",
      "961:\tlearn: 0.6457618\ttotal: 26.4s\tremaining: 1.04s\n",
      "962:\tlearn: 0.6457194\ttotal: 26.4s\tremaining: 1.01s\n",
      "963:\tlearn: 0.6456738\ttotal: 26.4s\tremaining: 987ms\n",
      "964:\tlearn: 0.6456255\ttotal: 26.4s\tremaining: 959ms\n",
      "965:\tlearn: 0.6455806\ttotal: 26.5s\tremaining: 932ms\n",
      "966:\tlearn: 0.6455408\ttotal: 26.5s\tremaining: 905ms\n"
     ]
    },
    {
     "name": "stdout",
     "output_type": "stream",
     "text": [
      "967:\tlearn: 0.6454997\ttotal: 26.5s\tremaining: 878ms\n",
      "968:\tlearn: 0.6454602\ttotal: 26.6s\tremaining: 850ms\n",
      "969:\tlearn: 0.6453889\ttotal: 26.6s\tremaining: 823ms\n",
      "970:\tlearn: 0.6453418\ttotal: 26.6s\tremaining: 795ms\n",
      "971:\tlearn: 0.6452983\ttotal: 26.6s\tremaining: 768ms\n",
      "972:\tlearn: 0.6452553\ttotal: 26.7s\tremaining: 740ms\n",
      "973:\tlearn: 0.6452000\ttotal: 26.7s\tremaining: 713ms\n",
      "974:\tlearn: 0.6451540\ttotal: 26.7s\tremaining: 685ms\n",
      "975:\tlearn: 0.6451211\ttotal: 26.7s\tremaining: 658ms\n",
      "976:\tlearn: 0.6450896\ttotal: 26.8s\tremaining: 630ms\n",
      "977:\tlearn: 0.6450367\ttotal: 26.8s\tremaining: 603ms\n",
      "978:\tlearn: 0.6449853\ttotal: 26.8s\tremaining: 575ms\n",
      "979:\tlearn: 0.6449207\ttotal: 26.8s\tremaining: 548ms\n",
      "980:\tlearn: 0.6448647\ttotal: 26.9s\tremaining: 520ms\n",
      "981:\tlearn: 0.6448393\ttotal: 26.9s\tremaining: 493ms\n",
      "982:\tlearn: 0.6447952\ttotal: 26.9s\tremaining: 466ms\n",
      "983:\tlearn: 0.6447651\ttotal: 27s\tremaining: 438ms\n",
      "984:\tlearn: 0.6446845\ttotal: 27s\tremaining: 411ms\n",
      "985:\tlearn: 0.6446318\ttotal: 27s\tremaining: 384ms\n",
      "986:\tlearn: 0.6445825\ttotal: 27s\tremaining: 356ms\n",
      "987:\tlearn: 0.6444957\ttotal: 27.1s\tremaining: 329ms\n",
      "988:\tlearn: 0.6444553\ttotal: 27.1s\tremaining: 301ms\n",
      "989:\tlearn: 0.6443824\ttotal: 27.1s\tremaining: 274ms\n",
      "990:\tlearn: 0.6443367\ttotal: 27.2s\tremaining: 247ms\n",
      "991:\tlearn: 0.6442739\ttotal: 27.2s\tremaining: 219ms\n",
      "992:\tlearn: 0.6442190\ttotal: 27.2s\tremaining: 192ms\n",
      "993:\tlearn: 0.6441678\ttotal: 27.2s\tremaining: 164ms\n",
      "994:\tlearn: 0.6441168\ttotal: 27.3s\tremaining: 137ms\n",
      "995:\tlearn: 0.6440711\ttotal: 27.3s\tremaining: 110ms\n",
      "996:\tlearn: 0.6440224\ttotal: 27.3s\tremaining: 82.2ms\n",
      "997:\tlearn: 0.6439570\ttotal: 27.3s\tremaining: 54.8ms\n",
      "998:\tlearn: 0.6439108\ttotal: 27.4s\tremaining: 27.4ms\n",
      "999:\tlearn: 0.6438702\ttotal: 27.4s\tremaining: 0us\n",
      "Accuracy on train: 0.7297288499723317\n",
      "Accuracy on test: 0.6994101116483962\n"
     ]
    }
   ],
   "source": [
    "catclf = CatBoostClassifier(random_state = 41)\n",
    "catclf.fit(X_train,y_train)\n",
    "\n",
    "print('Accuracy on train:',catclf.score(X_train,y_train))\n",
    "print('Accuracy on test:',catclf.score(X_test,y_test))"
   ]
  },
  {
   "cell_type": "code",
   "execution_count": 46,
   "metadata": {},
   "outputs": [],
   "source": [
    "test_X = test.iloc[:,1:12].values\n",
    "test_y = catclf.predict(test_X)\n",
    "\n",
    "sub_ada = pd.DataFrame()\n",
    "sub_ada['Trip_ID'] = submission['Trip_ID']\n",
    "sub_ada['Surge_Pricing_Type'] = test_y\n",
    "#sub_ada.to_csv('cat_default.csv',index = False)"
   ]
  },
  {
   "cell_type": "code",
   "execution_count": 47,
   "metadata": {
    "scrolled": true
   },
   "outputs": [
    {
     "data": {
      "text/plain": [
       "<BarContainer object of 11 artists>"
      ]
     },
     "execution_count": 47,
     "metadata": {},
     "output_type": "execute_result"
    },
    {
     "data": {
      "image/png": "[encoded data removed]",
      "text/plain": [
       "<Figure size 432x288 with 1 Axes>"
      ]
     },
     "metadata": {
      "needs_background": "light"
     },
     "output_type": "display_data"
    }
   ],
   "source": [
    "fimp = pd.DataFrame(zip(train.drop(['Surge_Pricing_Type','Trip_ID'],axis = 1).columns,catclf.feature_importances_))\n",
    "fimp.columns = ['features','Score']\n",
    "\n",
    "sfimp =fimp.sort_values(by = 'Score')\n",
    "\n",
    "plt.barh(sfimp['features'],sfimp['Score'])"
   ]
  },
  {
   "cell_type": "code",
   "execution_count": 48,
   "metadata": {},
   "outputs": [
    {
     "name": "stdout",
     "output_type": "stream",
     "text": [
      "Accuracy on train: 0.71132667122381\n",
      "Accuracy on test: 0.6982961593964404\n"
     ]
    }
   ],
   "source": [
    "lgbclf = LGBMClassifier(random_state = 41)\n",
    "lgbclf.fit(X_train,y_train)\n",
    "\n",
    "print('Accuracy on train:',lgbclf.score(X_train,y_train))\n",
    "print('Accuracy on test:',lgbclf.score(X_test,y_test))"
   ]
  },
  {
   "cell_type": "code",
   "execution_count": 49,
   "metadata": {},
   "outputs": [],
   "source": [
    "test_X = test.iloc[:,1:12].values\n",
    "test_y = lgbclf.predict(test_X)\n",
    "\n",
    "sub_ada = pd.DataFrame()\n",
    "sub_ada['Trip_ID'] = submission['Trip_ID']\n",
    "sub_ada['Surge_Pricing_Type'] = test_y\n",
    "#sub_ada.to_csv('LightGBM_default.csv',index = False)"
   ]
  },
  {
   "cell_type": "code",
   "execution_count": 50,
   "metadata": {},
   "outputs": [
    {
     "data": {
      "text/plain": [
       "<BarContainer object of 11 artists>"
      ]
     },
     "execution_count": 50,
     "metadata": {},
     "output_type": "execute_result"
    },
    {
     "data": {
      "image/png": "[encoded data removed]",
      "text/plain": [
       "<Figure size 432x288 with 1 Axes>"
      ]
     },
     "metadata": {
      "needs_background": "light"
     },
     "output_type": "display_data"
    }
   ],
   "source": [
    "fimp = pd.DataFrame(zip(train.drop(['Surge_Pricing_Type','Trip_ID'],axis = 1).columns,lgbclf.feature_importances_))\n",
    "fimp.columns = ['features','Score']\n",
    "\n",
    "sfimp =fimp.sort_values(by = 'Score')\n",
    "\n",
    "plt.barh(sfimp['features'],sfimp['Score'])"
   ]
  }
 ],
 "metadata": {
  "kernelspec": {
   "display_name": "Python 3",
   "language": "python",
   "name": "python3"
  },
  "language_info": {
   "codemirror_mode": {
    "name": "ipython",
    "version": 3
   },
   "file_extension": ".py",
   "mimetype": "text/x-python",
   "name": "python",
   "nbconvert_exporter": "python",
   "pygments_lexer": "ipython3",
   "version": "3.7.6"
  }
 },
 "nbformat": 4,
 "nbformat_minor": 4
}

{
 "cells": [
  {
   "cell_type": "code",
   "execution_count": 1,
   "metadata": {},
   "outputs": [],
   "source": [
    "import pandas as pd\n",
    "from sklearn.metrics import accuracy_score\n",
    "from sklearn.model_selection import train_test_split,GridSearchCV,StratifiedKFold\n",
    "from xgboost import XGBClassifier\n",
    "from sklearn.ensemble import RandomForestClassifier,AdaBoostClassifier,ExtraTreesClassifier\n",
    "from catboost import CatBoostClassifier\n",
    "from lightgbm import LGBMClassifier\n",
    "import numpy as np\n",
    "import seaborn as sns\n",
    "import matplotlib.pyplot as plt\n",
    "import missingno as msno\n",
    "from sklearn.preprocessing import LabelEncoder"
   ]
  },
  {
   "cell_type": "code",
   "execution_count": 2,
   "metadata": {},
   "outputs": [],
   "source": [
    "train = pd.read_csv('./Data/train.csv')\n",
    "test = pd.read_csv('./Data/test.csv')\n",
    "submission = pd.read_csv('./Data/sample_submission.csv')"
   ]
  },
  {
   "cell_type": "code",
   "execution_count": 3,
   "metadata": {},
   "outputs": [
    {
     "data": {
      "text/html": [
       "<div>\n",
       "<style scoped>\n",
       "    .dataframe tbody tr th:only-of-type {\n",
       "        vertical-align: middle;\n",
       "    }\n",
       "\n",
       "    .dataframe tbody tr th {\n",
       "        vertical-align: top;\n",
       "    }\n",
       "\n",
       "    .dataframe thead th {\n",
       "        text-align: right;\n",
       "    }\n",
       "</style>\n",
       "<table border=\"1\" class=\"dataframe\">\n",
       "  <thead>\n",
       "    <tr style=\"text-align: right;\">\n",
       "      <th></th>\n",
       "      <th>Trip_ID</th>\n",
       "      <th>Trip_Distance</th>\n",
       "      <th>Type_of_Cab</th>\n",
       "      <th>Customer_Since_Months</th>\n",
       "      <th>Life_Style_Index</th>\n",
       "      <th>Confidence_Life_Style_Index</th>\n",
       "      <th>Destination_Type</th>\n",
       "      <th>Customer_Rating</th>\n",
       "      <th>Cancellation_Last_1Month</th>\n",
       "      <th>Var1</th>\n",
       "      <th>Var2</th>\n",
       "      <th>Var3</th>\n",
       "      <th>Gender</th>\n",
       "      <th>Surge_Pricing_Type</th>\n",
       "    </tr>\n",
       "  </thead>\n",
       "  <tbody>\n",
       "    <tr>\n",
       "      <th>0</th>\n",
       "      <td>T0005689460</td>\n",
       "      <td>6.77</td>\n",
       "      <td>B</td>\n",
       "      <td>1.0</td>\n",
       "      <td>2.42769</td>\n",
       "      <td>A</td>\n",
       "      <td>A</td>\n",
       "      <td>3.90500</td>\n",
       "      <td>0</td>\n",
       "      <td>40.0</td>\n",
       "      <td>46</td>\n",
       "      <td>60</td>\n",
       "      <td>Female</td>\n",
       "      <td>2</td>\n",
       "    </tr>\n",
       "    <tr>\n",
       "      <th>1</th>\n",
       "      <td>T0005689461</td>\n",
       "      <td>29.47</td>\n",
       "      <td>B</td>\n",
       "      <td>10.0</td>\n",
       "      <td>2.78245</td>\n",
       "      <td>B</td>\n",
       "      <td>A</td>\n",
       "      <td>3.45000</td>\n",
       "      <td>0</td>\n",
       "      <td>38.0</td>\n",
       "      <td>56</td>\n",
       "      <td>78</td>\n",
       "      <td>Male</td>\n",
       "      <td>2</td>\n",
       "    </tr>\n",
       "    <tr>\n",
       "      <th>2</th>\n",
       "      <td>T0005689464</td>\n",
       "      <td>41.58</td>\n",
       "      <td>NaN</td>\n",
       "      <td>10.0</td>\n",
       "      <td>NaN</td>\n",
       "      <td>NaN</td>\n",
       "      <td>E</td>\n",
       "      <td>3.50125</td>\n",
       "      <td>2</td>\n",
       "      <td>NaN</td>\n",
       "      <td>56</td>\n",
       "      <td>77</td>\n",
       "      <td>Male</td>\n",
       "      <td>2</td>\n",
       "    </tr>\n",
       "    <tr>\n",
       "      <th>3</th>\n",
       "      <td>T0005689465</td>\n",
       "      <td>61.56</td>\n",
       "      <td>C</td>\n",
       "      <td>10.0</td>\n",
       "      <td>NaN</td>\n",
       "      <td>NaN</td>\n",
       "      <td>A</td>\n",
       "      <td>3.45375</td>\n",
       "      <td>0</td>\n",
       "      <td>NaN</td>\n",
       "      <td>52</td>\n",
       "      <td>74</td>\n",
       "      <td>Male</td>\n",
       "      <td>3</td>\n",
       "    </tr>\n",
       "    <tr>\n",
       "      <th>4</th>\n",
       "      <td>T0005689467</td>\n",
       "      <td>54.95</td>\n",
       "      <td>C</td>\n",
       "      <td>10.0</td>\n",
       "      <td>3.03453</td>\n",
       "      <td>B</td>\n",
       "      <td>A</td>\n",
       "      <td>3.40250</td>\n",
       "      <td>4</td>\n",
       "      <td>51.0</td>\n",
       "      <td>49</td>\n",
       "      <td>102</td>\n",
       "      <td>Male</td>\n",
       "      <td>2</td>\n",
       "    </tr>\n",
       "    <tr>\n",
       "      <th>...</th>\n",
       "      <td>...</td>\n",
       "      <td>...</td>\n",
       "      <td>...</td>\n",
       "      <td>...</td>\n",
       "      <td>...</td>\n",
       "      <td>...</td>\n",
       "      <td>...</td>\n",
       "      <td>...</td>\n",
       "      <td>...</td>\n",
       "      <td>...</td>\n",
       "      <td>...</td>\n",
       "      <td>...</td>\n",
       "      <td>...</td>\n",
       "      <td>...</td>\n",
       "    </tr>\n",
       "    <tr>\n",
       "      <th>131657</th>\n",
       "      <td>T0005908509</td>\n",
       "      <td>11.72</td>\n",
       "      <td>D</td>\n",
       "      <td>1.0</td>\n",
       "      <td>2.74229</td>\n",
       "      <td>A</td>\n",
       "      <td>A</td>\n",
       "      <td>3.28500</td>\n",
       "      <td>0</td>\n",
       "      <td>61.0</td>\n",
       "      <td>47</td>\n",
       "      <td>76</td>\n",
       "      <td>Male</td>\n",
       "      <td>3</td>\n",
       "    </tr>\n",
       "    <tr>\n",
       "      <th>131658</th>\n",
       "      <td>T0005908510</td>\n",
       "      <td>74.81</td>\n",
       "      <td>C</td>\n",
       "      <td>7.0</td>\n",
       "      <td>2.81059</td>\n",
       "      <td>C</td>\n",
       "      <td>A</td>\n",
       "      <td>0.44500</td>\n",
       "      <td>0</td>\n",
       "      <td>NaN</td>\n",
       "      <td>63</td>\n",
       "      <td>88</td>\n",
       "      <td>Male</td>\n",
       "      <td>2</td>\n",
       "    </tr>\n",
       "    <tr>\n",
       "      <th>131659</th>\n",
       "      <td>T0005908512</td>\n",
       "      <td>40.17</td>\n",
       "      <td>C</td>\n",
       "      <td>10.0</td>\n",
       "      <td>2.99565</td>\n",
       "      <td>B</td>\n",
       "      <td>A</td>\n",
       "      <td>3.33625</td>\n",
       "      <td>0</td>\n",
       "      <td>NaN</td>\n",
       "      <td>48</td>\n",
       "      <td>75</td>\n",
       "      <td>Female</td>\n",
       "      <td>2</td>\n",
       "    </tr>\n",
       "    <tr>\n",
       "      <th>131660</th>\n",
       "      <td>T0005908513</td>\n",
       "      <td>46.88</td>\n",
       "      <td>B</td>\n",
       "      <td>4.0</td>\n",
       "      <td>3.04744</td>\n",
       "      <td>A</td>\n",
       "      <td>B</td>\n",
       "      <td>4.15750</td>\n",
       "      <td>1</td>\n",
       "      <td>47.0</td>\n",
       "      <td>54</td>\n",
       "      <td>79</td>\n",
       "      <td>Male</td>\n",
       "      <td>2</td>\n",
       "    </tr>\n",
       "    <tr>\n",
       "      <th>131661</th>\n",
       "      <td>T0005908514</td>\n",
       "      <td>31.96</td>\n",
       "      <td>A</td>\n",
       "      <td>7.0</td>\n",
       "      <td>2.93773</td>\n",
       "      <td>A</td>\n",
       "      <td>E</td>\n",
       "      <td>2.63875</td>\n",
       "      <td>1</td>\n",
       "      <td>102.0</td>\n",
       "      <td>57</td>\n",
       "      <td>85</td>\n",
       "      <td>Male</td>\n",
       "      <td>1</td>\n",
       "    </tr>\n",
       "  </tbody>\n",
       "</table>\n",
       "<p>131662 rows × 14 columns</p>\n",
       "</div>"
      ],
      "text/plain": [
       "            Trip_ID  Trip_Distance Type_of_Cab  Customer_Since_Months  \\\n",
       "0       T0005689460           6.77           B                    1.0   \n",
       "1       T0005689461          29.47           B                   10.0   \n",
       "2       T0005689464          41.58         NaN                   10.0   \n",
       "3       T0005689465          61.56           C                   10.0   \n",
       "4       T0005689467          54.95           C                   10.0   \n",
       "...             ...            ...         ...                    ...   \n",
       "131657  T0005908509          11.72           D                    1.0   \n",
       "131658  T0005908510          74.81           C                    7.0   \n",
       "131659  T0005908512          40.17           C                   10.0   \n",
       "131660  T0005908513          46.88           B                    4.0   \n",
       "131661  T0005908514          31.96           A                    7.0   \n",
       "\n",
       "        Life_Style_Index Confidence_Life_Style_Index Destination_Type  \\\n",
       "0                2.42769                           A                A   \n",
       "1                2.78245                           B                A   \n",
       "2                    NaN                         NaN                E   \n",
       "3                    NaN                         NaN                A   \n",
       "4                3.03453                           B                A   \n",
       "...                  ...                         ...              ...   \n",
       "131657           2.74229                           A                A   \n",
       "131658           2.81059                           C                A   \n",
       "131659           2.99565                           B                A   \n",
       "131660           3.04744                           A                B   \n",
       "131661           2.93773                           A                E   \n",
       "\n",
       "        Customer_Rating  Cancellation_Last_1Month   Var1  Var2  Var3  Gender  \\\n",
       "0               3.90500                         0   40.0    46    60  Female   \n",
       "1               3.45000                         0   38.0    56    78    Male   \n",
       "2               3.50125                         2    NaN    56    77    Male   \n",
       "3               3.45375                         0    NaN    52    74    Male   \n",
       "4               3.40250                         4   51.0    49   102    Male   \n",
       "...                 ...                       ...    ...   ...   ...     ...   \n",
       "131657          3.28500                         0   61.0    47    76    Male   \n",
       "131658          0.44500                         0    NaN    63    88    Male   \n",
       "131659          3.33625                         0    NaN    48    75  Female   \n",
       "131660          4.15750                         1   47.0    54    79    Male   \n",
       "131661          2.63875                         1  102.0    57    85    Male   \n",
       "\n",
       "        Surge_Pricing_Type  \n",
       "0                        2  \n",
       "1                        2  \n",
       "2                        2  \n",
       "3                        3  \n",
       "4                        2  \n",
       "...                    ...  \n",
       "131657                   3  \n",
       "131658                   2  \n",
       "131659                   2  \n",
       "131660                   2  \n",
       "131661                   1  \n",
       "\n",
       "[131662 rows x 14 columns]"
      ]
     },
     "execution_count": 3,
     "metadata": {},
     "output_type": "execute_result"
    }
   ],
   "source": [
    "train"
   ]
  },
  {
   "cell_type": "code",
   "execution_count": 4,
   "metadata": {
    "scrolled": true
   },
   "outputs": [
    {
     "name": "stdout",
     "output_type": "stream",
     "text": [
      "<class 'pandas.core.frame.DataFrame'>\n",
      "RangeIndex: 131662 entries, 0 to 131661\n",
      "Data columns (total 14 columns):\n",
      " #   Column                       Non-Null Count   Dtype  \n",
      "---  ------                       --------------   -----  \n",
      " 0   Trip_ID                      131662 non-null  object \n",
      " 1   Trip_Distance                131662 non-null  float64\n",
      " 2   Type_of_Cab                  111452 non-null  object \n",
      " 3   Customer_Since_Months        125742 non-null  float64\n",
      " 4   Life_Style_Index             111469 non-null  float64\n",
      " 5   Confidence_Life_Style_Index  111469 non-null  object \n",
      " 6   Destination_Type             131662 non-null  object \n",
      " 7   Customer_Rating              131662 non-null  float64\n",
      " 8   Cancellation_Last_1Month     131662 non-null  int64  \n",
      " 9   Var1                         60632 non-null   float64\n",
      " 10  Var2                         131662 non-null  int64  \n",
      " 11  Var3                         131662 non-null  int64  \n",
      " 12  Gender                       131662 non-null  object \n",
      " 13  Surge_Pricing_Type           131662 non-null  int64  \n",
      "dtypes: float64(5), int64(4), object(5)\n",
      "memory usage: 14.1+ MB\n"
     ]
    }
   ],
   "source": [
    "train.info()"
   ]
  },
  {
   "cell_type": "code",
   "execution_count": 5,
   "metadata": {},
   "outputs": [
    {
     "data": {
      "text/plain": [
       "Trip_ID                         0.000000\n",
       "Trip_Distance                   0.000000\n",
       "Type_of_Cab                    15.349911\n",
       "Customer_Since_Months           4.496362\n",
       "Life_Style_Index               15.336999\n",
       "Confidence_Life_Style_Index    15.336999\n",
       "Destination_Type                0.000000\n",
       "Customer_Rating                 0.000000\n",
       "Cancellation_Last_1Month        0.000000\n",
       "Var1                           53.948748\n",
       "Var2                            0.000000\n",
       "Var3                            0.000000\n",
       "Gender                          0.000000\n",
       "Surge_Pricing_Type              0.000000\n",
       "dtype: float64"
      ]
     },
     "execution_count": 5,
     "metadata": {},
     "output_type": "execute_result"
    }
   ],
   "source": [
    "train.isna().sum()/len(train) * 100"
   ]
  },
  {
   "cell_type": "code",
   "execution_count": 6,
   "metadata": {
    "scrolled": true
   },
   "outputs": [
    {
     "data": {
      "text/plain": [
       "<matplotlib.axes._subplots.AxesSubplot at 0x1edae26d548>"
      ]
     },
     "execution_count": 6,
     "metadata": {},
     "output_type": "execute_result"
    },
    {
     "data": {
      "image/png": "[encoded data removed]",
      "text/plain": [
       "<Figure size 432x288 with 1 Axes>"
      ]
     },
     "metadata": {
      "needs_background": "light"
     },
     "output_type": "display_data"
    }
   ],
   "source": [
    "sns.countplot(x = 'Type_of_Cab',data = train)"
   ]
  },
  {
   "cell_type": "code",
   "execution_count": 7,
   "metadata": {
    "scrolled": true
   },
   "outputs": [
    {
     "data": {
      "text/plain": [
       "<matplotlib.axes._subplots.AxesSubplot at 0x1edae518048>"
      ]
     },
     "execution_count": 7,
     "metadata": {},
     "output_type": "execute_result"
    },
    {
     "data": {
      "image/png": "[encoded data removed]",
      "text/plain": [
       "<Figure size 1800x720 with 2 Axes>"
      ]
     },
     "metadata": {
      "needs_background": "light"
     },
     "output_type": "display_data"
    }
   ],
   "source": [
    "msno.matrix(train.sort_values(by = 'Life_Style_Index')) \n",
    "# Denotes that the columns life style index and the confidence are missing together"
   ]
  },
  {
   "cell_type": "code",
   "execution_count": 8,
   "metadata": {},
   "outputs": [],
   "source": [
    "train['Gender'] = train['Gender'].replace('Female',0).replace('Male',1)\n",
    "test['Gender'] = test['Gender'].replace('Female',0).replace('Male',1)\n",
    "train['Gender'] = train['Gender'].astype('category')\n",
    "test['Gender'] = test['Gender'].astype('category')"
   ]
  },
  {
   "cell_type": "code",
   "execution_count": 9,
   "metadata": {},
   "outputs": [
    {
     "data": {
      "text/plain": [
       "<matplotlib.axes._subplots.AxesSubplot at 0x1edad411548>"
      ]
     },
     "execution_count": 9,
     "metadata": {},
     "output_type": "execute_result"
    },
    {
     "data": {
      "image/png": "[encoded data removed]",
      "text/plain": [
       "<Figure size 432x288 with 1 Axes>"
      ]
     },
     "metadata": {
      "needs_background": "light"
     },
     "output_type": "display_data"
    }
   ],
   "source": [
    "sns.countplot('Gender',data = train) "
   ]
  },
  {
   "cell_type": "code",
   "execution_count": 10,
   "metadata": {
    "scrolled": false
   },
   "outputs": [
    {
     "data": {
      "text/plain": [
       "<matplotlib.axes._subplots.AxesSubplot at 0x1edb8582bc8>"
      ]
     },
     "execution_count": 10,
     "metadata": {},
     "output_type": "execute_result"
    },
    {
     "data": {
      "image/png": "[encoded data removed]",
      "text/plain": [
       "<Figure size 432x288 with 1 Axes>"
      ]
     },
     "metadata": {
      "needs_background": "light"
     },
     "output_type": "display_data"
    }
   ],
   "source": [
    "sns.countplot('Destination_Type',data = train) # Frequency encoding is required"
   ]
  },
  {
   "cell_type": "code",
   "execution_count": 11,
   "metadata": {},
   "outputs": [],
   "source": [
    "train['Type_of_Cab'].replace(np.NaN,'Null',inplace = True)\n",
    "test['Type_of_Cab'].replace(np.NaN,'Null',inplace = True)\n",
    "train['Type_of_Cab'] = train['Type_of_Cab'].astype('category')\n",
    "test['Type_of_Cab'] = test['Type_of_Cab'].astype('category')"
   ]
  },
  {
   "cell_type": "code",
   "execution_count": 12,
   "metadata": {
    "scrolled": true
   },
   "outputs": [
    {
     "data": {
      "text/plain": [
       "Type_of_Cab\n",
       "A       525545.0\n",
       "B       923771.0\n",
       "C       871787.0\n",
       "D       611114.0\n",
       "E       364310.0\n",
       "Null    596211.0\n",
       "Name: Var1, dtype: float64"
      ]
     },
     "execution_count": 12,
     "metadata": {},
     "output_type": "execute_result"
    }
   ],
   "source": [
    "train.groupby('Type_of_Cab')['Var1'].sum()"
   ]
  },
  {
   "cell_type": "code",
   "execution_count": 13,
   "metadata": {},
   "outputs": [],
   "source": [
    "x = np.log(train.groupby('Destination_Type')['Trip_ID'].count()).to_dict()\n",
    "train['Destination_Type'] = train['Destination_Type'].map(x)\n",
    "test['Destination_Type'] = test['Destination_Type'].map(x)"
   ]
  },
  {
   "cell_type": "code",
   "execution_count": 14,
   "metadata": {},
   "outputs": [],
   "source": [
    "le = LabelEncoder()\n",
    "train['Type_of_Cab'] = le.fit_transform(train['Type_of_Cab'])\n",
    "test['Type_of_Cab'] = le.transform(test['Type_of_Cab'])"
   ]
  },
  {
   "cell_type": "code",
   "execution_count": 15,
   "metadata": {},
   "outputs": [],
   "source": [
    "train.drop('Var1',inplace = True,axis = 1)\n",
    "test.drop('Var1',inplace = True,axis = 1)"
   ]
  },
  {
   "cell_type": "code",
   "execution_count": 16,
   "metadata": {
    "scrolled": true
   },
   "outputs": [
    {
     "data": {
      "text/plain": [
       "Type_of_Cab\n",
       "0    4.85378\n",
       "1    4.59115\n",
       "2    4.07072\n",
       "3    4.65904\n",
       "4    4.87511\n",
       "5    4.30083\n",
       "Name: Life_Style_Index, dtype: float64"
      ]
     },
     "execution_count": 16,
     "metadata": {},
     "output_type": "execute_result"
    }
   ],
   "source": [
    "#train['exp'] = np.exp(train['Life_Style_Index'])\n",
    "train.groupby('Type_of_Cab')['Life_Style_Index'].max()"
   ]
  },
  {
   "cell_type": "code",
   "execution_count": 17,
   "metadata": {
    "scrolled": true
   },
   "outputs": [
    {
     "data": {
      "text/plain": [
       "<matplotlib.axes._subplots.AxesSubplot at 0x1edaeacff08>"
      ]
     },
     "execution_count": 17,
     "metadata": {},
     "output_type": "execute_result"
    },
    {
     "data": {
      "image/png": "[encoded data removed]",
      "text/plain": [
       "<Figure size 432x288 with 1 Axes>"
      ]
     },
     "metadata": {
      "needs_background": "light"
     },
     "output_type": "display_data"
    }
   ],
   "source": [
    "sns.countplot(x = 'Customer_Since_Months',data = train)\n",
    "#train.info()"
   ]
  },
  {
   "cell_type": "code",
   "execution_count": 18,
   "metadata": {},
   "outputs": [],
   "source": [
    "train['Customer_Since_Months'] = train['Customer_Since_Months'].fillna(6)\n",
    "test['Customer_Since_Months'] = test['Customer_Since_Months'].fillna(6)"
   ]
  },
  {
   "cell_type": "code",
   "execution_count": 19,
   "metadata": {
    "scrolled": true
   },
   "outputs": [],
   "source": [
    "x,y = train['Life_Style_Index'].median(),train['Life_Style_Index'].mean()\n",
    "train['Life_Style_Index'] = train['Life_Style_Index'].fillna(x)\n",
    "test['Life_Style_Index'] = test['Life_Style_Index'].fillna(x)"
   ]
  },
  {
   "cell_type": "code",
   "execution_count": 20,
   "metadata": {
    "scrolled": false
   },
   "outputs": [
    {
     "data": {
      "text/plain": [
       "Confidence_Life_Style_Index\n",
       "A       35147\n",
       "B       40355\n",
       "C       35967\n",
       "Null    20193\n",
       "Name: Trip_ID, dtype: int64"
      ]
     },
     "execution_count": 20,
     "metadata": {},
     "output_type": "execute_result"
    }
   ],
   "source": [
    "train['Confidence_Life_Style_Index'] = train['Confidence_Life_Style_Index'].fillna('Null')\n",
    "test['Confidence_Life_Style_Index'] = test['Confidence_Life_Style_Index'].fillna('Null')\n",
    "train.groupby('Confidence_Life_Style_Index')['Trip_ID'].count()"
   ]
  },
  {
   "cell_type": "code",
   "execution_count": 21,
   "metadata": {
    "scrolled": false
   },
   "outputs": [],
   "source": [
    "a = LabelEncoder()\n",
    "train['Confidence_Life_Style_Index'] = a.fit_transform(train['Confidence_Life_Style_Index'])\n",
    "test['Confidence_Life_Style_Index'] = a.transform(test['Confidence_Life_Style_Index'])"
   ]
  },
  {
   "cell_type": "code",
   "execution_count": 24,
   "metadata": {},
   "outputs": [],
   "source": [
    "train['ratio'] = train['Var2']/train['Var3']\n",
    "test['ratio'] = test['Var2']/test['Var3']\n",
    "train.drop(['Var2','Var3'],axis = 1, inplace = True)\n",
    "test.drop(['Var2','Var3'],axis = 1, inplace = True)"
   ]
  },
  {
   "cell_type": "code",
   "execution_count": 29,
   "metadata": {
    "scrolled": true
   },
   "outputs": [],
   "source": [
    "train = train[['Trip_ID', 'Trip_Distance', 'Type_of_Cab', 'Customer_Since_Months',\n",
    "       'Life_Style_Index', 'Confidence_Life_Style_Index', 'Destination_Type',\n",
    "       'Customer_Rating', 'Cancellation_Last_1Month', 'Gender','ratio',\n",
    "       'Surge_Pricing_Type']]\n"
   ]
  },
  {
   "cell_type": "code",
   "execution_count": 30,
   "metadata": {},
   "outputs": [],
   "source": [
    "test = test[['Trip_ID', 'Trip_Distance', 'Type_of_Cab', 'Customer_Since_Months',\n",
    "       'Life_Style_Index', 'Confidence_Life_Style_Index', 'Destination_Type',\n",
    "       'Customer_Rating', 'Cancellation_Last_1Month', 'Gender','ratio']]"
   ]
  },
  {
   "cell_type": "code",
   "execution_count": 42,
   "metadata": {},
   "outputs": [
    {
     "data": {
      "text/plain": [
       "((131662, 12), (87395, 11))"
      ]
     },
     "execution_count": 42,
     "metadata": {},
     "output_type": "execute_result"
    }
   ],
   "source": [
    "train.shape,test.shape"
   ]
  },
  {
   "cell_type": "code",
   "execution_count": 43,
   "metadata": {
    "scrolled": true
   },
   "outputs": [
    {
     "data": {
      "text/plain": [
       "(array([[6.77, 1, 1.0, ..., 0, 0, 0.7666666666666667],\n",
       "        [29.47, 1, 10.0, ..., 0, 1, 0.717948717948718],\n",
       "        [41.58, 5, 10.0, ..., 2, 1, 0.7272727272727273],\n",
       "        ...,\n",
       "        [40.17, 2, 10.0, ..., 0, 0, 0.64],\n",
       "        [46.88, 1, 4.0, ..., 1, 1, 0.6835443037974683],\n",
       "        [31.96, 0, 7.0, ..., 1, 1, 0.6705882352941176]], dtype=object),\n",
       " array([2, 2, 2, ..., 2, 2, 1], dtype=int64))"
      ]
     },
     "execution_count": 43,
     "metadata": {},
     "output_type": "execute_result"
    }
   ],
   "source": [
    "X = train.iloc[:,1:11].values\n",
    "y = train.iloc[:,-1].values\n",
    "X,y"
   ]
  },
  {
   "cell_type": "code",
   "execution_count": 44,
   "metadata": {},
   "outputs": [],
   "source": [
    "X_train,X_test,y_train,y_test = train_test_split(X,y,test_size = 0.3,random_state = 42)"
   ]
  },
  {
   "cell_type": "code",
   "execution_count": 45,
   "metadata": {},
   "outputs": [
    {
     "data": {
      "text/plain": [
       "1.0"
      ]
     },
     "execution_count": 45,
     "metadata": {},
     "output_type": "execute_result"
    }
   ],
   "source": [
    "rf = RandomForestClassifier()\n",
    "rf.fit(X_train,y_train)\n",
    "rf.score(X_train,y_train)"
   ]
  },
  {
   "cell_type": "code",
   "execution_count": 46,
   "metadata": {
    "scrolled": true
   },
   "outputs": [
    {
     "data": {
      "text/plain": [
       "0.6885490771918277"
      ]
     },
     "execution_count": 46,
     "metadata": {},
     "output_type": "execute_result"
    }
   ],
   "source": [
    "y_pred = rf.predict(X_test)\n",
    "accuracy_score(y_test,y_pred)"
   ]
  },
  {
   "cell_type": "code",
   "execution_count": 47,
   "metadata": {
    "scrolled": false
   },
   "outputs": [
    {
     "data": {
      "text/plain": [
       "<BarContainer object of 10 artists>"
      ]
     },
     "execution_count": 47,
     "metadata": {},
     "output_type": "execute_result"
    },
    {
     "data": {
      "image/png": "[encoded data removed]",
      "text/plain": [
       "<Figure size 432x288 with 1 Axes>"
      ]
     },
     "metadata": {
      "needs_background": "light"
     },
     "output_type": "display_data"
    }
   ],
   "source": [
    "fimp = pd.DataFrame(zip(train.drop(['Surge_Pricing_Type','Trip_ID'],axis = 1).columns,rf.feature_importances_))\n",
    "fimp.columns = ['features','Score']\n",
    "\n",
    "sfimp =fimp.sort_values(by = 'Score')\n",
    "\n",
    "plt.barh(sfimp['features'],sfimp['Score'])"
   ]
  },
  {
   "cell_type": "code",
   "execution_count": 49,
   "metadata": {},
   "outputs": [],
   "source": [
    "test_X = test.iloc[:,1:11].values\n",
    "test_y = rf.predict(test_X)\n",
    "\n",
    "sub_rf = pd.DataFrame()\n",
    "sub_rf['Trip_ID'] = submission['Trip_ID']\n",
    "sub_rf['Surge_Pricing_Type'] = test_y\n",
    "sub_rf.to_csv('Random_Forest_New_Data.csv',index = False)"
   ]
  },
  {
   "cell_type": "code",
   "execution_count": 60,
   "metadata": {
    "scrolled": true
   },
   "outputs": [
    {
     "name": "stdout",
     "output_type": "stream",
     "text": [
      "Fitting 5 folds for each of 9 candidates, totalling 45 fits\n"
     ]
    },
    {
     "name": "stderr",
     "output_type": "stream",
     "text": [
      "[Parallel(n_jobs=-1)]: Using backend LokyBackend with 8 concurrent workers.\n",
      "[Parallel(n_jobs=-1)]: Done   2 tasks      | elapsed:    7.4s\n",
      "[Parallel(n_jobs=-1)]: Done   9 tasks      | elapsed:   19.4s\n",
      "[Parallel(n_jobs=-1)]: Done  16 tasks      | elapsed:   27.7s\n",
      "[Parallel(n_jobs=-1)]: Done  25 tasks      | elapsed:   50.7s\n",
      "[Parallel(n_jobs=-1)]: Done  35 out of  45 | elapsed:  1.3min remaining:   22.4s\n",
      "[Parallel(n_jobs=-1)]: Done  40 out of  45 | elapsed:  1.5min remaining:   11.1s\n",
      "[Parallel(n_jobs=-1)]: Done  45 out of  45 | elapsed:  1.7min remaining:    0.0s\n",
      "[Parallel(n_jobs=-1)]: Done  45 out of  45 | elapsed:  1.7min finished\n"
     ]
    },
    {
     "data": {
      "text/plain": [
       "(0.6887580059558792,\n",
       " {'max_depth': 7,\n",
       "  'max_features': 5,\n",
       "  'min_samples_leaf': 20,\n",
       "  'n_estimators': 120},\n",
       " RandomForestClassifier(bootstrap=True, ccp_alpha=0.0, class_weight=None,\n",
       "                        criterion='gini', max_depth=7, max_features=5,\n",
       "                        max_leaf_nodes=None, max_samples=None,\n",
       "                        min_impurity_decrease=0.0, min_impurity_split=None,\n",
       "                        min_samples_leaf=20, min_samples_split=2,\n",
       "                        min_weight_fraction_leaf=0.0, n_estimators=120,\n",
       "                        n_jobs=None, oob_score=False, random_state=None,\n",
       "                        verbose=0, warm_start=False))"
      ]
     },
     "execution_count": 60,
     "metadata": {},
     "output_type": "execute_result"
    }
   ],
   "source": [
    "parameters = { 'max_features' : [3,4,5],\n",
    "              'n_estimators' : [120],\n",
    "              'min_samples_leaf' : [20],\n",
    "              'max_depth' :[3,5,7]}\n",
    "random_grid = GridSearchCV(rf, parameters, cv = 5,n_jobs = -1,verbose = 10)\n",
    "random_grid.fit(X_train,y_train)\n",
    "random_grid.best_score_,random_grid.best_params_,random_grid.best_estimator_"
   ]
  },
  {
   "cell_type": "code",
   "execution_count": 61,
   "metadata": {},
   "outputs": [
    {
     "data": {
      "text/plain": [
       "0.6913845920149877"
      ]
     },
     "execution_count": 61,
     "metadata": {},
     "output_type": "execute_result"
    }
   ],
   "source": [
    "y_pred = random_grid.best_estimator_.predict(X_test)\n",
    "accuracy_score(y_test,y_pred)"
   ]
  },
  {
   "cell_type": "code",
   "execution_count": 62,
   "metadata": {},
   "outputs": [
    {
     "data": {
      "text/plain": [
       "<BarContainer object of 10 artists>"
      ]
     },
     "execution_count": 62,
     "metadata": {},
     "output_type": "execute_result"
    },
    {
     "data": {
      "image/png": "[encoded data removed]",
      "text/plain": [
       "<Figure size 432x288 with 1 Axes>"
      ]
     },
     "metadata": {
      "needs_background": "light"
     },
     "output_type": "display_data"
    }
   ],
   "source": [
    "fimp = pd.DataFrame(zip(train.drop(['Surge_Pricing_Type','Trip_ID'],axis = 1).columns,rf.feature_importances_))\n",
    "fimp.columns = ['features','Score']\n",
    "\n",
    "sfimp =fimp.sort_values(by = 'Score')\n",
    "\n",
    "plt.barh(sfimp['features'],sfimp['Score'])"
   ]
  },
  {
   "cell_type": "code",
   "execution_count": 64,
   "metadata": {},
   "outputs": [],
   "source": [
    "test_X = test.iloc[:,1:11].values\n",
    "test_y = random_grid.best_estimator_.predict(test_X)\n",
    "\n",
    "sub_rf = pd.DataFrame()\n",
    "sub_rf['Trip_ID'] = submission['Trip_ID']\n",
    "sub_rf['Surge_Pricing_Type'] = test_y\n",
    "sub_rf.to_csv('Random_Forest_New_Data_2.csv',index = False)"
   ]
  },
  {
   "cell_type": "code",
   "execution_count": null,
   "metadata": {},
   "outputs": [],
   "source": [
    "# Iteration 1 rf:\n",
    "parameters = { 'max_depth':[4,6],'n_estimators':[100,200],'min_samples_leaf': [10,50,100,200]}\n",
    "random_grid = GridSearchCV(rf, parameters, cv = 5,n_jobs = -1)\n",
    "random_grid.fit(X_train,y_train)\n",
    "print('Best score:',random_grid.best_score_)\n",
    "print('Best Params:',random_grid.best_params_)"
   ]
  },
  {
   "cell_type": "code",
   "execution_count": null,
   "metadata": {},
   "outputs": [],
   "source": [
    "y_pred = random_grid.best_estimator_.predict(X_test)\n",
    "accuracy_score(y_test,y_pred) #0.6861945872047394"
   ]
  },
  {
   "cell_type": "code",
   "execution_count": null,
   "metadata": {},
   "outputs": [],
   "source": [
    "# Iteration 2\n",
    "parameters = {'max_depth':[4,6],\n",
    "              'n_estimators':[100,200],\n",
    "              'min_samples_leaf': [10,50,100,200]}\n",
    "random_grid = GridSearchCV(rf, parameters, cv = StratifiedKFold(n_splits = 5, shuffle = True),n_jobs = -1)\n",
    "random_grid.fit(X_train,y_train)\n",
    "print('Best score:',random_grid.best_score_)\n",
    "print('Best Params:',random_grid.best_params_)"
   ]
  },
  {
   "cell_type": "code",
   "execution_count": null,
   "metadata": {},
   "outputs": [],
   "source": [
    "y_pred = random_grid.best_estimator_.predict(X_test)\n",
    "accuracy_score(y_test,y_pred) #0.6861945872047394"
   ]
  },
  {
   "cell_type": "code",
   "execution_count": null,
   "metadata": {},
   "outputs": [],
   "source": [
    "fimp = pd.DataFrame(zip(train.drop(['Surge_Pricing_Type','Trip_ID'],axis = 1).columns,rf.feature_importances_))\n",
    "fimp.columns = ['features','Score']\n",
    "\n",
    "sfimp =fimp.sort_values(by = 'Score')\n",
    "\n",
    "plt.barh(sfimp['features'],sfimp['Score'])"
   ]
  },
  {
   "cell_type": "code",
   "execution_count": null,
   "metadata": {},
   "outputs": [],
   "source": [
    "test_X = test.iloc[:,1:11].values\n",
    "test_y = random_grid.best_estimator_.predict(test_X)\n",
    "\n",
    "sub_rf = pd.DataFrame()\n",
    "sub_rf['Trip_ID'] = submission['Trip_ID']\n",
    "sub_rf['Surge_Pricing_Type'] = test_y\n",
    "sub_rf.to_csv('Adaboost_1.csv',ignore_index = True)"
   ]
  },
  {
   "cell_type": "code",
   "execution_count": 65,
   "metadata": {},
   "outputs": [
    {
     "name": "stdout",
     "output_type": "stream",
     "text": [
      "Accuracy on train: 0.6908303766153445\n",
      "Accuracy on test: 0.6907010304058331\n"
     ]
    }
   ],
   "source": [
    "clf = AdaBoostClassifier(random_state = 41)\n",
    "clf.fit(X_train,y_train)\n",
    "\n",
    "print('Accuracy on train:',clf.score(X_train,y_train))\n",
    "print('Accuracy on test:',clf.score(X_test,y_test))"
   ]
  },
  {
   "cell_type": "code",
   "execution_count": 66,
   "metadata": {},
   "outputs": [
    {
     "data": {
      "text/plain": [
       "({'learning_rate': 1, 'n_estimators': 150},\n",
       " 0.6902119554508973,\n",
       " AdaBoostClassifier(algorithm='SAMME.R', base_estimator=None, learning_rate=1,\n",
       "                    n_estimators=150, random_state=41))"
      ]
     },
     "execution_count": 66,
     "metadata": {},
     "output_type": "execute_result"
    }
   ],
   "source": [
    "parameters = [{'learning_rate' : [0.25,0.5,0.75,1],\n",
    "               'n_estimators' : [150,200,225,250]}]\n",
    "grid_search = GridSearchCV(estimator = clf,\n",
    "                           param_grid = parameters,\n",
    "                           scoring = 'accuracy',\n",
    "                           n_jobs = -1,\n",
    "                           cv = StratifiedKFold(n_splits = 5, shuffle = True) \n",
    ")\n",
    "grid = grid_search.fit(X_train,y_train)\n",
    "grid.best_params_, grid.best_score_,grid.best_estimator_"
   ]
  },
  {
   "cell_type": "code",
   "execution_count": 67,
   "metadata": {},
   "outputs": [
    {
     "data": {
      "text/plain": [
       "0.6918909339476949"
      ]
     },
     "execution_count": 67,
     "metadata": {},
     "output_type": "execute_result"
    }
   ],
   "source": [
    "y_pred = grid.best_estimator_.predict(X_test)\n",
    "accuracy_score(y_test,y_pred)"
   ]
  },
  {
   "cell_type": "code",
   "execution_count": 68,
   "metadata": {},
   "outputs": [],
   "source": [
    "test_X = test.iloc[:,1:11].values\n",
    "test_y = grid.best_estimator_.predict(test_X)\n",
    "\n",
    "sub_ada = pd.DataFrame()\n",
    "sub_ada['Trip_ID'] = submission['Trip_ID']\n",
    "sub_ada['Surge_Pricing_Type'] = test_y\n",
    "sub_ada.to_csv('Adaboost_grid2.csv',index = False)"
   ]
  },
  {
   "cell_type": "code",
   "execution_count": 69,
   "metadata": {
    "scrolled": true
   },
   "outputs": [
    {
     "data": {
      "text/plain": [
       "<BarContainer object of 10 artists>"
      ]
     },
     "execution_count": 69,
     "metadata": {},
     "output_type": "execute_result"
    },
    {
     "data": {
      "image/png": "[encoded data removed]",
      "text/plain": [
       "<Figure size 432x288 with 1 Axes>"
      ]
     },
     "metadata": {
      "needs_background": "light"
     },
     "output_type": "display_data"
    }
   ],
   "source": [
    "fimp = pd.DataFrame(zip(train.drop(['Surge_Pricing_Type','Trip_ID'],axis = 1).columns,grid.best_estimator_.feature_importances_))\n",
    "fimp.columns = ['features','Score']\n",
    "\n",
    "sfimp =fimp.sort_values(by = 'Score')\n",
    "\n",
    "plt.barh(sfimp['features'],sfimp['Score'])"
   ]
  },
  {
   "cell_type": "code",
   "execution_count": 70,
   "metadata": {},
   "outputs": [
    {
     "name": "stdout",
     "output_type": "stream",
     "text": [
      "Accuracy on train: 0.6908303766153445\n",
      "Accuracy on test: 0.6907010304058331\n"
     ]
    }
   ],
   "source": [
    "xgclf = XGBClassifier(random_state = 41)\n",
    "xgclf.fit(X_train,y_train)\n",
    "\n",
    "print('Accuracy on train:',clf.score(X_train,y_train))\n",
    "print('Accuracy on test:',clf.score(X_test,y_test))"
   ]
  },
  {
   "cell_type": "code",
   "execution_count": 72,
   "metadata": {},
   "outputs": [
    {
     "data": {
      "text/plain": [
       "({'learning_rate': 0.2,\n",
       "  'max_depth': 5,\n",
       "  'min_child_weight': 1,\n",
       "  'n_estimators': 75},\n",
       " 0.6986534760885142,\n",
       " XGBClassifier(base_score=0.5, booster=None, colsample_bylevel=1,\n",
       "               colsample_bynode=1, colsample_bytree=1, gamma=0, gpu_id=-1,\n",
       "               importance_type='gain', interaction_constraints=None,\n",
       "               learning_rate=0.2, max_delta_step=0, max_depth=5,\n",
       "               min_child_weight=1, missing=nan, monotone_constraints=None,\n",
       "               n_estimators=75, n_jobs=0, num_parallel_tree=1,\n",
       "               objective='multi:softprob', random_state=41, reg_alpha=0,\n",
       "               reg_lambda=1, scale_pos_weight=None, subsample=1,\n",
       "               tree_method=None, validate_parameters=False, verbosity=None))"
      ]
     },
     "execution_count": 72,
     "metadata": {},
     "output_type": "execute_result"
    }
   ],
   "source": [
    "parameters = [{'learning_rate' : [0.2,0.3,0.4],\n",
    "               'n_estimators' : [75,100,150],\n",
    "               'max_depth' : [3,5,7],\n",
    "               'min_child_weight':[1,3,4]}]\n",
    "grid_search = GridSearchCV(estimator = xgclf,\n",
    "                           param_grid = parameters,\n",
    "                           scoring = 'accuracy',\n",
    "                           n_jobs = -1,\n",
    "                           cv = StratifiedKFold(n_splits = 5, shuffle = True) \n",
    ")\n",
    "grid = grid_search.fit(X_train,y_train)\n",
    "grid.best_params_, grid.best_score_,grid.best_estimator_"
   ]
  },
  {
   "cell_type": "code",
   "execution_count": 73,
   "metadata": {},
   "outputs": [
    {
     "data": {
      "text/plain": [
       "0.6991569406820426"
      ]
     },
     "execution_count": 73,
     "metadata": {},
     "output_type": "execute_result"
    }
   ],
   "source": [
    "y_pred = grid.best_estimator_.predict(X_test)\n",
    "accuracy_score(y_test,y_pred)"
   ]
  },
  {
   "cell_type": "code",
   "execution_count": 74,
   "metadata": {},
   "outputs": [],
   "source": [
    "test_X = test.iloc[:,1:11].values\n",
    "test_y = grid.best_estimator_.predict(test_X)\n",
    "\n",
    "sub_ada = pd.DataFrame()\n",
    "sub_ada['Trip_ID'] = submission['Trip_ID']\n",
    "sub_ada['Surge_Pricing_Type'] = test_y\n",
    "sub_ada.to_csv('xg_New_Data_grid_2.csv',index = False)"
   ]
  },
  {
   "cell_type": "code",
   "execution_count": 75,
   "metadata": {
    "scrolled": true
   },
   "outputs": [
    {
     "data": {
      "text/plain": [
       "<BarContainer object of 10 artists>"
      ]
     },
     "execution_count": 75,
     "metadata": {},
     "output_type": "execute_result"
    },
    {
     "data": {
      "image/png": "[encoded data removed]",
      "text/plain": [
       "<Figure size 432x288 with 1 Axes>"
      ]
     },
     "metadata": {
      "needs_background": "light"
     },
     "output_type": "display_data"
    }
   ],
   "source": [
    "fimp = pd.DataFrame(zip(train.drop(['Surge_Pricing_Type','Trip_ID'],axis = 1).columns,grid.best_estimator_.feature_importances_))\n",
    "fimp.columns = ['features','Score']\n",
    "\n",
    "sfimp =fimp.sort_values(by = 'Score')\n",
    "\n",
    "plt.barh(sfimp['features'],sfimp['Score'])"
   ]
  },
  {
   "cell_type": "code",
   "execution_count": 76,
   "metadata": {
    "scrolled": true
   },
   "outputs": [
    {
     "name": "stdout",
     "output_type": "stream",
     "text": [
      "Learning rate set to 0.099659\n",
      "0:\tlearn: 1.0369561\ttotal: 218ms\tremaining: 3m 37s\n",
      "1:\tlearn: 0.9891018\ttotal: 299ms\tremaining: 2m 29s\n",
      "2:\tlearn: 0.9496186\ttotal: 345ms\tremaining: 1m 54s\n",
      "3:\tlearn: 0.9179630\ttotal: 390ms\tremaining: 1m 37s\n",
      "4:\tlearn: 0.8916782\ttotal: 428ms\tremaining: 1m 25s\n",
      "5:\tlearn: 0.8713753\ttotal: 462ms\tremaining: 1m 16s\n",
      "6:\tlearn: 0.8530949\ttotal: 501ms\tremaining: 1m 11s\n",
      "7:\tlearn: 0.8377580\ttotal: 545ms\tremaining: 1m 7s\n",
      "8:\tlearn: 0.8244563\ttotal: 591ms\tremaining: 1m 5s\n",
      "9:\tlearn: 0.8139653\ttotal: 645ms\tremaining: 1m 3s\n",
      "10:\tlearn: 0.8042357\ttotal: 695ms\tremaining: 1m 2s\n",
      "11:\tlearn: 0.7959076\ttotal: 739ms\tremaining: 1m\n",
      "12:\tlearn: 0.7888858\ttotal: 784ms\tremaining: 59.5s\n",
      "13:\tlearn: 0.7827166\ttotal: 828ms\tremaining: 58.3s\n",
      "14:\tlearn: 0.7778966\ttotal: 879ms\tremaining: 57.8s\n",
      "15:\tlearn: 0.7729863\ttotal: 928ms\tremaining: 57.1s\n",
      "16:\tlearn: 0.7684836\ttotal: 990ms\tremaining: 57.2s\n",
      "17:\tlearn: 0.7646898\ttotal: 1.05s\tremaining: 57.1s\n",
      "18:\tlearn: 0.7614648\ttotal: 1.09s\tremaining: 56.2s\n",
      "19:\tlearn: 0.7585066\ttotal: 1.13s\tremaining: 55.5s\n",
      "20:\tlearn: 0.7556252\ttotal: 1.19s\tremaining: 55.3s\n",
      "21:\tlearn: 0.7525158\ttotal: 1.24s\tremaining: 55.2s\n",
      "22:\tlearn: 0.7497717\ttotal: 1.3s\tremaining: 55.1s\n",
      "23:\tlearn: 0.7475083\ttotal: 1.35s\tremaining: 55.1s\n",
      "24:\tlearn: 0.7456367\ttotal: 1.4s\tremaining: 54.8s\n",
      "25:\tlearn: 0.7436948\ttotal: 1.44s\tremaining: 53.9s\n",
      "26:\tlearn: 0.7418840\ttotal: 1.48s\tremaining: 53.2s\n",
      "27:\tlearn: 0.7398626\ttotal: 1.53s\tremaining: 53s\n",
      "28:\tlearn: 0.7382301\ttotal: 1.57s\tremaining: 52.5s\n",
      "29:\tlearn: 0.7362313\ttotal: 1.6s\tremaining: 51.9s\n",
      "30:\tlearn: 0.7347484\ttotal: 1.64s\tremaining: 51.4s\n",
      "31:\tlearn: 0.7333494\ttotal: 1.69s\tremaining: 51.2s\n",
      "32:\tlearn: 0.7320898\ttotal: 1.73s\tremaining: 50.8s\n",
      "33:\tlearn: 0.7313751\ttotal: 1.78s\tremaining: 50.6s\n",
      "34:\tlearn: 0.7303227\ttotal: 1.82s\tremaining: 50.2s\n",
      "35:\tlearn: 0.7291344\ttotal: 1.86s\tremaining: 49.8s\n",
      "36:\tlearn: 0.7282632\ttotal: 1.91s\tremaining: 49.6s\n",
      "37:\tlearn: 0.7274395\ttotal: 1.95s\tremaining: 49.3s\n",
      "38:\tlearn: 0.7266115\ttotal: 1.98s\tremaining: 48.9s\n",
      "39:\tlearn: 0.7254626\ttotal: 2.03s\tremaining: 48.7s\n",
      "40:\tlearn: 0.7246827\ttotal: 2.08s\tremaining: 48.6s\n",
      "41:\tlearn: 0.7241722\ttotal: 2.12s\tremaining: 48.4s\n",
      "42:\tlearn: 0.7232886\ttotal: 2.17s\tremaining: 48.3s\n",
      "43:\tlearn: 0.7227236\ttotal: 2.21s\tremaining: 48.1s\n",
      "44:\tlearn: 0.7219064\ttotal: 2.26s\tremaining: 48s\n",
      "45:\tlearn: 0.7212992\ttotal: 2.31s\tremaining: 47.9s\n",
      "46:\tlearn: 0.7207069\ttotal: 2.36s\tremaining: 47.8s\n",
      "47:\tlearn: 0.7202088\ttotal: 2.4s\tremaining: 47.6s\n",
      "48:\tlearn: 0.7196848\ttotal: 2.44s\tremaining: 47.4s\n",
      "49:\tlearn: 0.7190243\ttotal: 2.48s\tremaining: 47.2s\n",
      "50:\tlearn: 0.7185289\ttotal: 2.53s\tremaining: 47s\n",
      "51:\tlearn: 0.7179752\ttotal: 2.57s\tremaining: 46.9s\n",
      "52:\tlearn: 0.7175680\ttotal: 2.6s\tremaining: 46.5s\n",
      "53:\tlearn: 0.7168395\ttotal: 2.66s\tremaining: 46.6s\n",
      "54:\tlearn: 0.7165039\ttotal: 2.71s\tremaining: 46.6s\n",
      "55:\tlearn: 0.7161284\ttotal: 2.76s\tremaining: 46.5s\n",
      "56:\tlearn: 0.7158267\ttotal: 2.8s\tremaining: 46.3s\n",
      "57:\tlearn: 0.7153319\ttotal: 2.84s\tremaining: 46.2s\n",
      "58:\tlearn: 0.7149226\ttotal: 2.89s\tremaining: 46.1s\n",
      "59:\tlearn: 0.7145160\ttotal: 2.93s\tremaining: 45.9s\n",
      "60:\tlearn: 0.7141879\ttotal: 2.97s\tremaining: 45.7s\n",
      "61:\tlearn: 0.7139207\ttotal: 3s\tremaining: 45.4s\n",
      "62:\tlearn: 0.7136796\ttotal: 3.04s\tremaining: 45.2s\n",
      "63:\tlearn: 0.7132116\ttotal: 3.09s\tremaining: 45.2s\n",
      "64:\tlearn: 0.7128614\ttotal: 3.13s\tremaining: 45s\n",
      "65:\tlearn: 0.7126821\ttotal: 3.18s\tremaining: 45s\n",
      "66:\tlearn: 0.7123856\ttotal: 3.22s\tremaining: 44.8s\n",
      "67:\tlearn: 0.7120036\ttotal: 3.26s\tremaining: 44.7s\n",
      "68:\tlearn: 0.7117823\ttotal: 3.3s\tremaining: 44.5s\n",
      "69:\tlearn: 0.7114811\ttotal: 3.35s\tremaining: 44.5s\n",
      "70:\tlearn: 0.7111536\ttotal: 3.39s\tremaining: 44.4s\n",
      "71:\tlearn: 0.7107368\ttotal: 3.44s\tremaining: 44.3s\n",
      "72:\tlearn: 0.7105215\ttotal: 3.48s\tremaining: 44.2s\n",
      "73:\tlearn: 0.7103313\ttotal: 3.54s\tremaining: 44.3s\n",
      "74:\tlearn: 0.7100460\ttotal: 3.58s\tremaining: 44.2s\n",
      "75:\tlearn: 0.7097895\ttotal: 3.63s\tremaining: 44.1s\n",
      "76:\tlearn: 0.7095843\ttotal: 3.67s\tremaining: 44s\n",
      "77:\tlearn: 0.7094000\ttotal: 3.71s\tremaining: 43.8s\n",
      "78:\tlearn: 0.7091595\ttotal: 3.75s\tremaining: 43.8s\n",
      "79:\tlearn: 0.7089903\ttotal: 3.8s\tremaining: 43.7s\n",
      "80:\tlearn: 0.7088804\ttotal: 3.84s\tremaining: 43.6s\n",
      "81:\tlearn: 0.7087431\ttotal: 3.88s\tremaining: 43.5s\n",
      "82:\tlearn: 0.7083755\ttotal: 3.93s\tremaining: 43.5s\n",
      "83:\tlearn: 0.7081843\ttotal: 3.98s\tremaining: 43.4s\n",
      "84:\tlearn: 0.7080285\ttotal: 4.02s\tremaining: 43.3s\n",
      "85:\tlearn: 0.7077958\ttotal: 4.06s\tremaining: 43.2s\n",
      "86:\tlearn: 0.7074970\ttotal: 4.12s\tremaining: 43.3s\n",
      "87:\tlearn: 0.7072977\ttotal: 4.17s\tremaining: 43.3s\n",
      "88:\tlearn: 0.7070899\ttotal: 4.23s\tremaining: 43.3s\n",
      "89:\tlearn: 0.7068100\ttotal: 4.27s\tremaining: 43.2s\n",
      "90:\tlearn: 0.7065998\ttotal: 4.33s\tremaining: 43.2s\n",
      "91:\tlearn: 0.7064226\ttotal: 4.37s\tremaining: 43.1s\n",
      "92:\tlearn: 0.7061568\ttotal: 4.41s\tremaining: 43s\n",
      "93:\tlearn: 0.7059886\ttotal: 4.46s\tremaining: 43s\n",
      "94:\tlearn: 0.7058213\ttotal: 4.51s\tremaining: 42.9s\n",
      "95:\tlearn: 0.7056914\ttotal: 4.56s\tremaining: 42.9s\n",
      "96:\tlearn: 0.7055904\ttotal: 4.59s\tremaining: 42.8s\n",
      "97:\tlearn: 0.7054247\ttotal: 4.63s\tremaining: 42.6s\n",
      "98:\tlearn: 0.7052458\ttotal: 4.68s\tremaining: 42.6s\n",
      "99:\tlearn: 0.7050151\ttotal: 4.73s\tremaining: 42.5s\n",
      "100:\tlearn: 0.7047518\ttotal: 4.78s\tremaining: 42.5s\n",
      "101:\tlearn: 0.7045713\ttotal: 4.82s\tremaining: 42.5s\n",
      "102:\tlearn: 0.7044785\ttotal: 4.87s\tremaining: 42.4s\n",
      "103:\tlearn: 0.7043079\ttotal: 4.92s\tremaining: 42.4s\n",
      "104:\tlearn: 0.7041681\ttotal: 4.96s\tremaining: 42.3s\n",
      "105:\tlearn: 0.7038578\ttotal: 5.01s\tremaining: 42.3s\n",
      "106:\tlearn: 0.7037614\ttotal: 5.05s\tremaining: 42.2s\n",
      "107:\tlearn: 0.7036526\ttotal: 5.1s\tremaining: 42.1s\n",
      "108:\tlearn: 0.7034826\ttotal: 5.15s\tremaining: 42.1s\n",
      "109:\tlearn: 0.7033128\ttotal: 5.2s\tremaining: 42.1s\n",
      "110:\tlearn: 0.7031654\ttotal: 5.24s\tremaining: 42s\n",
      "111:\tlearn: 0.7030177\ttotal: 5.28s\tremaining: 41.9s\n",
      "112:\tlearn: 0.7028262\ttotal: 5.33s\tremaining: 41.8s\n",
      "113:\tlearn: 0.7025883\ttotal: 5.37s\tremaining: 41.8s\n",
      "114:\tlearn: 0.7025025\ttotal: 5.42s\tremaining: 41.7s\n",
      "115:\tlearn: 0.7023171\ttotal: 5.47s\tremaining: 41.7s\n",
      "116:\tlearn: 0.7021417\ttotal: 5.51s\tremaining: 41.6s\n",
      "117:\tlearn: 0.7019940\ttotal: 5.56s\tremaining: 41.6s\n",
      "118:\tlearn: 0.7018175\ttotal: 5.61s\tremaining: 41.5s\n",
      "119:\tlearn: 0.7016950\ttotal: 5.65s\tremaining: 41.4s\n",
      "120:\tlearn: 0.7016283\ttotal: 5.69s\tremaining: 41.4s\n",
      "121:\tlearn: 0.7015457\ttotal: 5.74s\tremaining: 41.3s\n",
      "122:\tlearn: 0.7014033\ttotal: 5.78s\tremaining: 41.2s\n",
      "123:\tlearn: 0.7012718\ttotal: 5.82s\tremaining: 41.1s\n",
      "124:\tlearn: 0.7011377\ttotal: 5.86s\tremaining: 41s\n",
      "125:\tlearn: 0.7010225\ttotal: 5.91s\tremaining: 41s\n",
      "126:\tlearn: 0.7008457\ttotal: 5.95s\tremaining: 40.9s\n",
      "127:\tlearn: 0.7006790\ttotal: 6s\tremaining: 40.9s\n",
      "128:\tlearn: 0.7005208\ttotal: 6.04s\tremaining: 40.8s\n",
      "129:\tlearn: 0.7003695\ttotal: 6.08s\tremaining: 40.7s\n",
      "130:\tlearn: 0.7002403\ttotal: 6.13s\tremaining: 40.7s\n",
      "131:\tlearn: 0.7001021\ttotal: 6.18s\tremaining: 40.6s\n",
      "132:\tlearn: 0.6999783\ttotal: 6.21s\tremaining: 40.5s\n",
      "133:\tlearn: 0.6998371\ttotal: 6.25s\tremaining: 40.4s\n",
      "134:\tlearn: 0.6996927\ttotal: 6.3s\tremaining: 40.4s\n",
      "135:\tlearn: 0.6995529\ttotal: 6.34s\tremaining: 40.3s\n",
      "136:\tlearn: 0.6994374\ttotal: 6.39s\tremaining: 40.2s\n",
      "137:\tlearn: 0.6993133\ttotal: 6.43s\tremaining: 40.2s\n",
      "138:\tlearn: 0.6991944\ttotal: 6.47s\tremaining: 40.1s\n",
      "139:\tlearn: 0.6991179\ttotal: 6.51s\tremaining: 40s\n",
      "140:\tlearn: 0.6989884\ttotal: 6.55s\tremaining: 39.9s\n",
      "141:\tlearn: 0.6988846\ttotal: 6.59s\tremaining: 39.8s\n",
      "142:\tlearn: 0.6987837\ttotal: 6.63s\tremaining: 39.7s\n",
      "143:\tlearn: 0.6986312\ttotal: 6.67s\tremaining: 39.7s\n",
      "144:\tlearn: 0.6985695\ttotal: 6.71s\tremaining: 39.6s\n",
      "145:\tlearn: 0.6984423\ttotal: 6.77s\tremaining: 39.6s\n",
      "146:\tlearn: 0.6982997\ttotal: 6.81s\tremaining: 39.5s\n",
      "147:\tlearn: 0.6982309\ttotal: 6.85s\tremaining: 39.4s\n",
      "148:\tlearn: 0.6981006\ttotal: 6.89s\tremaining: 39.4s\n",
      "149:\tlearn: 0.6980150\ttotal: 6.93s\tremaining: 39.3s\n",
      "150:\tlearn: 0.6979032\ttotal: 6.97s\tremaining: 39.2s\n",
      "151:\tlearn: 0.6977881\ttotal: 7.01s\tremaining: 39.1s\n",
      "152:\tlearn: 0.6976668\ttotal: 7.07s\tremaining: 39.1s\n",
      "153:\tlearn: 0.6975623\ttotal: 7.11s\tremaining: 39.1s\n",
      "154:\tlearn: 0.6974641\ttotal: 7.15s\tremaining: 39s\n",
      "155:\tlearn: 0.6973636\ttotal: 7.2s\tremaining: 38.9s\n",
      "156:\tlearn: 0.6972744\ttotal: 7.24s\tremaining: 38.9s\n",
      "157:\tlearn: 0.6971390\ttotal: 7.28s\tremaining: 38.8s\n",
      "158:\tlearn: 0.6970358\ttotal: 7.32s\tremaining: 38.7s\n",
      "159:\tlearn: 0.6969344\ttotal: 7.36s\tremaining: 38.7s\n",
      "160:\tlearn: 0.6968502\ttotal: 7.41s\tremaining: 38.6s\n",
      "161:\tlearn: 0.6967284\ttotal: 7.45s\tremaining: 38.5s\n",
      "162:\tlearn: 0.6966386\ttotal: 7.49s\tremaining: 38.4s\n",
      "163:\tlearn: 0.6965387\ttotal: 7.53s\tremaining: 38.4s\n"
     ]
    },
    {
     "name": "stdout",
     "output_type": "stream",
     "text": [
      "164:\tlearn: 0.6964405\ttotal: 7.57s\tremaining: 38.3s\n",
      "165:\tlearn: 0.6963701\ttotal: 7.61s\tremaining: 38.2s\n",
      "166:\tlearn: 0.6963330\ttotal: 7.65s\tremaining: 38.2s\n",
      "167:\tlearn: 0.6962483\ttotal: 7.69s\tremaining: 38.1s\n",
      "168:\tlearn: 0.6961433\ttotal: 7.73s\tremaining: 38s\n",
      "169:\tlearn: 0.6960561\ttotal: 7.78s\tremaining: 38s\n",
      "170:\tlearn: 0.6959487\ttotal: 7.83s\tremaining: 38s\n",
      "171:\tlearn: 0.6958993\ttotal: 7.89s\tremaining: 38s\n",
      "172:\tlearn: 0.6957941\ttotal: 7.95s\tremaining: 38s\n",
      "173:\tlearn: 0.6956842\ttotal: 8s\tremaining: 38s\n",
      "174:\tlearn: 0.6955725\ttotal: 8.05s\tremaining: 37.9s\n",
      "175:\tlearn: 0.6954696\ttotal: 8.1s\tremaining: 37.9s\n",
      "176:\tlearn: 0.6953773\ttotal: 8.14s\tremaining: 37.9s\n",
      "177:\tlearn: 0.6952667\ttotal: 8.19s\tremaining: 37.8s\n",
      "178:\tlearn: 0.6952083\ttotal: 8.23s\tremaining: 37.8s\n",
      "179:\tlearn: 0.6951029\ttotal: 8.28s\tremaining: 37.7s\n",
      "180:\tlearn: 0.6950403\ttotal: 8.33s\tremaining: 37.7s\n",
      "181:\tlearn: 0.6949349\ttotal: 8.38s\tremaining: 37.7s\n",
      "182:\tlearn: 0.6948203\ttotal: 8.42s\tremaining: 37.6s\n",
      "183:\tlearn: 0.6947455\ttotal: 8.47s\tremaining: 37.6s\n",
      "184:\tlearn: 0.6946258\ttotal: 8.51s\tremaining: 37.5s\n",
      "185:\tlearn: 0.6945669\ttotal: 8.55s\tremaining: 37.4s\n",
      "186:\tlearn: 0.6944929\ttotal: 8.59s\tremaining: 37.3s\n",
      "187:\tlearn: 0.6944216\ttotal: 8.63s\tremaining: 37.3s\n",
      "188:\tlearn: 0.6943231\ttotal: 8.67s\tremaining: 37.2s\n",
      "189:\tlearn: 0.6942045\ttotal: 8.72s\tremaining: 37.2s\n",
      "190:\tlearn: 0.6941363\ttotal: 8.76s\tremaining: 37.1s\n",
      "191:\tlearn: 0.6940362\ttotal: 8.81s\tremaining: 37.1s\n",
      "192:\tlearn: 0.6939226\ttotal: 8.87s\tremaining: 37.1s\n",
      "193:\tlearn: 0.6938322\ttotal: 8.91s\tremaining: 37s\n",
      "194:\tlearn: 0.6936779\ttotal: 8.95s\tremaining: 37s\n",
      "195:\tlearn: 0.6936009\ttotal: 9.01s\tremaining: 37s\n",
      "196:\tlearn: 0.6934896\ttotal: 9.05s\tremaining: 36.9s\n",
      "197:\tlearn: 0.6934010\ttotal: 9.1s\tremaining: 36.8s\n",
      "198:\tlearn: 0.6933168\ttotal: 9.13s\tremaining: 36.7s\n",
      "199:\tlearn: 0.6932345\ttotal: 9.17s\tremaining: 36.7s\n",
      "200:\tlearn: 0.6931530\ttotal: 9.2s\tremaining: 36.6s\n",
      "201:\tlearn: 0.6930969\ttotal: 9.26s\tremaining: 36.6s\n",
      "202:\tlearn: 0.6930271\ttotal: 9.3s\tremaining: 36.5s\n",
      "203:\tlearn: 0.6929422\ttotal: 9.35s\tremaining: 36.5s\n",
      "204:\tlearn: 0.6928622\ttotal: 9.39s\tremaining: 36.4s\n",
      "205:\tlearn: 0.6927541\ttotal: 9.43s\tremaining: 36.4s\n",
      "206:\tlearn: 0.6926927\ttotal: 9.47s\tremaining: 36.3s\n",
      "207:\tlearn: 0.6926038\ttotal: 9.52s\tremaining: 36.2s\n",
      "208:\tlearn: 0.6925293\ttotal: 9.56s\tremaining: 36.2s\n",
      "209:\tlearn: 0.6923926\ttotal: 9.61s\tremaining: 36.2s\n",
      "210:\tlearn: 0.6922902\ttotal: 9.65s\tremaining: 36.1s\n",
      "211:\tlearn: 0.6921807\ttotal: 9.7s\tremaining: 36.1s\n",
      "212:\tlearn: 0.6921087\ttotal: 9.74s\tremaining: 36s\n",
      "213:\tlearn: 0.6919976\ttotal: 9.79s\tremaining: 36s\n",
      "214:\tlearn: 0.6919123\ttotal: 9.83s\tremaining: 35.9s\n",
      "215:\tlearn: 0.6918763\ttotal: 9.87s\tremaining: 35.8s\n",
      "216:\tlearn: 0.6917847\ttotal: 9.91s\tremaining: 35.8s\n",
      "217:\tlearn: 0.6917150\ttotal: 9.96s\tremaining: 35.7s\n",
      "218:\tlearn: 0.6916136\ttotal: 10s\tremaining: 35.7s\n",
      "219:\tlearn: 0.6915440\ttotal: 10.1s\tremaining: 35.7s\n",
      "220:\tlearn: 0.6914735\ttotal: 10.1s\tremaining: 35.6s\n",
      "221:\tlearn: 0.6913836\ttotal: 10.2s\tremaining: 35.6s\n",
      "222:\tlearn: 0.6912776\ttotal: 10.2s\tremaining: 35.6s\n",
      "223:\tlearn: 0.6911645\ttotal: 10.2s\tremaining: 35.5s\n",
      "224:\tlearn: 0.6910782\ttotal: 10.3s\tremaining: 35.4s\n",
      "225:\tlearn: 0.6909709\ttotal: 10.3s\tremaining: 35.3s\n",
      "226:\tlearn: 0.6909209\ttotal: 10.4s\tremaining: 35.3s\n",
      "227:\tlearn: 0.6907812\ttotal: 10.4s\tremaining: 35.2s\n",
      "228:\tlearn: 0.6906980\ttotal: 10.4s\tremaining: 35.2s\n",
      "229:\tlearn: 0.6906348\ttotal: 10.5s\tremaining: 35.1s\n",
      "230:\tlearn: 0.6905689\ttotal: 10.5s\tremaining: 35s\n",
      "231:\tlearn: 0.6904749\ttotal: 10.5s\tremaining: 34.9s\n",
      "232:\tlearn: 0.6903960\ttotal: 10.6s\tremaining: 34.8s\n",
      "233:\tlearn: 0.6903224\ttotal: 10.6s\tremaining: 34.7s\n",
      "234:\tlearn: 0.6902180\ttotal: 10.6s\tremaining: 34.7s\n",
      "235:\tlearn: 0.6901479\ttotal: 10.7s\tremaining: 34.6s\n",
      "236:\tlearn: 0.6900695\ttotal: 10.7s\tremaining: 34.5s\n",
      "237:\tlearn: 0.6899975\ttotal: 10.8s\tremaining: 34.4s\n",
      "238:\tlearn: 0.6899036\ttotal: 10.8s\tremaining: 34.4s\n",
      "239:\tlearn: 0.6898572\ttotal: 10.8s\tremaining: 34.3s\n",
      "240:\tlearn: 0.6897627\ttotal: 10.9s\tremaining: 34.2s\n",
      "241:\tlearn: 0.6896779\ttotal: 10.9s\tremaining: 34.1s\n",
      "242:\tlearn: 0.6895780\ttotal: 10.9s\tremaining: 34.1s\n",
      "243:\tlearn: 0.6894940\ttotal: 11s\tremaining: 34s\n",
      "244:\tlearn: 0.6894159\ttotal: 11s\tremaining: 34s\n",
      "245:\tlearn: 0.6893027\ttotal: 11.1s\tremaining: 33.9s\n",
      "246:\tlearn: 0.6892387\ttotal: 11.1s\tremaining: 33.9s\n",
      "247:\tlearn: 0.6891757\ttotal: 11.1s\tremaining: 33.8s\n",
      "248:\tlearn: 0.6891229\ttotal: 11.2s\tremaining: 33.7s\n",
      "249:\tlearn: 0.6890416\ttotal: 11.3s\tremaining: 33.8s\n",
      "250:\tlearn: 0.6889768\ttotal: 11.3s\tremaining: 33.8s\n",
      "251:\tlearn: 0.6888925\ttotal: 11.4s\tremaining: 33.7s\n",
      "252:\tlearn: 0.6887932\ttotal: 11.4s\tremaining: 33.7s\n",
      "253:\tlearn: 0.6887134\ttotal: 11.5s\tremaining: 33.7s\n",
      "254:\tlearn: 0.6886488\ttotal: 11.5s\tremaining: 33.7s\n",
      "255:\tlearn: 0.6885866\ttotal: 11.6s\tremaining: 33.6s\n",
      "256:\tlearn: 0.6885381\ttotal: 11.6s\tremaining: 33.5s\n",
      "257:\tlearn: 0.6884863\ttotal: 11.6s\tremaining: 33.5s\n",
      "258:\tlearn: 0.6884021\ttotal: 11.7s\tremaining: 33.4s\n",
      "259:\tlearn: 0.6883349\ttotal: 11.7s\tremaining: 33.4s\n",
      "260:\tlearn: 0.6882614\ttotal: 11.8s\tremaining: 33.4s\n",
      "261:\tlearn: 0.6881747\ttotal: 11.8s\tremaining: 33.4s\n",
      "262:\tlearn: 0.6881352\ttotal: 11.9s\tremaining: 33.3s\n",
      "263:\tlearn: 0.6880259\ttotal: 11.9s\tremaining: 33.3s\n",
      "264:\tlearn: 0.6879566\ttotal: 12s\tremaining: 33.3s\n",
      "265:\tlearn: 0.6878530\ttotal: 12s\tremaining: 33.2s\n",
      "266:\tlearn: 0.6877500\ttotal: 12.1s\tremaining: 33.2s\n",
      "267:\tlearn: 0.6876652\ttotal: 12.1s\tremaining: 33.2s\n",
      "268:\tlearn: 0.6876151\ttotal: 12.2s\tremaining: 33.1s\n",
      "269:\tlearn: 0.6875300\ttotal: 12.2s\tremaining: 33.1s\n",
      "270:\tlearn: 0.6874886\ttotal: 12.3s\tremaining: 33s\n",
      "271:\tlearn: 0.6873935\ttotal: 12.3s\tremaining: 33s\n",
      "272:\tlearn: 0.6873265\ttotal: 12.4s\tremaining: 33s\n",
      "273:\tlearn: 0.6872448\ttotal: 12.4s\tremaining: 32.9s\n",
      "274:\tlearn: 0.6871715\ttotal: 12.5s\tremaining: 32.9s\n",
      "275:\tlearn: 0.6870900\ttotal: 12.5s\tremaining: 32.8s\n",
      "276:\tlearn: 0.6870095\ttotal: 12.6s\tremaining: 32.8s\n",
      "277:\tlearn: 0.6869612\ttotal: 12.6s\tremaining: 32.8s\n",
      "278:\tlearn: 0.6869031\ttotal: 12.7s\tremaining: 32.7s\n",
      "279:\tlearn: 0.6868302\ttotal: 12.7s\tremaining: 32.7s\n",
      "280:\tlearn: 0.6866985\ttotal: 12.8s\tremaining: 32.6s\n",
      "281:\tlearn: 0.6866089\ttotal: 12.8s\tremaining: 32.6s\n",
      "282:\tlearn: 0.6865068\ttotal: 12.8s\tremaining: 32.5s\n",
      "283:\tlearn: 0.6863978\ttotal: 12.9s\tremaining: 32.5s\n",
      "284:\tlearn: 0.6863181\ttotal: 12.9s\tremaining: 32.5s\n",
      "285:\tlearn: 0.6862217\ttotal: 13s\tremaining: 32.4s\n",
      "286:\tlearn: 0.6861400\ttotal: 13s\tremaining: 32.4s\n",
      "287:\tlearn: 0.6860453\ttotal: 13.1s\tremaining: 32.3s\n",
      "288:\tlearn: 0.6859718\ttotal: 13.1s\tremaining: 32.3s\n",
      "289:\tlearn: 0.6858953\ttotal: 13.2s\tremaining: 32.2s\n",
      "290:\tlearn: 0.6858414\ttotal: 13.2s\tremaining: 32.2s\n",
      "291:\tlearn: 0.6857703\ttotal: 13.3s\tremaining: 32.2s\n",
      "292:\tlearn: 0.6857205\ttotal: 13.3s\tremaining: 32.2s\n",
      "293:\tlearn: 0.6856755\ttotal: 13.4s\tremaining: 32.1s\n",
      "294:\tlearn: 0.6856149\ttotal: 13.4s\tremaining: 32.1s\n",
      "295:\tlearn: 0.6855675\ttotal: 13.5s\tremaining: 32s\n",
      "296:\tlearn: 0.6855117\ttotal: 13.5s\tremaining: 32s\n",
      "297:\tlearn: 0.6854128\ttotal: 13.6s\tremaining: 31.9s\n",
      "298:\tlearn: 0.6853550\ttotal: 13.6s\tremaining: 31.9s\n",
      "299:\tlearn: 0.6852819\ttotal: 13.6s\tremaining: 31.8s\n",
      "300:\tlearn: 0.6852147\ttotal: 13.7s\tremaining: 31.8s\n",
      "301:\tlearn: 0.6851406\ttotal: 13.7s\tremaining: 31.8s\n",
      "302:\tlearn: 0.6850593\ttotal: 13.8s\tremaining: 31.7s\n",
      "303:\tlearn: 0.6849678\ttotal: 13.8s\tremaining: 31.7s\n",
      "304:\tlearn: 0.6849037\ttotal: 13.9s\tremaining: 31.6s\n",
      "305:\tlearn: 0.6848194\ttotal: 13.9s\tremaining: 31.6s\n",
      "306:\tlearn: 0.6847458\ttotal: 14s\tremaining: 31.5s\n",
      "307:\tlearn: 0.6846963\ttotal: 14s\tremaining: 31.5s\n",
      "308:\tlearn: 0.6845622\ttotal: 14.1s\tremaining: 31.4s\n",
      "309:\tlearn: 0.6845126\ttotal: 14.1s\tremaining: 31.4s\n",
      "310:\tlearn: 0.6844615\ttotal: 14.1s\tremaining: 31.3s\n",
      "311:\tlearn: 0.6844202\ttotal: 14.2s\tremaining: 31.3s\n",
      "312:\tlearn: 0.6843674\ttotal: 14.3s\tremaining: 31.3s\n",
      "313:\tlearn: 0.6843013\ttotal: 14.3s\tremaining: 31.3s\n",
      "314:\tlearn: 0.6842256\ttotal: 14.4s\tremaining: 31.3s\n",
      "315:\tlearn: 0.6841892\ttotal: 14.4s\tremaining: 31.2s\n",
      "316:\tlearn: 0.6841284\ttotal: 14.5s\tremaining: 31.2s\n",
      "317:\tlearn: 0.6840511\ttotal: 14.5s\tremaining: 31.1s\n",
      "318:\tlearn: 0.6839617\ttotal: 14.6s\tremaining: 31.1s\n",
      "319:\tlearn: 0.6838947\ttotal: 14.6s\tremaining: 31.1s\n",
      "320:\tlearn: 0.6838173\ttotal: 14.7s\tremaining: 31.1s\n",
      "321:\tlearn: 0.6837329\ttotal: 14.8s\tremaining: 31.1s\n",
      "322:\tlearn: 0.6836845\ttotal: 14.8s\tremaining: 31s\n"
     ]
    },
    {
     "name": "stdout",
     "output_type": "stream",
     "text": [
      "323:\tlearn: 0.6836256\ttotal: 14.9s\tremaining: 31s\n",
      "324:\tlearn: 0.6835549\ttotal: 14.9s\tremaining: 31s\n",
      "325:\tlearn: 0.6834973\ttotal: 15s\tremaining: 30.9s\n",
      "326:\tlearn: 0.6834285\ttotal: 15s\tremaining: 30.9s\n",
      "327:\tlearn: 0.6833735\ttotal: 15s\tremaining: 30.8s\n",
      "328:\tlearn: 0.6833050\ttotal: 15.1s\tremaining: 30.8s\n",
      "329:\tlearn: 0.6832156\ttotal: 15.1s\tremaining: 30.7s\n",
      "330:\tlearn: 0.6831141\ttotal: 15.2s\tremaining: 30.7s\n",
      "331:\tlearn: 0.6830696\ttotal: 15.2s\tremaining: 30.6s\n",
      "332:\tlearn: 0.6830013\ttotal: 15.3s\tremaining: 30.6s\n",
      "333:\tlearn: 0.6829726\ttotal: 15.3s\tremaining: 30.6s\n",
      "334:\tlearn: 0.6828801\ttotal: 15.4s\tremaining: 30.5s\n",
      "335:\tlearn: 0.6828100\ttotal: 15.4s\tremaining: 30.5s\n",
      "336:\tlearn: 0.6827726\ttotal: 15.5s\tremaining: 30.4s\n",
      "337:\tlearn: 0.6827487\ttotal: 15.5s\tremaining: 30.4s\n",
      "338:\tlearn: 0.6827046\ttotal: 15.6s\tremaining: 30.3s\n",
      "339:\tlearn: 0.6826416\ttotal: 15.6s\tremaining: 30.3s\n",
      "340:\tlearn: 0.6825513\ttotal: 15.7s\tremaining: 30.3s\n",
      "341:\tlearn: 0.6824909\ttotal: 15.7s\tremaining: 30.3s\n",
      "342:\tlearn: 0.6824498\ttotal: 15.8s\tremaining: 30.3s\n",
      "343:\tlearn: 0.6823865\ttotal: 15.9s\tremaining: 30.2s\n",
      "344:\tlearn: 0.6823051\ttotal: 15.9s\tremaining: 30.2s\n",
      "345:\tlearn: 0.6822437\ttotal: 16s\tremaining: 30.2s\n",
      "346:\tlearn: 0.6821453\ttotal: 16s\tremaining: 30.1s\n",
      "347:\tlearn: 0.6820512\ttotal: 16.1s\tremaining: 30.1s\n",
      "348:\tlearn: 0.6819808\ttotal: 16.1s\tremaining: 30.1s\n",
      "349:\tlearn: 0.6819050\ttotal: 16.2s\tremaining: 30s\n",
      "350:\tlearn: 0.6817891\ttotal: 16.2s\tremaining: 30s\n",
      "351:\tlearn: 0.6817293\ttotal: 16.3s\tremaining: 29.9s\n",
      "352:\tlearn: 0.6816724\ttotal: 16.3s\tremaining: 29.9s\n",
      "353:\tlearn: 0.6816169\ttotal: 16.4s\tremaining: 29.9s\n",
      "354:\tlearn: 0.6815880\ttotal: 16.4s\tremaining: 29.8s\n",
      "355:\tlearn: 0.6815191\ttotal: 16.5s\tremaining: 29.8s\n",
      "356:\tlearn: 0.6814581\ttotal: 16.5s\tremaining: 29.8s\n",
      "357:\tlearn: 0.6813959\ttotal: 16.6s\tremaining: 29.7s\n",
      "358:\tlearn: 0.6813194\ttotal: 16.6s\tremaining: 29.7s\n",
      "359:\tlearn: 0.6812233\ttotal: 16.7s\tremaining: 29.6s\n",
      "360:\tlearn: 0.6811346\ttotal: 16.7s\tremaining: 29.6s\n",
      "361:\tlearn: 0.6810746\ttotal: 16.7s\tremaining: 29.5s\n",
      "362:\tlearn: 0.6810077\ttotal: 16.8s\tremaining: 29.5s\n",
      "363:\tlearn: 0.6809426\ttotal: 16.8s\tremaining: 29.4s\n",
      "364:\tlearn: 0.6808633\ttotal: 16.9s\tremaining: 29.4s\n",
      "365:\tlearn: 0.6808013\ttotal: 16.9s\tremaining: 29.3s\n",
      "366:\tlearn: 0.6807371\ttotal: 17s\tremaining: 29.3s\n",
      "367:\tlearn: 0.6807038\ttotal: 17s\tremaining: 29.2s\n",
      "368:\tlearn: 0.6806370\ttotal: 17.1s\tremaining: 29.2s\n",
      "369:\tlearn: 0.6805842\ttotal: 17.1s\tremaining: 29.1s\n",
      "370:\tlearn: 0.6805315\ttotal: 17.1s\tremaining: 29.1s\n",
      "371:\tlearn: 0.6804649\ttotal: 17.2s\tremaining: 29s\n",
      "372:\tlearn: 0.6804188\ttotal: 17.2s\tremaining: 29s\n",
      "373:\tlearn: 0.6803681\ttotal: 17.3s\tremaining: 28.9s\n",
      "374:\tlearn: 0.6803009\ttotal: 17.3s\tremaining: 28.9s\n",
      "375:\tlearn: 0.6802538\ttotal: 17.4s\tremaining: 28.8s\n",
      "376:\tlearn: 0.6801884\ttotal: 17.4s\tremaining: 28.7s\n",
      "377:\tlearn: 0.6801180\ttotal: 17.4s\tremaining: 28.7s\n",
      "378:\tlearn: 0.6800418\ttotal: 17.5s\tremaining: 28.6s\n",
      "379:\tlearn: 0.6799602\ttotal: 17.5s\tremaining: 28.6s\n",
      "380:\tlearn: 0.6799283\ttotal: 17.6s\tremaining: 28.5s\n",
      "381:\tlearn: 0.6798938\ttotal: 17.6s\tremaining: 28.5s\n",
      "382:\tlearn: 0.6798100\ttotal: 17.6s\tremaining: 28.4s\n",
      "383:\tlearn: 0.6797549\ttotal: 17.7s\tremaining: 28.4s\n",
      "384:\tlearn: 0.6796788\ttotal: 17.7s\tremaining: 28.3s\n",
      "385:\tlearn: 0.6796174\ttotal: 17.8s\tremaining: 28.3s\n",
      "386:\tlearn: 0.6795716\ttotal: 17.8s\tremaining: 28.2s\n",
      "387:\tlearn: 0.6795217\ttotal: 17.9s\tremaining: 28.2s\n",
      "388:\tlearn: 0.6794759\ttotal: 17.9s\tremaining: 28.1s\n",
      "389:\tlearn: 0.6793909\ttotal: 17.9s\tremaining: 28.1s\n",
      "390:\tlearn: 0.6793157\ttotal: 18s\tremaining: 28s\n",
      "391:\tlearn: 0.6792438\ttotal: 18s\tremaining: 27.9s\n",
      "392:\tlearn: 0.6791660\ttotal: 18.1s\tremaining: 27.9s\n",
      "393:\tlearn: 0.6790920\ttotal: 18.1s\tremaining: 27.9s\n",
      "394:\tlearn: 0.6790308\ttotal: 18.2s\tremaining: 27.8s\n",
      "395:\tlearn: 0.6789833\ttotal: 18.2s\tremaining: 27.8s\n",
      "396:\tlearn: 0.6789101\ttotal: 18.3s\tremaining: 27.7s\n",
      "397:\tlearn: 0.6788498\ttotal: 18.3s\tremaining: 27.7s\n",
      "398:\tlearn: 0.6787743\ttotal: 18.3s\tremaining: 27.6s\n",
      "399:\tlearn: 0.6786777\ttotal: 18.4s\tremaining: 27.6s\n",
      "400:\tlearn: 0.6785864\ttotal: 18.4s\tremaining: 27.5s\n",
      "401:\tlearn: 0.6785327\ttotal: 18.5s\tremaining: 27.5s\n",
      "402:\tlearn: 0.6784900\ttotal: 18.5s\tremaining: 27.4s\n",
      "403:\tlearn: 0.6783915\ttotal: 18.5s\tremaining: 27.4s\n",
      "404:\tlearn: 0.6783214\ttotal: 18.6s\tremaining: 27.3s\n",
      "405:\tlearn: 0.6782520\ttotal: 18.6s\tremaining: 27.3s\n",
      "406:\tlearn: 0.6781940\ttotal: 18.7s\tremaining: 27.2s\n",
      "407:\tlearn: 0.6781342\ttotal: 18.7s\tremaining: 27.1s\n",
      "408:\tlearn: 0.6780713\ttotal: 18.7s\tremaining: 27.1s\n",
      "409:\tlearn: 0.6780060\ttotal: 18.8s\tremaining: 27s\n",
      "410:\tlearn: 0.6779400\ttotal: 18.8s\tremaining: 27s\n",
      "411:\tlearn: 0.6778885\ttotal: 18.9s\tremaining: 27s\n",
      "412:\tlearn: 0.6778211\ttotal: 18.9s\tremaining: 26.9s\n",
      "413:\tlearn: 0.6777560\ttotal: 19s\tremaining: 26.9s\n",
      "414:\tlearn: 0.6777089\ttotal: 19s\tremaining: 26.8s\n",
      "415:\tlearn: 0.6776749\ttotal: 19.1s\tremaining: 26.8s\n",
      "416:\tlearn: 0.6776019\ttotal: 19.1s\tremaining: 26.8s\n",
      "417:\tlearn: 0.6775604\ttotal: 19.2s\tremaining: 26.7s\n",
      "418:\tlearn: 0.6774837\ttotal: 19.2s\tremaining: 26.7s\n",
      "419:\tlearn: 0.6774171\ttotal: 19.3s\tremaining: 26.6s\n",
      "420:\tlearn: 0.6773531\ttotal: 19.3s\tremaining: 26.6s\n",
      "421:\tlearn: 0.6772859\ttotal: 19.4s\tremaining: 26.5s\n",
      "422:\tlearn: 0.6772256\ttotal: 19.4s\tremaining: 26.5s\n",
      "423:\tlearn: 0.6771610\ttotal: 19.4s\tremaining: 26.4s\n",
      "424:\tlearn: 0.6771136\ttotal: 19.5s\tremaining: 26.4s\n",
      "425:\tlearn: 0.6770193\ttotal: 19.5s\tremaining: 26.3s\n",
      "426:\tlearn: 0.6769746\ttotal: 19.6s\tremaining: 26.3s\n",
      "427:\tlearn: 0.6769186\ttotal: 19.6s\tremaining: 26.2s\n",
      "428:\tlearn: 0.6768208\ttotal: 19.7s\tremaining: 26.2s\n",
      "429:\tlearn: 0.6767618\ttotal: 19.7s\tremaining: 26.2s\n",
      "430:\tlearn: 0.6767056\ttotal: 19.8s\tremaining: 26.1s\n",
      "431:\tlearn: 0.6766565\ttotal: 19.8s\tremaining: 26s\n",
      "432:\tlearn: 0.6765782\ttotal: 19.8s\tremaining: 26s\n",
      "433:\tlearn: 0.6765310\ttotal: 19.9s\tremaining: 25.9s\n",
      "434:\tlearn: 0.6764593\ttotal: 19.9s\tremaining: 25.9s\n",
      "435:\tlearn: 0.6764185\ttotal: 20s\tremaining: 25.9s\n",
      "436:\tlearn: 0.6763588\ttotal: 20s\tremaining: 25.8s\n",
      "437:\tlearn: 0.6762696\ttotal: 20.1s\tremaining: 25.8s\n",
      "438:\tlearn: 0.6762000\ttotal: 20.1s\tremaining: 25.7s\n",
      "439:\tlearn: 0.6761396\ttotal: 20.2s\tremaining: 25.7s\n",
      "440:\tlearn: 0.6760721\ttotal: 20.2s\tremaining: 25.6s\n",
      "441:\tlearn: 0.6759762\ttotal: 20.2s\tremaining: 25.6s\n",
      "442:\tlearn: 0.6759310\ttotal: 20.3s\tremaining: 25.5s\n",
      "443:\tlearn: 0.6758577\ttotal: 20.3s\tremaining: 25.5s\n",
      "444:\tlearn: 0.6757853\ttotal: 20.4s\tremaining: 25.4s\n",
      "445:\tlearn: 0.6757471\ttotal: 20.4s\tremaining: 25.3s\n",
      "446:\tlearn: 0.6756813\ttotal: 20.4s\tremaining: 25.3s\n",
      "447:\tlearn: 0.6756222\ttotal: 20.5s\tremaining: 25.2s\n",
      "448:\tlearn: 0.6755291\ttotal: 20.5s\tremaining: 25.2s\n",
      "449:\tlearn: 0.6754613\ttotal: 20.6s\tremaining: 25.1s\n",
      "450:\tlearn: 0.6753773\ttotal: 20.6s\tremaining: 25.1s\n",
      "451:\tlearn: 0.6752920\ttotal: 20.7s\tremaining: 25s\n",
      "452:\tlearn: 0.6752556\ttotal: 20.7s\tremaining: 25s\n",
      "453:\tlearn: 0.6752264\ttotal: 20.7s\tremaining: 24.9s\n",
      "454:\tlearn: 0.6751631\ttotal: 20.8s\tremaining: 24.9s\n",
      "455:\tlearn: 0.6750870\ttotal: 20.8s\tremaining: 24.9s\n",
      "456:\tlearn: 0.6750512\ttotal: 20.9s\tremaining: 24.8s\n",
      "457:\tlearn: 0.6749776\ttotal: 20.9s\tremaining: 24.8s\n",
      "458:\tlearn: 0.6748845\ttotal: 21s\tremaining: 24.7s\n",
      "459:\tlearn: 0.6748136\ttotal: 21s\tremaining: 24.6s\n",
      "460:\tlearn: 0.6747507\ttotal: 21s\tremaining: 24.6s\n",
      "461:\tlearn: 0.6747112\ttotal: 21.1s\tremaining: 24.6s\n",
      "462:\tlearn: 0.6746466\ttotal: 21.1s\tremaining: 24.5s\n",
      "463:\tlearn: 0.6745787\ttotal: 21.2s\tremaining: 24.5s\n",
      "464:\tlearn: 0.6745158\ttotal: 21.2s\tremaining: 24.4s\n",
      "465:\tlearn: 0.6744266\ttotal: 21.3s\tremaining: 24.4s\n",
      "466:\tlearn: 0.6743541\ttotal: 21.3s\tremaining: 24.3s\n",
      "467:\tlearn: 0.6742978\ttotal: 21.4s\tremaining: 24.3s\n",
      "468:\tlearn: 0.6742246\ttotal: 21.4s\tremaining: 24.2s\n",
      "469:\tlearn: 0.6741764\ttotal: 21.4s\tremaining: 24.2s\n",
      "470:\tlearn: 0.6741174\ttotal: 21.5s\tremaining: 24.2s\n",
      "471:\tlearn: 0.6740523\ttotal: 21.5s\tremaining: 24.1s\n",
      "472:\tlearn: 0.6740026\ttotal: 21.6s\tremaining: 24.1s\n",
      "473:\tlearn: 0.6739345\ttotal: 21.7s\tremaining: 24s\n",
      "474:\tlearn: 0.6738995\ttotal: 21.7s\tremaining: 24s\n",
      "475:\tlearn: 0.6738359\ttotal: 21.7s\tremaining: 23.9s\n",
      "476:\tlearn: 0.6737606\ttotal: 21.8s\tremaining: 23.9s\n",
      "477:\tlearn: 0.6736829\ttotal: 21.8s\tremaining: 23.9s\n",
      "478:\tlearn: 0.6736302\ttotal: 21.9s\tremaining: 23.8s\n",
      "479:\tlearn: 0.6735615\ttotal: 21.9s\tremaining: 23.8s\n",
      "480:\tlearn: 0.6735120\ttotal: 22s\tremaining: 23.7s\n",
      "481:\tlearn: 0.6734516\ttotal: 22s\tremaining: 23.7s\n",
      "482:\tlearn: 0.6733934\ttotal: 22.1s\tremaining: 23.6s\n"
     ]
    },
    {
     "name": "stdout",
     "output_type": "stream",
     "text": [
      "483:\tlearn: 0.6733261\ttotal: 22.1s\tremaining: 23.6s\n",
      "484:\tlearn: 0.6732945\ttotal: 22.1s\tremaining: 23.5s\n",
      "485:\tlearn: 0.6731941\ttotal: 22.2s\tremaining: 23.5s\n",
      "486:\tlearn: 0.6731131\ttotal: 22.2s\tremaining: 23.4s\n",
      "487:\tlearn: 0.6730484\ttotal: 22.3s\tremaining: 23.4s\n",
      "488:\tlearn: 0.6729860\ttotal: 22.3s\tremaining: 23.3s\n",
      "489:\tlearn: 0.6729374\ttotal: 22.4s\tremaining: 23.3s\n",
      "490:\tlearn: 0.6728770\ttotal: 22.4s\tremaining: 23.2s\n",
      "491:\tlearn: 0.6728364\ttotal: 22.4s\tremaining: 23.2s\n",
      "492:\tlearn: 0.6727791\ttotal: 22.5s\tremaining: 23.1s\n",
      "493:\tlearn: 0.6727192\ttotal: 22.5s\tremaining: 23.1s\n",
      "494:\tlearn: 0.6726308\ttotal: 22.6s\tremaining: 23.1s\n",
      "495:\tlearn: 0.6725655\ttotal: 22.7s\tremaining: 23s\n",
      "496:\tlearn: 0.6724863\ttotal: 22.7s\tremaining: 23s\n",
      "497:\tlearn: 0.6724306\ttotal: 22.7s\tremaining: 22.9s\n",
      "498:\tlearn: 0.6723906\ttotal: 22.8s\tremaining: 22.9s\n",
      "499:\tlearn: 0.6723541\ttotal: 22.8s\tremaining: 22.8s\n",
      "500:\tlearn: 0.6723194\ttotal: 22.9s\tremaining: 22.8s\n",
      "501:\tlearn: 0.6722571\ttotal: 22.9s\tremaining: 22.7s\n",
      "502:\tlearn: 0.6721915\ttotal: 23s\tremaining: 22.7s\n",
      "503:\tlearn: 0.6721271\ttotal: 23s\tremaining: 22.6s\n",
      "504:\tlearn: 0.6720599\ttotal: 23s\tremaining: 22.6s\n",
      "505:\tlearn: 0.6720250\ttotal: 23.1s\tremaining: 22.5s\n",
      "506:\tlearn: 0.6719720\ttotal: 23.1s\tremaining: 22.5s\n",
      "507:\tlearn: 0.6719061\ttotal: 23.2s\tremaining: 22.4s\n",
      "508:\tlearn: 0.6718735\ttotal: 23.2s\tremaining: 22.4s\n",
      "509:\tlearn: 0.6718087\ttotal: 23.3s\tremaining: 22.3s\n",
      "510:\tlearn: 0.6717669\ttotal: 23.3s\tremaining: 22.3s\n",
      "511:\tlearn: 0.6717065\ttotal: 23.3s\tremaining: 22.3s\n",
      "512:\tlearn: 0.6716225\ttotal: 23.4s\tremaining: 22.2s\n",
      "513:\tlearn: 0.6715666\ttotal: 23.4s\tremaining: 22.2s\n",
      "514:\tlearn: 0.6715247\ttotal: 23.5s\tremaining: 22.1s\n",
      "515:\tlearn: 0.6714286\ttotal: 23.5s\tremaining: 22.1s\n",
      "516:\tlearn: 0.6713790\ttotal: 23.6s\tremaining: 22s\n",
      "517:\tlearn: 0.6713227\ttotal: 23.6s\tremaining: 22s\n",
      "518:\tlearn: 0.6712729\ttotal: 23.7s\tremaining: 21.9s\n",
      "519:\tlearn: 0.6712198\ttotal: 23.7s\tremaining: 21.9s\n",
      "520:\tlearn: 0.6711737\ttotal: 23.8s\tremaining: 21.8s\n",
      "521:\tlearn: 0.6711331\ttotal: 23.8s\tremaining: 21.8s\n",
      "522:\tlearn: 0.6710571\ttotal: 23.8s\tremaining: 21.7s\n",
      "523:\tlearn: 0.6710116\ttotal: 23.9s\tremaining: 21.7s\n",
      "524:\tlearn: 0.6709563\ttotal: 23.9s\tremaining: 21.6s\n",
      "525:\tlearn: 0.6708808\ttotal: 24s\tremaining: 21.6s\n",
      "526:\tlearn: 0.6708536\ttotal: 24s\tremaining: 21.5s\n",
      "527:\tlearn: 0.6707957\ttotal: 24.1s\tremaining: 21.5s\n",
      "528:\tlearn: 0.6707087\ttotal: 24.1s\tremaining: 21.5s\n",
      "529:\tlearn: 0.6706556\ttotal: 24.1s\tremaining: 21.4s\n",
      "530:\tlearn: 0.6705805\ttotal: 24.2s\tremaining: 21.4s\n",
      "531:\tlearn: 0.6705373\ttotal: 24.2s\tremaining: 21.3s\n",
      "532:\tlearn: 0.6704863\ttotal: 24.3s\tremaining: 21.3s\n",
      "533:\tlearn: 0.6704351\ttotal: 24.3s\tremaining: 21.2s\n",
      "534:\tlearn: 0.6703870\ttotal: 24.4s\tremaining: 21.2s\n",
      "535:\tlearn: 0.6703461\ttotal: 24.4s\tremaining: 21.1s\n",
      "536:\tlearn: 0.6702727\ttotal: 24.5s\tremaining: 21.1s\n",
      "537:\tlearn: 0.6701936\ttotal: 24.5s\tremaining: 21s\n",
      "538:\tlearn: 0.6701521\ttotal: 24.6s\tremaining: 21s\n",
      "539:\tlearn: 0.6701326\ttotal: 24.6s\tremaining: 20.9s\n",
      "540:\tlearn: 0.6700899\ttotal: 24.6s\tremaining: 20.9s\n",
      "541:\tlearn: 0.6700381\ttotal: 24.7s\tremaining: 20.9s\n",
      "542:\tlearn: 0.6699961\ttotal: 24.8s\tremaining: 20.9s\n",
      "543:\tlearn: 0.6699534\ttotal: 24.8s\tremaining: 20.8s\n",
      "544:\tlearn: 0.6699109\ttotal: 24.9s\tremaining: 20.8s\n",
      "545:\tlearn: 0.6698688\ttotal: 24.9s\tremaining: 20.7s\n",
      "546:\tlearn: 0.6697995\ttotal: 25s\tremaining: 20.7s\n",
      "547:\tlearn: 0.6697308\ttotal: 25s\tremaining: 20.6s\n",
      "548:\tlearn: 0.6696854\ttotal: 25s\tremaining: 20.6s\n",
      "549:\tlearn: 0.6696459\ttotal: 25.1s\tremaining: 20.5s\n",
      "550:\tlearn: 0.6695974\ttotal: 25.1s\tremaining: 20.5s\n",
      "551:\tlearn: 0.6695239\ttotal: 25.2s\tremaining: 20.4s\n",
      "552:\tlearn: 0.6694734\ttotal: 25.2s\tremaining: 20.4s\n",
      "553:\tlearn: 0.6693952\ttotal: 25.3s\tremaining: 20.3s\n",
      "554:\tlearn: 0.6693656\ttotal: 25.3s\tremaining: 20.3s\n",
      "555:\tlearn: 0.6692678\ttotal: 25.4s\tremaining: 20.3s\n",
      "556:\tlearn: 0.6692091\ttotal: 25.4s\tremaining: 20.2s\n",
      "557:\tlearn: 0.6691721\ttotal: 25.5s\tremaining: 20.2s\n",
      "558:\tlearn: 0.6690648\ttotal: 25.5s\tremaining: 20.1s\n",
      "559:\tlearn: 0.6690302\ttotal: 25.6s\tremaining: 20.1s\n",
      "560:\tlearn: 0.6689549\ttotal: 25.6s\tremaining: 20s\n",
      "561:\tlearn: 0.6688966\ttotal: 25.7s\tremaining: 20s\n",
      "562:\tlearn: 0.6688203\ttotal: 25.7s\tremaining: 20s\n",
      "563:\tlearn: 0.6687710\ttotal: 25.8s\tremaining: 19.9s\n",
      "564:\tlearn: 0.6687344\ttotal: 25.8s\tremaining: 19.9s\n",
      "565:\tlearn: 0.6686811\ttotal: 25.9s\tremaining: 19.8s\n",
      "566:\tlearn: 0.6686243\ttotal: 25.9s\tremaining: 19.8s\n",
      "567:\tlearn: 0.6685716\ttotal: 26s\tremaining: 19.7s\n",
      "568:\tlearn: 0.6685376\ttotal: 26s\tremaining: 19.7s\n",
      "569:\tlearn: 0.6684656\ttotal: 26.1s\tremaining: 19.7s\n",
      "570:\tlearn: 0.6683929\ttotal: 26.1s\tremaining: 19.6s\n",
      "571:\tlearn: 0.6683330\ttotal: 26.1s\tremaining: 19.6s\n",
      "572:\tlearn: 0.6682864\ttotal: 26.2s\tremaining: 19.5s\n",
      "573:\tlearn: 0.6682302\ttotal: 26.2s\tremaining: 19.5s\n",
      "574:\tlearn: 0.6681956\ttotal: 26.3s\tremaining: 19.4s\n",
      "575:\tlearn: 0.6681279\ttotal: 26.3s\tremaining: 19.4s\n",
      "576:\tlearn: 0.6680913\ttotal: 26.4s\tremaining: 19.3s\n",
      "577:\tlearn: 0.6680338\ttotal: 26.4s\tremaining: 19.3s\n",
      "578:\tlearn: 0.6679965\ttotal: 26.5s\tremaining: 19.3s\n",
      "579:\tlearn: 0.6679306\ttotal: 26.5s\tremaining: 19.2s\n",
      "580:\tlearn: 0.6678523\ttotal: 26.6s\tremaining: 19.1s\n",
      "581:\tlearn: 0.6678041\ttotal: 26.6s\tremaining: 19.1s\n",
      "582:\tlearn: 0.6677606\ttotal: 26.6s\tremaining: 19s\n",
      "583:\tlearn: 0.6677142\ttotal: 26.7s\tremaining: 19s\n",
      "584:\tlearn: 0.6676647\ttotal: 26.7s\tremaining: 18.9s\n",
      "585:\tlearn: 0.6676207\ttotal: 26.7s\tremaining: 18.9s\n",
      "586:\tlearn: 0.6675745\ttotal: 26.8s\tremaining: 18.8s\n",
      "587:\tlearn: 0.6675355\ttotal: 26.8s\tremaining: 18.8s\n",
      "588:\tlearn: 0.6674994\ttotal: 26.9s\tremaining: 18.8s\n",
      "589:\tlearn: 0.6674500\ttotal: 26.9s\tremaining: 18.7s\n",
      "590:\tlearn: 0.6673996\ttotal: 27s\tremaining: 18.7s\n",
      "591:\tlearn: 0.6673563\ttotal: 27s\tremaining: 18.6s\n",
      "592:\tlearn: 0.6672811\ttotal: 27.1s\tremaining: 18.6s\n",
      "593:\tlearn: 0.6672125\ttotal: 27.1s\tremaining: 18.5s\n",
      "594:\tlearn: 0.6671573\ttotal: 27.2s\tremaining: 18.5s\n",
      "595:\tlearn: 0.6671202\ttotal: 27.2s\tremaining: 18.4s\n",
      "596:\tlearn: 0.6670801\ttotal: 27.3s\tremaining: 18.4s\n",
      "597:\tlearn: 0.6670341\ttotal: 27.3s\tremaining: 18.4s\n",
      "598:\tlearn: 0.6669543\ttotal: 27.3s\tremaining: 18.3s\n",
      "599:\tlearn: 0.6669092\ttotal: 27.4s\tremaining: 18.3s\n",
      "600:\tlearn: 0.6668686\ttotal: 27.4s\tremaining: 18.2s\n",
      "601:\tlearn: 0.6668180\ttotal: 27.5s\tremaining: 18.2s\n",
      "602:\tlearn: 0.6667492\ttotal: 27.5s\tremaining: 18.1s\n",
      "603:\tlearn: 0.6666938\ttotal: 27.6s\tremaining: 18.1s\n",
      "604:\tlearn: 0.6666460\ttotal: 27.6s\tremaining: 18s\n",
      "605:\tlearn: 0.6665677\ttotal: 27.6s\tremaining: 18s\n",
      "606:\tlearn: 0.6665410\ttotal: 27.7s\tremaining: 17.9s\n",
      "607:\tlearn: 0.6665103\ttotal: 27.7s\tremaining: 17.9s\n",
      "608:\tlearn: 0.6664368\ttotal: 27.8s\tremaining: 17.8s\n",
      "609:\tlearn: 0.6663717\ttotal: 27.8s\tremaining: 17.8s\n",
      "610:\tlearn: 0.6663112\ttotal: 27.9s\tremaining: 17.7s\n",
      "611:\tlearn: 0.6662562\ttotal: 27.9s\tremaining: 17.7s\n",
      "612:\tlearn: 0.6661878\ttotal: 28s\tremaining: 17.7s\n",
      "613:\tlearn: 0.6661266\ttotal: 28s\tremaining: 17.6s\n",
      "614:\tlearn: 0.6660967\ttotal: 28.1s\tremaining: 17.6s\n",
      "615:\tlearn: 0.6660528\ttotal: 28.1s\tremaining: 17.5s\n",
      "616:\tlearn: 0.6660206\ttotal: 28.2s\tremaining: 17.5s\n",
      "617:\tlearn: 0.6659537\ttotal: 28.2s\tremaining: 17.4s\n",
      "618:\tlearn: 0.6658898\ttotal: 28.2s\tremaining: 17.4s\n",
      "619:\tlearn: 0.6658594\ttotal: 28.3s\tremaining: 17.3s\n",
      "620:\tlearn: 0.6657982\ttotal: 28.3s\tremaining: 17.3s\n",
      "621:\tlearn: 0.6657360\ttotal: 28.4s\tremaining: 17.2s\n",
      "622:\tlearn: 0.6656751\ttotal: 28.4s\tremaining: 17.2s\n",
      "623:\tlearn: 0.6656077\ttotal: 28.4s\tremaining: 17.1s\n",
      "624:\tlearn: 0.6655558\ttotal: 28.5s\tremaining: 17.1s\n",
      "625:\tlearn: 0.6654780\ttotal: 28.5s\tremaining: 17s\n",
      "626:\tlearn: 0.6654267\ttotal: 28.6s\tremaining: 17s\n",
      "627:\tlearn: 0.6653654\ttotal: 28.6s\tremaining: 16.9s\n",
      "628:\tlearn: 0.6653000\ttotal: 28.7s\tremaining: 16.9s\n",
      "629:\tlearn: 0.6652420\ttotal: 28.7s\tremaining: 16.9s\n",
      "630:\tlearn: 0.6652018\ttotal: 28.8s\tremaining: 16.8s\n",
      "631:\tlearn: 0.6651473\ttotal: 28.8s\tremaining: 16.8s\n",
      "632:\tlearn: 0.6651011\ttotal: 28.9s\tremaining: 16.7s\n",
      "633:\tlearn: 0.6650602\ttotal: 28.9s\tremaining: 16.7s\n",
      "634:\tlearn: 0.6650166\ttotal: 29s\tremaining: 16.6s\n",
      "635:\tlearn: 0.6649558\ttotal: 29s\tremaining: 16.6s\n",
      "636:\tlearn: 0.6649277\ttotal: 29s\tremaining: 16.6s\n",
      "637:\tlearn: 0.6648944\ttotal: 29.1s\tremaining: 16.5s\n",
      "638:\tlearn: 0.6648606\ttotal: 29.1s\tremaining: 16.5s\n",
      "639:\tlearn: 0.6648365\ttotal: 29.2s\tremaining: 16.4s\n",
      "640:\tlearn: 0.6647832\ttotal: 29.2s\tremaining: 16.4s\n",
      "641:\tlearn: 0.6647255\ttotal: 29.3s\tremaining: 16.3s\n",
      "642:\tlearn: 0.6646408\ttotal: 29.3s\tremaining: 16.3s\n"
     ]
    },
    {
     "name": "stdout",
     "output_type": "stream",
     "text": [
      "643:\tlearn: 0.6645950\ttotal: 29.4s\tremaining: 16.2s\n",
      "644:\tlearn: 0.6645233\ttotal: 29.4s\tremaining: 16.2s\n",
      "645:\tlearn: 0.6644736\ttotal: 29.5s\tremaining: 16.2s\n",
      "646:\tlearn: 0.6644357\ttotal: 29.5s\tremaining: 16.1s\n",
      "647:\tlearn: 0.6643686\ttotal: 29.6s\tremaining: 16.1s\n",
      "648:\tlearn: 0.6643140\ttotal: 29.6s\tremaining: 16s\n",
      "649:\tlearn: 0.6642599\ttotal: 29.7s\tremaining: 16s\n",
      "650:\tlearn: 0.6642015\ttotal: 29.7s\tremaining: 15.9s\n",
      "651:\tlearn: 0.6641599\ttotal: 29.8s\tremaining: 15.9s\n",
      "652:\tlearn: 0.6641009\ttotal: 29.8s\tremaining: 15.8s\n",
      "653:\tlearn: 0.6640557\ttotal: 29.9s\tremaining: 15.8s\n",
      "654:\tlearn: 0.6640016\ttotal: 29.9s\tremaining: 15.7s\n",
      "655:\tlearn: 0.6639417\ttotal: 29.9s\tremaining: 15.7s\n",
      "656:\tlearn: 0.6638901\ttotal: 30s\tremaining: 15.6s\n",
      "657:\tlearn: 0.6638439\ttotal: 30s\tremaining: 15.6s\n",
      "658:\tlearn: 0.6637881\ttotal: 30.1s\tremaining: 15.6s\n",
      "659:\tlearn: 0.6637217\ttotal: 30.1s\tremaining: 15.5s\n",
      "660:\tlearn: 0.6636787\ttotal: 30.2s\tremaining: 15.5s\n",
      "661:\tlearn: 0.6636189\ttotal: 30.2s\tremaining: 15.4s\n",
      "662:\tlearn: 0.6635612\ttotal: 30.3s\tremaining: 15.4s\n",
      "663:\tlearn: 0.6634818\ttotal: 30.3s\tremaining: 15.3s\n",
      "664:\tlearn: 0.6634224\ttotal: 30.4s\tremaining: 15.3s\n",
      "665:\tlearn: 0.6633766\ttotal: 30.4s\tremaining: 15.3s\n",
      "666:\tlearn: 0.6633111\ttotal: 30.5s\tremaining: 15.2s\n",
      "667:\tlearn: 0.6632369\ttotal: 30.5s\tremaining: 15.2s\n",
      "668:\tlearn: 0.6631913\ttotal: 30.6s\tremaining: 15.1s\n",
      "669:\tlearn: 0.6630984\ttotal: 30.6s\tremaining: 15.1s\n",
      "670:\tlearn: 0.6630289\ttotal: 30.6s\tremaining: 15s\n",
      "671:\tlearn: 0.6629861\ttotal: 30.7s\tremaining: 15s\n",
      "672:\tlearn: 0.6629582\ttotal: 30.7s\tremaining: 14.9s\n",
      "673:\tlearn: 0.6628911\ttotal: 30.8s\tremaining: 14.9s\n",
      "674:\tlearn: 0.6628479\ttotal: 30.8s\tremaining: 14.8s\n",
      "675:\tlearn: 0.6628133\ttotal: 30.8s\tremaining: 14.8s\n",
      "676:\tlearn: 0.6627715\ttotal: 30.9s\tremaining: 14.7s\n",
      "677:\tlearn: 0.6627065\ttotal: 30.9s\tremaining: 14.7s\n",
      "678:\tlearn: 0.6626663\ttotal: 31s\tremaining: 14.6s\n",
      "679:\tlearn: 0.6626141\ttotal: 31s\tremaining: 14.6s\n",
      "680:\tlearn: 0.6625555\ttotal: 31.1s\tremaining: 14.5s\n",
      "681:\tlearn: 0.6624994\ttotal: 31.1s\tremaining: 14.5s\n",
      "682:\tlearn: 0.6624639\ttotal: 31.1s\tremaining: 14.5s\n",
      "683:\tlearn: 0.6624205\ttotal: 31.2s\tremaining: 14.4s\n",
      "684:\tlearn: 0.6623807\ttotal: 31.2s\tremaining: 14.4s\n",
      "685:\tlearn: 0.6623221\ttotal: 31.3s\tremaining: 14.3s\n",
      "686:\tlearn: 0.6622601\ttotal: 31.3s\tremaining: 14.3s\n",
      "687:\tlearn: 0.6621988\ttotal: 31.4s\tremaining: 14.2s\n",
      "688:\tlearn: 0.6621353\ttotal: 31.4s\tremaining: 14.2s\n",
      "689:\tlearn: 0.6620620\ttotal: 31.5s\tremaining: 14.1s\n",
      "690:\tlearn: 0.6620052\ttotal: 31.5s\tremaining: 14.1s\n",
      "691:\tlearn: 0.6619646\ttotal: 31.6s\tremaining: 14.1s\n",
      "692:\tlearn: 0.6619115\ttotal: 31.6s\tremaining: 14s\n",
      "693:\tlearn: 0.6618568\ttotal: 31.7s\tremaining: 14s\n",
      "694:\tlearn: 0.6617885\ttotal: 31.7s\tremaining: 13.9s\n",
      "695:\tlearn: 0.6617500\ttotal: 31.8s\tremaining: 13.9s\n",
      "696:\tlearn: 0.6616725\ttotal: 31.8s\tremaining: 13.8s\n",
      "697:\tlearn: 0.6616046\ttotal: 31.9s\tremaining: 13.8s\n",
      "698:\tlearn: 0.6615600\ttotal: 31.9s\tremaining: 13.7s\n",
      "699:\tlearn: 0.6615327\ttotal: 31.9s\tremaining: 13.7s\n",
      "700:\tlearn: 0.6614855\ttotal: 32s\tremaining: 13.6s\n",
      "701:\tlearn: 0.6614271\ttotal: 32s\tremaining: 13.6s\n",
      "702:\tlearn: 0.6613813\ttotal: 32.1s\tremaining: 13.6s\n",
      "703:\tlearn: 0.6613477\ttotal: 32.1s\tremaining: 13.5s\n",
      "704:\tlearn: 0.6613027\ttotal: 32.2s\tremaining: 13.5s\n",
      "705:\tlearn: 0.6612659\ttotal: 32.2s\tremaining: 13.4s\n",
      "706:\tlearn: 0.6611864\ttotal: 32.2s\tremaining: 13.4s\n",
      "707:\tlearn: 0.6611183\ttotal: 32.3s\tremaining: 13.3s\n",
      "708:\tlearn: 0.6610902\ttotal: 32.3s\tremaining: 13.3s\n",
      "709:\tlearn: 0.6610512\ttotal: 32.4s\tremaining: 13.2s\n",
      "710:\tlearn: 0.6609905\ttotal: 32.4s\tremaining: 13.2s\n",
      "711:\tlearn: 0.6609373\ttotal: 32.5s\tremaining: 13.1s\n",
      "712:\tlearn: 0.6608646\ttotal: 32.5s\tremaining: 13.1s\n",
      "713:\tlearn: 0.6608247\ttotal: 32.6s\tremaining: 13s\n",
      "714:\tlearn: 0.6607624\ttotal: 32.6s\tremaining: 13s\n",
      "715:\tlearn: 0.6607081\ttotal: 32.7s\tremaining: 13s\n",
      "716:\tlearn: 0.6606433\ttotal: 32.7s\tremaining: 12.9s\n",
      "717:\tlearn: 0.6605773\ttotal: 32.8s\tremaining: 12.9s\n",
      "718:\tlearn: 0.6605424\ttotal: 32.8s\tremaining: 12.8s\n",
      "719:\tlearn: 0.6604822\ttotal: 32.9s\tremaining: 12.8s\n",
      "720:\tlearn: 0.6604162\ttotal: 32.9s\tremaining: 12.7s\n",
      "721:\tlearn: 0.6603712\ttotal: 33s\tremaining: 12.7s\n",
      "722:\tlearn: 0.6603301\ttotal: 33s\tremaining: 12.7s\n",
      "723:\tlearn: 0.6602863\ttotal: 33.1s\tremaining: 12.6s\n",
      "724:\tlearn: 0.6602431\ttotal: 33.1s\tremaining: 12.6s\n",
      "725:\tlearn: 0.6601836\ttotal: 33.2s\tremaining: 12.5s\n",
      "726:\tlearn: 0.6601263\ttotal: 33.2s\tremaining: 12.5s\n",
      "727:\tlearn: 0.6600692\ttotal: 33.3s\tremaining: 12.4s\n",
      "728:\tlearn: 0.6600126\ttotal: 33.3s\tremaining: 12.4s\n",
      "729:\tlearn: 0.6599660\ttotal: 33.3s\tremaining: 12.3s\n",
      "730:\tlearn: 0.6599432\ttotal: 33.4s\tremaining: 12.3s\n",
      "731:\tlearn: 0.6598878\ttotal: 33.4s\tremaining: 12.2s\n",
      "732:\tlearn: 0.6598312\ttotal: 33.5s\tremaining: 12.2s\n",
      "733:\tlearn: 0.6597744\ttotal: 33.5s\tremaining: 12.1s\n",
      "734:\tlearn: 0.6597380\ttotal: 33.6s\tremaining: 12.1s\n",
      "735:\tlearn: 0.6597102\ttotal: 33.6s\tremaining: 12.1s\n",
      "736:\tlearn: 0.6596591\ttotal: 33.6s\tremaining: 12s\n",
      "737:\tlearn: 0.6596021\ttotal: 33.7s\tremaining: 12s\n",
      "738:\tlearn: 0.6595725\ttotal: 33.7s\tremaining: 11.9s\n",
      "739:\tlearn: 0.6595402\ttotal: 33.8s\tremaining: 11.9s\n",
      "740:\tlearn: 0.6594815\ttotal: 33.8s\tremaining: 11.8s\n",
      "741:\tlearn: 0.6594233\ttotal: 33.9s\tremaining: 11.8s\n",
      "742:\tlearn: 0.6593829\ttotal: 33.9s\tremaining: 11.7s\n",
      "743:\tlearn: 0.6593330\ttotal: 33.9s\tremaining: 11.7s\n",
      "744:\tlearn: 0.6592586\ttotal: 34s\tremaining: 11.6s\n",
      "745:\tlearn: 0.6592003\ttotal: 34s\tremaining: 11.6s\n",
      "746:\tlearn: 0.6591365\ttotal: 34.1s\tremaining: 11.5s\n",
      "747:\tlearn: 0.6591028\ttotal: 34.1s\tremaining: 11.5s\n",
      "748:\tlearn: 0.6590765\ttotal: 34.1s\tremaining: 11.4s\n",
      "749:\tlearn: 0.6590398\ttotal: 34.2s\tremaining: 11.4s\n",
      "750:\tlearn: 0.6589956\ttotal: 34.2s\tremaining: 11.3s\n",
      "751:\tlearn: 0.6589402\ttotal: 34.3s\tremaining: 11.3s\n",
      "752:\tlearn: 0.6589026\ttotal: 34.3s\tremaining: 11.3s\n",
      "753:\tlearn: 0.6588858\ttotal: 34.4s\tremaining: 11.2s\n",
      "754:\tlearn: 0.6588386\ttotal: 34.4s\tremaining: 11.2s\n",
      "755:\tlearn: 0.6588155\ttotal: 34.5s\tremaining: 11.1s\n",
      "756:\tlearn: 0.6587358\ttotal: 34.5s\tremaining: 11.1s\n",
      "757:\tlearn: 0.6586826\ttotal: 34.6s\tremaining: 11s\n",
      "758:\tlearn: 0.6586231\ttotal: 34.6s\tremaining: 11s\n",
      "759:\tlearn: 0.6585932\ttotal: 34.7s\tremaining: 10.9s\n",
      "760:\tlearn: 0.6585273\ttotal: 34.7s\tremaining: 10.9s\n",
      "761:\tlearn: 0.6584567\ttotal: 34.7s\tremaining: 10.9s\n",
      "762:\tlearn: 0.6583982\ttotal: 34.8s\tremaining: 10.8s\n",
      "763:\tlearn: 0.6583366\ttotal: 34.8s\tremaining: 10.8s\n",
      "764:\tlearn: 0.6582725\ttotal: 34.9s\tremaining: 10.7s\n",
      "765:\tlearn: 0.6582211\ttotal: 34.9s\tremaining: 10.7s\n",
      "766:\tlearn: 0.6581835\ttotal: 35s\tremaining: 10.6s\n",
      "767:\tlearn: 0.6581379\ttotal: 35s\tremaining: 10.6s\n",
      "768:\tlearn: 0.6580737\ttotal: 35s\tremaining: 10.5s\n",
      "769:\tlearn: 0.6580056\ttotal: 35.1s\tremaining: 10.5s\n",
      "770:\tlearn: 0.6579685\ttotal: 35.1s\tremaining: 10.4s\n",
      "771:\tlearn: 0.6579308\ttotal: 35.2s\tremaining: 10.4s\n",
      "772:\tlearn: 0.6578733\ttotal: 35.2s\tremaining: 10.3s\n",
      "773:\tlearn: 0.6578391\ttotal: 35.3s\tremaining: 10.3s\n",
      "774:\tlearn: 0.6577594\ttotal: 35.3s\tremaining: 10.3s\n",
      "775:\tlearn: 0.6577129\ttotal: 35.3s\tremaining: 10.2s\n",
      "776:\tlearn: 0.6576385\ttotal: 35.4s\tremaining: 10.2s\n",
      "777:\tlearn: 0.6576108\ttotal: 35.4s\tremaining: 10.1s\n",
      "778:\tlearn: 0.6575723\ttotal: 35.5s\tremaining: 10.1s\n",
      "779:\tlearn: 0.6574968\ttotal: 35.5s\tremaining: 10s\n",
      "780:\tlearn: 0.6574589\ttotal: 35.6s\tremaining: 9.97s\n",
      "781:\tlearn: 0.6574101\ttotal: 35.6s\tremaining: 9.92s\n",
      "782:\tlearn: 0.6573633\ttotal: 35.6s\tremaining: 9.88s\n",
      "783:\tlearn: 0.6573234\ttotal: 35.7s\tremaining: 9.83s\n",
      "784:\tlearn: 0.6572888\ttotal: 35.7s\tremaining: 9.79s\n",
      "785:\tlearn: 0.6572192\ttotal: 35.8s\tremaining: 9.74s\n",
      "786:\tlearn: 0.6571427\ttotal: 35.8s\tremaining: 9.69s\n",
      "787:\tlearn: 0.6570902\ttotal: 35.9s\tremaining: 9.65s\n",
      "788:\tlearn: 0.6570493\ttotal: 35.9s\tremaining: 9.6s\n",
      "789:\tlearn: 0.6570018\ttotal: 36s\tremaining: 9.56s\n",
      "790:\tlearn: 0.6569601\ttotal: 36s\tremaining: 9.51s\n",
      "791:\tlearn: 0.6569246\ttotal: 36s\tremaining: 9.47s\n",
      "792:\tlearn: 0.6568594\ttotal: 36.1s\tremaining: 9.42s\n",
      "793:\tlearn: 0.6567917\ttotal: 36.1s\tremaining: 9.37s\n",
      "794:\tlearn: 0.6567407\ttotal: 36.2s\tremaining: 9.33s\n",
      "795:\tlearn: 0.6566901\ttotal: 36.2s\tremaining: 9.28s\n",
      "796:\tlearn: 0.6566565\ttotal: 36.3s\tremaining: 9.23s\n",
      "797:\tlearn: 0.6566310\ttotal: 36.3s\tremaining: 9.19s\n",
      "798:\tlearn: 0.6565671\ttotal: 36.3s\tremaining: 9.14s\n",
      "799:\tlearn: 0.6565003\ttotal: 36.4s\tremaining: 9.1s\n",
      "800:\tlearn: 0.6564545\ttotal: 36.4s\tremaining: 9.05s\n",
      "801:\tlearn: 0.6563822\ttotal: 36.5s\tremaining: 9.01s\n",
      "802:\tlearn: 0.6563289\ttotal: 36.5s\tremaining: 8.96s\n",
      "803:\tlearn: 0.6562729\ttotal: 36.6s\tremaining: 8.91s\n"
     ]
    },
    {
     "name": "stdout",
     "output_type": "stream",
     "text": [
      "804:\tlearn: 0.6562149\ttotal: 36.6s\tremaining: 8.87s\n",
      "805:\tlearn: 0.6561657\ttotal: 36.6s\tremaining: 8.82s\n",
      "806:\tlearn: 0.6561199\ttotal: 36.7s\tremaining: 8.77s\n",
      "807:\tlearn: 0.6560622\ttotal: 36.7s\tremaining: 8.73s\n",
      "808:\tlearn: 0.6559984\ttotal: 36.8s\tremaining: 8.68s\n",
      "809:\tlearn: 0.6559347\ttotal: 36.8s\tremaining: 8.64s\n",
      "810:\tlearn: 0.6558845\ttotal: 36.9s\tremaining: 8.59s\n",
      "811:\tlearn: 0.6558190\ttotal: 36.9s\tremaining: 8.55s\n",
      "812:\tlearn: 0.6557811\ttotal: 37s\tremaining: 8.5s\n",
      "813:\tlearn: 0.6557196\ttotal: 37s\tremaining: 8.46s\n",
      "814:\tlearn: 0.6556394\ttotal: 37.1s\tremaining: 8.41s\n",
      "815:\tlearn: 0.6555789\ttotal: 37.1s\tremaining: 8.37s\n",
      "816:\tlearn: 0.6555256\ttotal: 37.1s\tremaining: 8.32s\n",
      "817:\tlearn: 0.6554639\ttotal: 37.2s\tremaining: 8.27s\n",
      "818:\tlearn: 0.6553987\ttotal: 37.2s\tremaining: 8.22s\n",
      "819:\tlearn: 0.6553589\ttotal: 37.3s\tremaining: 8.18s\n",
      "820:\tlearn: 0.6553136\ttotal: 37.3s\tremaining: 8.13s\n",
      "821:\tlearn: 0.6552372\ttotal: 37.4s\tremaining: 8.09s\n",
      "822:\tlearn: 0.6551991\ttotal: 37.4s\tremaining: 8.04s\n",
      "823:\tlearn: 0.6551629\ttotal: 37.5s\tremaining: 8s\n",
      "824:\tlearn: 0.6551063\ttotal: 37.5s\tremaining: 7.95s\n",
      "825:\tlearn: 0.6550160\ttotal: 37.5s\tremaining: 7.91s\n",
      "826:\tlearn: 0.6549699\ttotal: 37.6s\tremaining: 7.86s\n",
      "827:\tlearn: 0.6549196\ttotal: 37.6s\tremaining: 7.82s\n",
      "828:\tlearn: 0.6548577\ttotal: 37.7s\tremaining: 7.77s\n",
      "829:\tlearn: 0.6547986\ttotal: 37.7s\tremaining: 7.72s\n",
      "830:\tlearn: 0.6547534\ttotal: 37.8s\tremaining: 7.68s\n",
      "831:\tlearn: 0.6547054\ttotal: 37.8s\tremaining: 7.63s\n",
      "832:\tlearn: 0.6546551\ttotal: 37.8s\tremaining: 7.58s\n",
      "833:\tlearn: 0.6546135\ttotal: 37.9s\tremaining: 7.54s\n",
      "834:\tlearn: 0.6545780\ttotal: 37.9s\tremaining: 7.49s\n",
      "835:\tlearn: 0.6545194\ttotal: 38s\tremaining: 7.45s\n",
      "836:\tlearn: 0.6544595\ttotal: 38s\tremaining: 7.4s\n",
      "837:\tlearn: 0.6544219\ttotal: 38s\tremaining: 7.36s\n",
      "838:\tlearn: 0.6543797\ttotal: 38.1s\tremaining: 7.31s\n",
      "839:\tlearn: 0.6543245\ttotal: 38.1s\tremaining: 7.26s\n",
      "840:\tlearn: 0.6542795\ttotal: 38.2s\tremaining: 7.22s\n",
      "841:\tlearn: 0.6542511\ttotal: 38.2s\tremaining: 7.17s\n",
      "842:\tlearn: 0.6542016\ttotal: 38.3s\tremaining: 7.13s\n",
      "843:\tlearn: 0.6541752\ttotal: 38.3s\tremaining: 7.08s\n",
      "844:\tlearn: 0.6541196\ttotal: 38.4s\tremaining: 7.04s\n",
      "845:\tlearn: 0.6540539\ttotal: 38.4s\tremaining: 6.99s\n",
      "846:\tlearn: 0.6540148\ttotal: 38.5s\tremaining: 6.95s\n",
      "847:\tlearn: 0.6539695\ttotal: 38.5s\tremaining: 6.9s\n",
      "848:\tlearn: 0.6538985\ttotal: 38.5s\tremaining: 6.86s\n",
      "849:\tlearn: 0.6538258\ttotal: 38.6s\tremaining: 6.81s\n",
      "850:\tlearn: 0.6537596\ttotal: 38.6s\tremaining: 6.76s\n",
      "851:\tlearn: 0.6536999\ttotal: 38.7s\tremaining: 6.72s\n",
      "852:\tlearn: 0.6536445\ttotal: 38.7s\tremaining: 6.67s\n",
      "853:\tlearn: 0.6535921\ttotal: 38.8s\tremaining: 6.63s\n",
      "854:\tlearn: 0.6535368\ttotal: 38.8s\tremaining: 6.58s\n",
      "855:\tlearn: 0.6534769\ttotal: 38.9s\tremaining: 6.54s\n",
      "856:\tlearn: 0.6534429\ttotal: 38.9s\tremaining: 6.49s\n",
      "857:\tlearn: 0.6533751\ttotal: 39s\tremaining: 6.45s\n",
      "858:\tlearn: 0.6533444\ttotal: 39s\tremaining: 6.4s\n",
      "859:\tlearn: 0.6533018\ttotal: 39s\tremaining: 6.36s\n",
      "860:\tlearn: 0.6532664\ttotal: 39.1s\tremaining: 6.31s\n",
      "861:\tlearn: 0.6532266\ttotal: 39.1s\tremaining: 6.26s\n",
      "862:\tlearn: 0.6531468\ttotal: 39.2s\tremaining: 6.22s\n",
      "863:\tlearn: 0.6531112\ttotal: 39.2s\tremaining: 6.17s\n",
      "864:\tlearn: 0.6530666\ttotal: 39.2s\tremaining: 6.12s\n",
      "865:\tlearn: 0.6529971\ttotal: 39.3s\tremaining: 6.08s\n",
      "866:\tlearn: 0.6529611\ttotal: 39.3s\tremaining: 6.03s\n",
      "867:\tlearn: 0.6529104\ttotal: 39.4s\tremaining: 5.99s\n",
      "868:\tlearn: 0.6528688\ttotal: 39.4s\tremaining: 5.94s\n",
      "869:\tlearn: 0.6528212\ttotal: 39.5s\tremaining: 5.9s\n",
      "870:\tlearn: 0.6527636\ttotal: 39.5s\tremaining: 5.85s\n",
      "871:\tlearn: 0.6527176\ttotal: 39.6s\tremaining: 5.81s\n",
      "872:\tlearn: 0.6526549\ttotal: 39.6s\tremaining: 5.76s\n",
      "873:\tlearn: 0.6526126\ttotal: 39.6s\tremaining: 5.72s\n",
      "874:\tlearn: 0.6525714\ttotal: 39.7s\tremaining: 5.67s\n",
      "875:\tlearn: 0.6524986\ttotal: 39.7s\tremaining: 5.62s\n",
      "876:\tlearn: 0.6524362\ttotal: 39.8s\tremaining: 5.58s\n",
      "877:\tlearn: 0.6523922\ttotal: 39.8s\tremaining: 5.53s\n",
      "878:\tlearn: 0.6523149\ttotal: 39.9s\tremaining: 5.49s\n",
      "879:\tlearn: 0.6522756\ttotal: 39.9s\tremaining: 5.44s\n",
      "880:\tlearn: 0.6522092\ttotal: 40s\tremaining: 5.4s\n",
      "881:\tlearn: 0.6521762\ttotal: 40s\tremaining: 5.35s\n",
      "882:\tlearn: 0.6521063\ttotal: 40s\tremaining: 5.31s\n",
      "883:\tlearn: 0.6520686\ttotal: 40.1s\tremaining: 5.26s\n",
      "884:\tlearn: 0.6520392\ttotal: 40.1s\tremaining: 5.22s\n",
      "885:\tlearn: 0.6519854\ttotal: 40.2s\tremaining: 5.17s\n",
      "886:\tlearn: 0.6519324\ttotal: 40.2s\tremaining: 5.13s\n",
      "887:\tlearn: 0.6518847\ttotal: 40.3s\tremaining: 5.08s\n",
      "888:\tlearn: 0.6518346\ttotal: 40.3s\tremaining: 5.03s\n",
      "889:\tlearn: 0.6517892\ttotal: 40.4s\tremaining: 4.99s\n",
      "890:\tlearn: 0.6517384\ttotal: 40.4s\tremaining: 4.94s\n",
      "891:\tlearn: 0.6516815\ttotal: 40.5s\tremaining: 4.9s\n",
      "892:\tlearn: 0.6515896\ttotal: 40.5s\tremaining: 4.86s\n",
      "893:\tlearn: 0.6515469\ttotal: 40.6s\tremaining: 4.81s\n",
      "894:\tlearn: 0.6514933\ttotal: 40.6s\tremaining: 4.76s\n",
      "895:\tlearn: 0.6514575\ttotal: 40.6s\tremaining: 4.72s\n",
      "896:\tlearn: 0.6514183\ttotal: 40.7s\tremaining: 4.67s\n",
      "897:\tlearn: 0.6513772\ttotal: 40.7s\tremaining: 4.63s\n",
      "898:\tlearn: 0.6513336\ttotal: 40.8s\tremaining: 4.58s\n",
      "899:\tlearn: 0.6512961\ttotal: 40.8s\tremaining: 4.54s\n",
      "900:\tlearn: 0.6512250\ttotal: 40.9s\tremaining: 4.49s\n",
      "901:\tlearn: 0.6511979\ttotal: 40.9s\tremaining: 4.45s\n",
      "902:\tlearn: 0.6511495\ttotal: 41s\tremaining: 4.4s\n",
      "903:\tlearn: 0.6510993\ttotal: 41s\tremaining: 4.36s\n",
      "904:\tlearn: 0.6510476\ttotal: 41.1s\tremaining: 4.31s\n",
      "905:\tlearn: 0.6510117\ttotal: 41.1s\tremaining: 4.27s\n",
      "906:\tlearn: 0.6509665\ttotal: 41.2s\tremaining: 4.22s\n",
      "907:\tlearn: 0.6509020\ttotal: 41.2s\tremaining: 4.18s\n",
      "908:\tlearn: 0.6508473\ttotal: 41.3s\tremaining: 4.13s\n",
      "909:\tlearn: 0.6507853\ttotal: 41.3s\tremaining: 4.09s\n",
      "910:\tlearn: 0.6507549\ttotal: 41.4s\tremaining: 4.04s\n",
      "911:\tlearn: 0.6507283\ttotal: 41.4s\tremaining: 4s\n",
      "912:\tlearn: 0.6506735\ttotal: 41.5s\tremaining: 3.95s\n",
      "913:\tlearn: 0.6506567\ttotal: 41.5s\tremaining: 3.9s\n",
      "914:\tlearn: 0.6505992\ttotal: 41.5s\tremaining: 3.86s\n",
      "915:\tlearn: 0.6505595\ttotal: 41.6s\tremaining: 3.81s\n",
      "916:\tlearn: 0.6505002\ttotal: 41.6s\tremaining: 3.77s\n",
      "917:\tlearn: 0.6504318\ttotal: 41.7s\tremaining: 3.73s\n",
      "918:\tlearn: 0.6503691\ttotal: 41.8s\tremaining: 3.68s\n",
      "919:\tlearn: 0.6503369\ttotal: 41.8s\tremaining: 3.63s\n",
      "920:\tlearn: 0.6503040\ttotal: 41.8s\tremaining: 3.59s\n",
      "921:\tlearn: 0.6502440\ttotal: 41.9s\tremaining: 3.54s\n",
      "922:\tlearn: 0.6501950\ttotal: 41.9s\tremaining: 3.5s\n",
      "923:\tlearn: 0.6501411\ttotal: 42s\tremaining: 3.45s\n",
      "924:\tlearn: 0.6501076\ttotal: 42s\tremaining: 3.41s\n",
      "925:\tlearn: 0.6500425\ttotal: 42.1s\tremaining: 3.36s\n",
      "926:\tlearn: 0.6499583\ttotal: 42.2s\tremaining: 3.32s\n",
      "927:\tlearn: 0.6499175\ttotal: 42.2s\tremaining: 3.27s\n",
      "928:\tlearn: 0.6498644\ttotal: 42.2s\tremaining: 3.23s\n",
      "929:\tlearn: 0.6498095\ttotal: 42.3s\tremaining: 3.18s\n",
      "930:\tlearn: 0.6497493\ttotal: 42.4s\tremaining: 3.14s\n",
      "931:\tlearn: 0.6497059\ttotal: 42.4s\tremaining: 3.09s\n",
      "932:\tlearn: 0.6496637\ttotal: 42.5s\tremaining: 3.05s\n",
      "933:\tlearn: 0.6496419\ttotal: 42.5s\tremaining: 3s\n",
      "934:\tlearn: 0.6496111\ttotal: 42.6s\tremaining: 2.96s\n",
      "935:\tlearn: 0.6495814\ttotal: 42.6s\tremaining: 2.91s\n",
      "936:\tlearn: 0.6495341\ttotal: 42.7s\tremaining: 2.87s\n",
      "937:\tlearn: 0.6495034\ttotal: 42.7s\tremaining: 2.82s\n",
      "938:\tlearn: 0.6494609\ttotal: 42.8s\tremaining: 2.78s\n",
      "939:\tlearn: 0.6494117\ttotal: 42.8s\tremaining: 2.73s\n",
      "940:\tlearn: 0.6493732\ttotal: 42.8s\tremaining: 2.69s\n",
      "941:\tlearn: 0.6493127\ttotal: 42.9s\tremaining: 2.64s\n",
      "942:\tlearn: 0.6492727\ttotal: 42.9s\tremaining: 2.6s\n",
      "943:\tlearn: 0.6492200\ttotal: 43s\tremaining: 2.55s\n",
      "944:\tlearn: 0.6491622\ttotal: 43s\tremaining: 2.5s\n",
      "945:\tlearn: 0.6491018\ttotal: 43.1s\tremaining: 2.46s\n",
      "946:\tlearn: 0.6490497\ttotal: 43.1s\tremaining: 2.41s\n",
      "947:\tlearn: 0.6489929\ttotal: 43.2s\tremaining: 2.37s\n",
      "948:\tlearn: 0.6489470\ttotal: 43.2s\tremaining: 2.32s\n",
      "949:\tlearn: 0.6488909\ttotal: 43.3s\tremaining: 2.28s\n",
      "950:\tlearn: 0.6488415\ttotal: 43.3s\tremaining: 2.23s\n",
      "951:\tlearn: 0.6488057\ttotal: 43.4s\tremaining: 2.19s\n",
      "952:\tlearn: 0.6487590\ttotal: 43.4s\tremaining: 2.14s\n",
      "953:\tlearn: 0.6487125\ttotal: 43.4s\tremaining: 2.09s\n",
      "954:\tlearn: 0.6486580\ttotal: 43.5s\tremaining: 2.05s\n",
      "955:\tlearn: 0.6486182\ttotal: 43.5s\tremaining: 2s\n",
      "956:\tlearn: 0.6485865\ttotal: 43.6s\tremaining: 1.96s\n",
      "957:\tlearn: 0.6485551\ttotal: 43.6s\tremaining: 1.91s\n",
      "958:\tlearn: 0.6484854\ttotal: 43.7s\tremaining: 1.87s\n",
      "959:\tlearn: 0.6484262\ttotal: 43.7s\tremaining: 1.82s\n",
      "960:\tlearn: 0.6483807\ttotal: 43.8s\tremaining: 1.78s\n",
      "961:\tlearn: 0.6483330\ttotal: 43.8s\tremaining: 1.73s\n",
      "962:\tlearn: 0.6482638\ttotal: 43.9s\tremaining: 1.69s\n"
     ]
    },
    {
     "name": "stdout",
     "output_type": "stream",
     "text": [
      "963:\tlearn: 0.6482051\ttotal: 43.9s\tremaining: 1.64s\n",
      "964:\tlearn: 0.6481535\ttotal: 44s\tremaining: 1.59s\n",
      "965:\tlearn: 0.6480697\ttotal: 44s\tremaining: 1.55s\n",
      "966:\tlearn: 0.6480163\ttotal: 44s\tremaining: 1.5s\n",
      "967:\tlearn: 0.6479679\ttotal: 44.1s\tremaining: 1.46s\n",
      "968:\tlearn: 0.6479318\ttotal: 44.1s\tremaining: 1.41s\n",
      "969:\tlearn: 0.6478763\ttotal: 44.2s\tremaining: 1.37s\n",
      "970:\tlearn: 0.6478309\ttotal: 44.2s\tremaining: 1.32s\n",
      "971:\tlearn: 0.6477866\ttotal: 44.3s\tremaining: 1.27s\n",
      "972:\tlearn: 0.6477339\ttotal: 44.3s\tremaining: 1.23s\n",
      "973:\tlearn: 0.6476902\ttotal: 44.4s\tremaining: 1.18s\n",
      "974:\tlearn: 0.6476420\ttotal: 44.4s\tremaining: 1.14s\n",
      "975:\tlearn: 0.6475980\ttotal: 44.5s\tremaining: 1.09s\n",
      "976:\tlearn: 0.6475468\ttotal: 44.5s\tremaining: 1.05s\n",
      "977:\tlearn: 0.6474836\ttotal: 44.6s\tremaining: 1s\n",
      "978:\tlearn: 0.6474135\ttotal: 44.6s\tremaining: 957ms\n",
      "979:\tlearn: 0.6473834\ttotal: 44.6s\tremaining: 911ms\n",
      "980:\tlearn: 0.6473246\ttotal: 44.7s\tremaining: 865ms\n",
      "981:\tlearn: 0.6472825\ttotal: 44.7s\tremaining: 820ms\n",
      "982:\tlearn: 0.6472467\ttotal: 44.8s\tremaining: 775ms\n",
      "983:\tlearn: 0.6472174\ttotal: 44.8s\tremaining: 729ms\n",
      "984:\tlearn: 0.6471601\ttotal: 44.9s\tremaining: 683ms\n",
      "985:\tlearn: 0.6471248\ttotal: 44.9s\tremaining: 638ms\n",
      "986:\tlearn: 0.6470874\ttotal: 45s\tremaining: 592ms\n",
      "987:\tlearn: 0.6470502\ttotal: 45s\tremaining: 547ms\n",
      "988:\tlearn: 0.6470006\ttotal: 45.1s\tremaining: 501ms\n",
      "989:\tlearn: 0.6469507\ttotal: 45.1s\tremaining: 456ms\n",
      "990:\tlearn: 0.6468895\ttotal: 45.1s\tremaining: 410ms\n",
      "991:\tlearn: 0.6468650\ttotal: 45.2s\tremaining: 364ms\n",
      "992:\tlearn: 0.6468286\ttotal: 45.2s\tremaining: 319ms\n",
      "993:\tlearn: 0.6467872\ttotal: 45.3s\tremaining: 273ms\n",
      "994:\tlearn: 0.6467483\ttotal: 45.3s\tremaining: 228ms\n",
      "995:\tlearn: 0.6466983\ttotal: 45.4s\tremaining: 182ms\n",
      "996:\tlearn: 0.6466395\ttotal: 45.4s\tremaining: 137ms\n",
      "997:\tlearn: 0.6465697\ttotal: 45.5s\tremaining: 91.1ms\n",
      "998:\tlearn: 0.6465184\ttotal: 45.5s\tremaining: 45.6ms\n",
      "999:\tlearn: 0.6464656\ttotal: 45.6s\tremaining: 0us\n",
      "Accuracy on train: 0.7290344281327648\n",
      "Accuracy on test: 0.6978404516570039\n"
     ]
    }
   ],
   "source": [
    "catclf = CatBoostClassifier(random_state = 41)\n",
    "catclf.fit(X_train,y_train)\n",
    "\n",
    "print('Accuracy on train:',catclf.score(X_train,y_train))\n",
    "print('Accuracy on test:',catclf.score(X_test,y_test))"
   ]
  },
  {
   "cell_type": "code",
   "execution_count": 77,
   "metadata": {},
   "outputs": [],
   "source": [
    "test_X = test.iloc[:,1:11].values\n",
    "test_y = catclf.predict(test_X)\n",
    "\n",
    "sub_ada = pd.DataFrame()\n",
    "sub_ada['Trip_ID'] = submission['Trip_ID']\n",
    "sub_ada['Surge_Pricing_Type'] = test_y\n",
    "sub_ada.to_csv('cat_default_New_Data.csv',index = False)"
   ]
  },
  {
   "cell_type": "code",
   "execution_count": 78,
   "metadata": {
    "scrolled": true
   },
   "outputs": [
    {
     "data": {
      "text/plain": [
       "<BarContainer object of 10 artists>"
      ]
     },
     "execution_count": 78,
     "metadata": {},
     "output_type": "execute_result"
    },
    {
     "data": {
      "image/png": "[encoded data removed]",
      "text/plain": [
       "<Figure size 432x288 with 1 Axes>"
      ]
     },
     "metadata": {
      "needs_background": "light"
     },
     "output_type": "display_data"
    }
   ],
   "source": [
    "fimp = pd.DataFrame(zip(train.drop(['Surge_Pricing_Type','Trip_ID'],axis = 1).columns,catclf.feature_importances_))\n",
    "fimp.columns = ['features','Score']\n",
    "\n",
    "sfimp =fimp.sort_values(by = 'Score')\n",
    "\n",
    "plt.barh(sfimp['features'],sfimp['Score'])"
   ]
  },
  {
   "cell_type": "code",
   "execution_count": 79,
   "metadata": {},
   "outputs": [
    {
     "name": "stdout",
     "output_type": "stream",
     "text": [
      "Accuracy on train: 0.7112507188351074\n",
      "Accuracy on test: 0.6989290868123244\n"
     ]
    }
   ],
   "source": [
    "lgbclf = LGBMClassifier(random_state = 41)\n",
    "lgbclf.fit(X_train,y_train)\n",
    "\n",
    "print('Accuracy on train:',lgbclf.score(X_train,y_train))\n",
    "print('Accuracy on test:',lgbclf.score(X_test,y_test))"
   ]
  },
  {
   "cell_type": "code",
   "execution_count": 80,
   "metadata": {},
   "outputs": [],
   "source": [
    "test_X = test.iloc[:,1:12].values\n",
    "test_y = lgbclf.predict(test_X)\n",
    "\n",
    "sub_ada = pd.DataFrame()\n",
    "sub_ada['Trip_ID'] = submission['Trip_ID']\n",
    "sub_ada['Surge_Pricing_Type'] = test_y\n",
    "sub_ada.to_csv('LightGBM_default_New_Data.csv',index = False)"
   ]
  },
  {
   "cell_type": "code",
   "execution_count": 81,
   "metadata": {},
   "outputs": [
    {
     "data": {
      "text/plain": [
       "<BarContainer object of 10 artists>"
      ]
     },
     "execution_count": 81,
     "metadata": {},
     "output_type": "execute_result"
    },
    {
     "data": {
      "image/png": "[encoded data removed]",
      "text/plain": [
       "<Figure size 432x288 with 1 Axes>"
      ]
     },
     "metadata": {
      "needs_background": "light"
     },
     "output_type": "display_data"
    }
   ],
   "source": [
    "fimp = pd.DataFrame(zip(train.drop(['Surge_Pricing_Type','Trip_ID'],axis = 1).columns,lgbclf.feature_importances_))\n",
    "fimp.columns = ['features','Score']\n",
    "\n",
    "sfimp =fimp.sort_values(by = 'Score')\n",
    "\n",
    "plt.barh(sfimp['features'],sfimp['Score'])"
   ]
  }
 ],
 "metadata": {
  "kernelspec": {
   "display_name": "Python 3",
   "language": "python",
   "name": "python3"
  },
  "language_info": {
   "codemirror_mode": {
    "name": "ipython",
    "version": 3
   },
   "file_extension": ".py",
   "mimetype": "text/x-python",
   "name": "python",
   "nbconvert_exporter": "python",
   "pygments_lexer": "ipython3",
   "version": "3.7.6"
  }
 },
 "nbformat": 4,
 "nbformat_minor": 4
}
